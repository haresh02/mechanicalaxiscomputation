{
 "cells": [
  {
   "cell_type": "markdown",
   "id": "6d034b8f",
   "metadata": {},
   "source": [
    "# Knee Joint Center Analysis - Anatomical Landmark Method\n",
    "\n",
    "This notebook analyzes knee joint biomechanics using anatomical bone landmarks (not cluster markers).\n",
    "\n",
    "## Data Structure\n",
    "- Input: CSV files from motion capture system with anatomical markers\n",
    "- Location: `data/*_Bone Model.csv` files\n",
    "\n",
    "## Anatomical Markers Used\n",
    "\n",
    "### Thigh/Femur Markers:\n",
    "- MFEC: Medial Femoral Epicondyle\n",
    "- LFEC: Lateral Femoral Epicondyle\n",
    "- FH: Femoral Head\n",
    "- MC: Greater Trochanter/Medial Condyle\n",
    "\n",
    "### Shin/Tibia Markers:\n",
    "- MTC: Medial Tibial Condyle\n",
    "- LTC: Lateral Tibial Condyle\n",
    "- uTD: Upper Tibia (Tuberosity)\n",
    "- MM: Medial Malleolus (ankle)\n",
    "- LM: Lateral Malleolus (ankle)\n",
    "\n",
    "## Methods by Trial Type\n",
    "- Static trials: Knee joint center (COR) is defined anatomically as the midpoint between MFEC and LFEC (averaged across frames to reduce noise). Sphere fitting is not used for static data.\n",
    "- Dynamic trials: COR is estimated by sphere fitting the epicondyle trajectories (functional method).\n",
    "\n",
    "  ## Coordinate Systems\n",
    "\n",
    "  To analyze the knee's motion, we define local coordinate systems fixed to\n",
    "  the thigh (femur) and shin (tibia) segments. These frames move with each\n",
    "  bone and let us express the knee joint center in anatomically meaningful\n",
    "  directions. The origin and axes are recomputed at every frame from the 3D\n",
    "  marker positions.\n",
    "\n",
    "  ### Thigh (Femur) Coordinate System\n",
    "  - **Origin:** Lateral Femoral Epicondyle (LFEC) marker.\n",
    "  - **Axes:**\n",
    "    - **X-axis (Medial–Lateral):** From LFEC toward the Medial Femoral\n",
    "  Epicondyle (MFEC).\n",
    "    - **Y-axis (Proximal–Distal):** Points proximally along the femur’s long\n",
    "  axis toward the hip.\n",
    "    - **Z-axis (Anterior–Posterior):** Points posteriorly; perpendicular to the\n",
    "  plane defined by the X- and Y-axes.\n",
    "  - **Interpretation:**\n",
    "    - `+X` medial (toward the contralateral leg)\n",
    "    - `+Y` proximal (toward the hip)\n",
    "    - `+Z` posterior (backward)\n",
    "\n",
    "  ### Shin (Tibia) Coordinate System\n",
    "  - **Origin:** Lateral Tibial Condyle (LTC) marker.\n",
    "  - **Axes:**\n",
    "    - **X-axis (Medial–Lateral):** From LTC toward the Medial Tibial Condyle\n",
    "  (MTC).\n",
    "    - **Y-axis (Proximal–Distal):** Points proximally along the tibia’s long\n",
    "  axis toward the knee.\n",
    "    - **Z-axis (Anterior–Posterior):** Points anteriorly; perpendicular to the\n",
    "  plane defined by the X- and Y-axes.\n",
    "  - **Interpretation:**\n",
    "    - `+X` medial (toward the contralateral leg)\n",
    "    - `+Y` proximal (toward the knee)\n",
    "    - `+Z` anterior (forward)\n",
    "\n",
    "## Analysis Approach\n",
    "1. Load CSV data from static/dynamic trials\n",
    "2. Extract 3D coordinates for each anatomical marker\n",
    "3. Define local coordinate systems for thigh and shin segments\n",
    "4. Estimate knee joint center:\n",
    "   - Static: anatomical midpoint (MFEC↔LFEC)\n",
    "   - Dynamic: sphere fitting of epicondyle motion\n",
    "5. Visualize the biomechanical model in 3D"
   ]
  },
  {
   "cell_type": "code",
   "execution_count": 23,
   "id": "8b2ef950-6a38-4831-8bf1-8d4be6dea656",
   "metadata": {},
   "outputs": [],
   "source": [
    "import numpy as np\n",
    "import pandas as pd\n",
    "import plotly.graph_objs as go"
   ]
  },
  {
   "cell_type": "code",
   "execution_count": 24,
   "id": "5f43674e-b5fb-4409-af71-3553c15ead04",
   "metadata": {},
   "outputs": [
    {
     "name": "stdout",
     "output_type": "stream",
     "text": [
      "Found 4 CSV files:\n",
      "\n",
      "  Trial 1: data/Static Trial 1_Bone Model.csv\n",
      "    Type: Static\n",
      "    Description: Static posture (no articulation); anatomical midpoint method\n",
      "\n",
      "  Trial 2: data/Static Trial 2_Bone Model.csv\n",
      "    Type: Static\n",
      "    Description: Static posture (no articulation); anatomical midpoint method\n",
      "\n",
      "  Trial 3: data/Static Trial 3_Bone Model.csv\n",
      "    Type: Dynamic - Flexion/Extension\n",
      "    Description: Dynamic knee bending (reclassified from dataset)\n",
      "\n",
      "  Trial 4: data/Static Trial 4_Bone Model.csv\n",
      "    Type: Dynamic - Varus/Valgus\n",
      "    Description: Medial-lateral knee motion (reclassified from dataset)\n",
      "\n",
      "✓ Loaded Trial 1: 580 frames, 47 columns\n",
      "✓ Loaded Trial 2: 582 frames, 47 columns\n",
      "✓ Loaded Trial 3: 416 frames, 47 columns\n",
      "✓ Loaded Trial 4: 588 frames, 47 columns\n",
      "\n",
      "✓ All 4 trials loaded successfully\n"
     ]
    }
   ],
   "source": [
    "# ====== Load data from all CSV trials ======\n",
    "import glob\n",
    "import os\n",
    "\n",
    "# Find all CSV files and sort them\n",
    "csv_files = sorted(glob.glob(\"data/*_Bone Model.csv\"))\n",
    "print(f\"Found {len(csv_files)} CSV files:\\n\")\n",
    "\n",
    "def infer_trial_metadata(file_path, index):\n",
    "    \"\"\"Infer trial type/description from filename; fallback to generic types.\n",
    "    Dataset-specific override: Trials 3 and 4 are dynamic even if filenames contain 'Static'.\n",
    "    \"\"\"\n",
    "    fname = os.path.basename(file_path).lower()\n",
    "\n",
    "    # Dataset-specific overrides per user clarification\n",
    "    if index == 3 or \"static trial 3\" in fname:\n",
    "        return \"Dynamic - Flexion/Extension\", \"Dynamic knee bending (reclassified from dataset)\"\n",
    "    if index == 4 or \"static trial 4\" in fname:\n",
    "        return \"Dynamic - Varus/Valgus\", \"Medial-lateral knee motion (reclassified from dataset)\"\n",
    "\n",
    "    # Defaults by index (fallback)\n",
    "    defaults = {\n",
    "        1: (\"Static - Flat Position\", \"Knee in extended/flat position\"),\n",
    "        2: (\"Static - Flexed Position\", \"Knee in flexed position\"),\n",
    "        3: (\"Dynamic - Flexion/Extension\", \"Dynamic knee bending\"),\n",
    "        4: (\"Dynamic - Varus/Valgus\", \"Medial-lateral knee motion\"),\n",
    "    }\n",
    "    # Heuristic from filename\n",
    "    if \"static\" in fname:\n",
    "        ttype = \"Static\"\n",
    "        desc = \"Static posture (no articulation); anatomical midpoint method\"\n",
    "    elif any(k in fname for k in [\"flex\", \"extension\"]):\n",
    "        ttype = \"Dynamic - Flexion/Extension\"\n",
    "        desc = \"Dynamic knee bending\"\n",
    "    elif any(k in fname for k in [\"varus\", \"valgus\", \"adduction\", \"abduction\"]):\n",
    "        ttype = \"Dynamic - Varus/Valgus\"\n",
    "        desc = \"Medial-lateral knee motion\"\n",
    "    else:\n",
    "        ttype, desc = defaults.get(index, (\"Unknown\", \"Unspecified trial\"))\n",
    "    return ttype, desc\n",
    "\n",
    "# Build trial registry\n",
    "trial_info = {}\n",
    "for i, f in enumerate(csv_files, 1):\n",
    "    trial_name = f\"Trial {i}\"\n",
    "    ttype, desc = infer_trial_metadata(f, i)\n",
    "    trial_info[trial_name] = {\"file\": f, \"type\": ttype, \"description\": desc}\n",
    "    print(f\"  {trial_name}: {f}\")\n",
    "    print(f\"    Type: {ttype}\")\n",
    "    print(f\"    Description: {desc}\\n\")\n",
    "\n",
    "# Load all trials into a dictionary\n",
    "all_trials_data = {}\n",
    "for trial_name, info in trial_info.items():\n",
    "    if info[\"file\"]:\n",
    "        df = pd.read_csv(info[\"file\"], header=2)\n",
    "        all_trials_data[trial_name] = {\n",
    "            \"dataframe\": df,\n",
    "            \"type\": info[\"type\"],\n",
    "            \"description\": info[\"description\"],\n",
    "            \"file\": info[\"file\"]\n",
    "        }\n",
    "        print(f\"✓ Loaded {trial_name}: {df.shape[0]} frames, {df.shape[1]} columns\")\n",
    "\n",
    "print(f\"\\n✓ All {len(all_trials_data)} trials loaded successfully\")"
   ]
  },
  {
   "cell_type": "code",
   "execution_count": 25,
   "id": "05c9a24e-7f7a-4162-8536-f4561aee45f7",
   "metadata": {},
   "outputs": [
    {
     "name": "stdout",
     "output_type": "stream",
     "text": [
      "\n",
      "--- Processing Trial 1 (Static) ---\n",
      "  ✓ MTC: 578 frames\n",
      "  ✓ LTC: 578 frames\n",
      "  ✓ uTD: 578 frames\n",
      "  ✓ MM: 578 frames\n",
      "  ✓ LM: 578 frames\n",
      "  ✓ MFEC: 578 frames\n",
      "  ✓ LFEC: 578 frames\n",
      "  ✓ FH: 578 frames\n",
      "  ✓ MC: 578 frames\n",
      "  ✓ Synchronized to 578 frames\n",
      "\n",
      "--- Processing Trial 2 (Static) ---\n",
      "  ✓ MTC: 580 frames\n",
      "  ✓ LTC: 580 frames\n",
      "  ✓ uTD: 580 frames\n",
      "  ✓ MM: 580 frames\n",
      "  ✓ LM: 580 frames\n",
      "  ✓ MFEC: 580 frames\n",
      "  ✓ LFEC: 580 frames\n",
      "  ✓ FH: 580 frames\n",
      "  ✓ MC: 580 frames\n",
      "  ✓ Synchronized to 580 frames\n",
      "\n",
      "--- Processing Trial 3 (Dynamic - Flexion/Extension) ---\n",
      "  ✓ MTC: 414 frames\n",
      "  ✓ LTC: 414 frames\n",
      "  ✓ uTD: 414 frames\n",
      "  ✓ MM: 414 frames\n",
      "  ✓ LM: 414 frames\n",
      "  ✓ MFEC: 414 frames\n",
      "  ✓ LFEC: 414 frames\n",
      "  ✓ FH: 414 frames\n",
      "  ✓ MC: 414 frames\n",
      "  ✓ Synchronized to 414 frames\n",
      "\n",
      "--- Processing Trial 4 (Dynamic - Varus/Valgus) ---\n",
      "  ✓ MTC: 586 frames\n",
      "  ✓ LTC: 586 frames\n",
      "  ✓ uTD: 586 frames\n",
      "  ✓ MM: 586 frames\n",
      "  ✓ LM: 586 frames\n",
      "  ✓ MFEC: 586 frames\n",
      "  ✓ LFEC: 586 frames\n",
      "  ✓ FH: 586 frames\n",
      "  ✓ MC: 586 frames\n",
      "  ✓ Synchronized to 586 frames\n",
      "\n",
      "✓ Marker extraction complete for all 4 trials\n"
     ]
    }
   ],
   "source": [
    "# ====== 2. Extract markers from all trials ======\n",
    "def extract_triplet(df, marker_token):\n",
    "    \"\"\"Extract X, Y, Z triplet for a marker from the dataframe.\"\"\"\n",
    "    idx = None\n",
    "    for i, c in enumerate(df.columns):\n",
    "        if isinstance(c, str) and marker_token.lower() in c.lower():\n",
    "            idx = i\n",
    "            break\n",
    "    if idx is None:\n",
    "        return None\n",
    "    triplet_cols = df.columns[idx:idx+3]\n",
    "    sub = df.loc[:, triplet_cols].copy()\n",
    "    for c in triplet_cols:\n",
    "        sub[c] = pd.to_numeric(sub[c], errors=\"coerce\")\n",
    "    sub = sub.dropna(how=\"any\")\n",
    "    arr = sub.to_numpy(dtype=float)\n",
    "    if arr.shape[1] != 3:\n",
    "        return None\n",
    "    return arr\n",
    "\n",
    "# Define markers to extract\n",
    "markers_to_extract = {\n",
    "    # Shin/Tibia markers (use tibial landmarks)\n",
    "    \"MTC\": \"Subject 1:MTC\",      # Medial Tibial Condyle\n",
    "    \"LTC\": \"Subject 1:LTC\",      # Lateral Tibial Condyle  \n",
    "    \"uTD\": \"Subject 1:uTD\",      # Upper Tibia (tuberosity)\n",
    "    \"MM\": \"Subject 1:MM\",        # Medial Malleolus (ankle)\n",
    "    \"LM\": \"Subject 1:LM\",        # Lateral Malleolus (ankle)\n",
    "    \n",
    "    # Thigh/Femur markers (use femoral landmarks)\n",
    "    \"MFEC\": \"Subject 1:MFEC\",    # Medial Femoral Epicondyle\n",
    "    \"LFEC\": \"Subject 1:LFEC\",    # Lateral Femoral Epicondyle\n",
    "    \"FH\": \"Subject 1:FH\",        # Femoral Head\n",
    "    \"MC\": \"Subject 1:MC\",        # Medial Condyle or Greater Trochanter\n",
    "}\n",
    "\n",
    "# Extract markers from each trial\n",
    "trials_markers = {}\n",
    "\n",
    "for trial_name, trial_data in all_trials_data.items():\n",
    "    print(f\"\\n--- Processing {trial_name} ({trial_data['type']}) ---\")\n",
    "    df_raw = trial_data[\"dataframe\"]\n",
    "    \n",
    "    data = {}\n",
    "    for key, token in markers_to_extract.items():\n",
    "        arr = extract_triplet(df_raw, token)\n",
    "        if arr is None:\n",
    "            print(f\"  ❌ Could not parse {key}\")\n",
    "        else:\n",
    "            data[key] = arr\n",
    "            print(f\"  ✓ {key}: {arr.shape[0]} frames\")\n",
    "    \n",
    "    # Synchronize all markers to same number of frames\n",
    "    if data:\n",
    "        N = min(arr.shape[0] for arr in data.values())\n",
    "        for k in data:\n",
    "            data[k] = data[k][:N, :]\n",
    "        \n",
    "        trials_markers[trial_name] = {\n",
    "            \"data\": data,\n",
    "            \"N\": N,\n",
    "            \"type\": trial_data[\"type\"],\n",
    "            \"description\": trial_data[\"description\"]\n",
    "        }\n",
    "        print(f\"  ✓ Synchronized to {N} frames\")\n",
    "\n",
    "print(f\"\\n✓ Marker extraction complete for all {len(trials_markers)} trials\")"
   ]
  },
  {
   "cell_type": "code",
   "execution_count": 26,
   "id": "3f1bcb87-273f-42f2-9259-a0e0f88377d9",
   "metadata": {},
   "outputs": [
    {
     "name": "stdout",
     "output_type": "stream",
     "text": [
      "\n",
      "--- Computing Trial 1 (Static) ---\n",
      "  ✓ Method: Anatomical midpoint (static)\n",
      "  ✓ Joint center (avg MFEC↔LFEC): [-23.41, 381.58, 30.43] mm\n",
      "  • Sphere fitting skipped for static trial\n",
      "\n",
      "--- Computing Trial 2 (Static) ---\n",
      "  ✓ Method: Anatomical midpoint (static)\n",
      "  ✓ Joint center (avg MFEC↔LFEC): [47.30, 353.53, 277.91] mm\n",
      "  • Sphere fitting skipped for static trial\n",
      "\n",
      "--- Computing Trial 3 (Dynamic - Flexion/Extension) ---\n",
      "  ✓ Method: Sphere fit (dynamic)\n",
      "  ✓ Joint center estimated at: [67.62, 327.85, 234.68] mm\n",
      "  ✓ Sphere radius: 48.55 mm\n",
      "\n",
      "--- Computing Trial 4 (Dynamic - Varus/Valgus) ---\n",
      "  ✓ Method: Sphere fit (dynamic)\n",
      "  ✓ Joint center estimated at: [57.51, 279.92, 129.87] mm\n",
      "  ✓ Sphere radius: 47.37 mm\n",
      "\n",
      "✓ Analysis complete for all 4 trials\n"
     ]
    }
   ],
   "source": [
    "# ====== 3. Compute frames and coordinates for all trials ======\n",
    "def normalize_rows(v):\n",
    "    \"\"\"Normalize rows of array to unit vectors.\"\"\"\n",
    "    n = np.linalg.norm(v, axis=1, keepdims=True)\n",
    "    n[n < 1e-12] = 1.0\n",
    "    return v / n\n",
    "\n",
    "def build_frame(p1, p2, p3):\n",
    "    \"\"\"\n",
    "    Build orthogonal coordinate frame from 3 points.\n",
    "    X-axis: from p1 to p2 (lateral->medial)\n",
    "    Z-axis: perpendicular to plane defined by p1, p2, p3\n",
    "    Y-axis: completes right-handed system\n",
    "    Returns: R (rotation matrices), O (origins) — origin at p1.\n",
    "    \"\"\"\n",
    "    x = normalize_rows(p2 - p1)\n",
    "    z = normalize_rows(np.cross(x, p3 - p1))\n",
    "    y = normalize_rows(np.cross(z, x))\n",
    "    R = np.stack([x, y, z], axis=2)\n",
    "    O = p1\n",
    "    return R, O\n",
    "\n",
    "def sphere_fit(points):\n",
    "    \"\"\"Fit sphere to cloud of 3D points using least squares.\"\"\"\n",
    "    P = points\n",
    "    b = np.sum(P * P, axis=1).reshape(-1, 1)\n",
    "    A = np.hstack([2 * P, np.ones((P.shape[0], 1))])\n",
    "    x, *_ = np.linalg.lstsq(A, b, rcond=None)\n",
    "    c = x[:3, 0]\n",
    "    r = float(np.sqrt(np.mean(np.sum((P - c) ** 2, axis=1))))\n",
    "    return c, r\n",
    "\n",
    "# Process each trial\n",
    "trials_results = {}\n",
    "\n",
    "for trial_name, trial_markers in trials_markers.items():\n",
    "    print(f\"\\n--- Computing {trial_name} ({trial_markers['type']}) ---\")\n",
    "    \n",
    "    data = trial_markers[\"data\"]\n",
    "    N = trial_markers[\"N\"]\n",
    "    \n",
    "    # Define SHIN coordinate system using tibial landmarks\n",
    "    ankle_center = (data[\"MM\"] + data[\"LM\"]) / 2\n",
    "    R_shin, O_shin = build_frame(data[\"LTC\"], data[\"MTC\"], ankle_center)\n",
    "    \n",
    "    # Define THIGH coordinate system using femoral landmarks  \n",
    "    R_thigh, O_thigh = build_frame(data[\"LFEC\"], data[\"MFEC\"], data[\"FH\"])\n",
    "    \n",
    "    # Decide method based on trial type\n",
    "    ttype = trial_markers[\"type\"].lower()\n",
    "    is_static = \"static\" in ttype\n",
    "    \n",
    "    if is_static:\n",
    "        # Anatomical midpoint of epicondyles (average across frames to reduce noise)\n",
    "        center_series = 0.5 * (data[\"MFEC\"] + data[\"LFEC\"])\n",
    "        center = np.mean(center_series, axis=0)\n",
    "        r = float('nan')\n",
    "        method = \"anatomical-midpoint\"\n",
    "    else:\n",
    "        # Sphere fit to epicondyle trajectories (functional method)\n",
    "        thigh_cloud = np.vstack([data[\"MFEC\"], data[\"LFEC\"]])\n",
    "        center, r = sphere_fit(thigh_cloud)\n",
    "        method = \"sphere-fit\"\n",
    "    \n",
    "    # Use middle frame as reference for local coordinates\n",
    "    frame = N // 2\n",
    "    shinOrigin = O_shin[frame]\n",
    "    thighOrigin = O_thigh[frame]\n",
    "    Rsh = R_shin[frame]\n",
    "    Rth = R_thigh[frame]\n",
    "    \n",
    "    # Calculate distances and local coordinates\n",
    "    deltaShin = center - shinOrigin\n",
    "    deltaThigh = center - thighOrigin\n",
    "    distanceShinCOR = float(np.linalg.norm(deltaShin))\n",
    "    distanceThighCOR = float(np.linalg.norm(deltaThigh))\n",
    "    center_in_shin = Rsh.T @ (center - shinOrigin)\n",
    "    center_in_thigh = Rth.T @ (center - thighOrigin)\n",
    "    \n",
    "    # Store results\n",
    "    trials_results[trial_name] = {\n",
    "        \"data\": data,\n",
    "        \"N\": N,\n",
    "        \"type\": trial_markers[\"type\"],\n",
    "        \"description\": trial_markers[\"description\"],\n",
    "        \"method\": method,\n",
    "        \"R_shin\": R_shin,\n",
    "        \"O_shin\": O_shin,\n",
    "        \"R_thigh\": R_thigh,\n",
    "        \"O_thigh\": O_thigh,\n",
    "        \"center\": center,\n",
    "        \"radius\": r,\n",
    "        \"frame\": frame,\n",
    "        \"shinOrigin\": shinOrigin,\n",
    "        \"thighOrigin\": thighOrigin,\n",
    "        \"Rsh\": Rsh,\n",
    "        \"Rth\": Rth,\n",
    "        \"deltaShin\": deltaShin,\n",
    "        \"deltaThigh\": deltaThigh,\n",
    "        \"distanceShinCOR\": distanceShinCOR,\n",
    "        \"distanceThighCOR\": distanceThighCOR,\n",
    "        \"center_in_shin\": center_in_shin,\n",
    "        \"center_in_thigh\": center_in_thigh\n",
    "    }\n",
    "    \n",
    "    if is_static:\n",
    "        print(\"  ✓ Method: Anatomical midpoint (static)\")\n",
    "        print(f\"  ✓ Joint center (avg MFEC↔LFEC): [{center[0]:.2f}, {center[1]:.2f}, {center[2]:.2f}] mm\")\n",
    "        print(\"  • Sphere fitting skipped for static trial\")\n",
    "    else:\n",
    "        print(\"  ✓ Method: Sphere fit (dynamic)\")\n",
    "        print(f\"  ✓ Joint center estimated at: [{center[0]:.2f}, {center[1]:.2f}, {center[2]:.2f}] mm\")\n",
    "        print(f\"  ✓ Sphere radius: {r:.2f} mm\")\n",
    "\n",
    "print(f\"\\n✓ Analysis complete for all {len(trials_results)} trials\")"
   ]
  },
  {
   "cell_type": "code",
   "execution_count": 27,
   "id": "6e964405-7eba-4ae0-8bf1-c3419809956e",
   "metadata": {},
   "outputs": [
    {
     "name": "stdout",
     "output_type": "stream",
     "text": [
      "================================================================================\n",
      "KNEE JOINT CENTER ANALYSIS - SUMMARY OF ALL TRIALS\n",
      "================================================================================\n",
      "\n",
      "================================================================================\n",
      "  Trial 1: Static\n",
      "  Method: anatomical-midpoint\n",
      "  Static posture (no articulation); anatomical midpoint method\n",
      "================================================================================\n",
      "Frames analyzed: 578\n",
      "Reference frame: 289 (middle frame)\n",
      "\n",
      "Knee Joint Center (COR) in lab coordinates:\n",
      "  Position: [-23.408, 381.583, 30.429] mm\n",
      "  Sphere radius: N/A (static/anatomical method)\n",
      "\n",
      "Distance from Thigh origin to COR: 44.329 mm\n",
      "Distance from Shin origin to COR:  72.182 mm\n",
      "\n",
      "Δ (Thigh → COR) [X,Y,Z]: [-42.192, -13.582, 0.711] mm\n",
      "Δ (Shin  → COR) [X,Y,Z]: [-51.998, 49.787, 5.263] mm\n",
      "\n",
      "COR in Thigh local frame: [44.329, -0.009, 0.011] mm\n",
      "COR in Shin local frame:  [50.241, 51.810, 1.329] mm\n",
      "\n",
      "================================================================================\n",
      "  Trial 2: Static\n",
      "  Method: anatomical-midpoint\n",
      "  Static posture (no articulation); anatomical midpoint method\n",
      "================================================================================\n",
      "Frames analyzed: 580\n",
      "Reference frame: 290 (middle frame)\n",
      "\n",
      "Knee Joint Center (COR) in lab coordinates:\n",
      "  Position: [47.299, 353.528, 277.914] mm\n",
      "  Sphere radius: N/A (static/anatomical method)\n",
      "\n",
      "Distance from Thigh origin to COR: 42.959 mm\n",
      "Distance from Shin origin to COR:  77.405 mm\n",
      "\n",
      "Δ (Thigh → COR) [X,Y,Z]: [-28.851, 12.910, 29.094] mm\n",
      "Δ (Shin  → COR) [X,Y,Z]: [-25.355, 72.366, -10.576] mm\n",
      "\n",
      "COR in Thigh local frame: [42.941, -0.209, 1.257] mm\n",
      "COR in Shin local frame:  [45.617, 56.201, -27.425] mm\n",
      "\n",
      "================================================================================\n",
      "  Trial 3: Dynamic - Flexion/Extension\n",
      "  Method: sphere-fit\n",
      "  Dynamic knee bending (reclassified from dataset)\n",
      "================================================================================\n",
      "Frames analyzed: 414\n",
      "Reference frame: 207 (middle frame)\n",
      "\n",
      "Knee Joint Center (COR) in lab coordinates:\n",
      "  Position: [67.619, 327.845, 234.677] mm\n",
      "  Sphere radius: 48.547 mm\n",
      "\n",
      "Distance from Thigh origin to COR: 49.971 mm\n",
      "Distance from Shin origin to COR:  97.218 mm\n",
      "\n",
      "Δ (Thigh → COR) [X,Y,Z]: [-45.234, 17.833, -11.534] mm\n",
      "Δ (Shin  → COR) [X,Y,Z]: [-33.773, 88.202, 23.045] mm\n",
      "\n",
      "COR in Thigh local frame: [43.493, -15.226, -19.330] mm\n",
      "COR in Shin local frame:  [67.442, 69.057, 11.572] mm\n",
      "\n",
      "================================================================================\n",
      "  Trial 4: Dynamic - Varus/Valgus\n",
      "  Method: sphere-fit\n",
      "  Medial-lateral knee motion (reclassified from dataset)\n",
      "================================================================================\n",
      "Frames analyzed: 586\n",
      "Reference frame: 293 (middle frame)\n",
      "\n",
      "Knee Joint Center (COR) in lab coordinates:\n",
      "  Position: [57.507, 279.920, 129.867] mm\n",
      "  Sphere radius: 47.370 mm\n",
      "\n",
      "Distance from Thigh origin to COR: 51.200 mm\n",
      "Distance from Shin origin to COR:  63.905 mm\n",
      "\n",
      "Δ (Thigh → COR) [X,Y,Z]: [-46.784, -20.685, -2.195] mm\n",
      "Δ (Shin  → COR) [X,Y,Z]: [-37.942, 51.321, 3.228] mm\n",
      "\n",
      "COR in Thigh local frame: [47.519, 18.415, 4.922] mm\n",
      "COR in Shin local frame:  [49.697, 39.466, -7.515] mm\n",
      "\n",
      "================================================================================\n",
      "COMPARISON SUMMARY\n",
      "================================================================================\n",
      "Trial           Type                           Method             COR X      COR Y      COR Z      Radius    \n",
      "--------------------------------------------------------------------------------\n",
      "Trial 1         Static                         anatomical-midpoint    -23.41    381.58     30.43       N/A\n",
      "Trial 2         Static                         anatomical-midpoint     47.30    353.53    277.91       N/A\n",
      "Trial 3         Dynamic - Flexion/Extension    sphere-fit             67.62    327.85    234.68     48.55\n",
      "Trial 4         Dynamic - Varus/Valgus         sphere-fit             57.51    279.92    129.87     47.37\n",
      "================================================================================\n"
     ]
    }
   ],
   "source": [
    "# ====== 4. PRINT SUMMARY FOR ALL TRIALS ======\n",
    "print(\"=\" * 80)\n",
    "print(\"KNEE JOINT CENTER ANALYSIS - SUMMARY OF ALL TRIALS\")\n",
    "print(\"=\" * 80)\n",
    "\n",
    "for trial_name, results in trials_results.items():\n",
    "    print(f\"\\n{'=' * 80}\")\n",
    "    print(f\"  {trial_name}: {results['type']}\")\n",
    "    print(f\"  Method: {results['method']}\")\n",
    "    print(f\"  {results['description']}\")\n",
    "    print(f\"{'=' * 80}\")\n",
    "    print(f\"Frames analyzed: {results['N']}\")\n",
    "    print(f\"Reference frame: {results['frame']} (middle frame)\")\n",
    "    print()\n",
    "    print(f\"Knee Joint Center (COR) in lab coordinates:\")\n",
    "    print(f\"  Position: [{results['center'][0]:.3f}, {results['center'][1]:.3f}, {results['center'][2]:.3f}] mm\")\n",
    "    rad = results['radius']\n",
    "    if np.isfinite(rad) if isinstance(rad, float) else False:\n",
    "        print(f\"  Sphere radius: {rad:.3f} mm\")\n",
    "    else:\n",
    "        print(\"  Sphere radius: N/A (static/anatomical method)\")\n",
    "    print()\n",
    "    print(f\"Distance from Thigh origin to COR: {results['distanceThighCOR']:.3f} mm\")\n",
    "    print(f\"Distance from Shin origin to COR:  {results['distanceShinCOR']:.3f} mm\")\n",
    "    print()\n",
    "    print(f\"Δ (Thigh → COR) [X,Y,Z]: [{results['deltaThigh'][0]:.3f}, {results['deltaThigh'][1]:.3f}, {results['deltaThigh'][2]:.3f}] mm\")\n",
    "    print(f\"Δ (Shin  → COR) [X,Y,Z]: [{results['deltaShin'][0]:.3f}, {results['deltaShin'][1]:.3f}, {results['deltaShin'][2]:.3f}] mm\")\n",
    "    print()\n",
    "    print(f\"COR in Thigh local frame: [{results['center_in_thigh'][0]:.3f}, {results['center_in_thigh'][1]:.3f}, {results['center_in_thigh'][2]:.3f}] mm\")\n",
    "    print(f\"COR in Shin local frame:  [{results['center_in_shin'][0]:.3f}, {results['center_in_shin'][1]:.3f}, {results['center_in_shin'][2]:.3f}] mm\")\n",
    "\n",
    "print(f\"\\n{'=' * 80}\")\n",
    "print(\"COMPARISON SUMMARY\")\n",
    "print(f\"{'=' * 80}\")\n",
    "print(f\"{'Trial':<15} {'Type':<30} {'Method':<18} {'COR X':<10} {'COR Y':<10} {'COR Z':<10} {'Radius':<10}\")\n",
    "print(\"-\" * 80)\n",
    "for trial_name, results in trials_results.items():\n",
    "    rad = results['radius']\n",
    "    rad_str = f\"{rad:>9.2f}\" if (isinstance(rad, float) and np.isfinite(rad)) else f\"{'N/A':>9}\"\n",
    "    print(f\"{trial_name:<15} {results['type']:<30} {results['method']:<18} {results['center'][0]:>9.2f} {results['center'][1]:>9.2f} {results['center'][2]:>9.2f} {rad_str}\")\n",
    "print(\"=\" * 80)"
   ]
  },
  {
   "cell_type": "code",
   "execution_count": 28,
   "id": "4935555f-737b-4744-8311-ff9f3ed23d97",
   "metadata": {},
   "outputs": [
    {
     "name": "stdout",
     "output_type": "stream",
     "text": [
      "\n",
      "Generating 3D visualization for Trial 1...\n"
     ]
    },
    {
     "data": {
      "application/vnd.plotly.v1+json": {
       "config": {
        "plotlyServerURL": "https://plot.ly"
       },
       "data": [
        {
         "marker": {
          "color": "red",
          "size": 3
         },
         "mode": "markers",
         "name": "MFEC",
         "opacity": 0.8,
         "type": "scatter3d",
         "x": {
          "bdata": "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",
          "dtype": "f8"
         },
         "y": {
          "bdata": "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",
          "dtype": "f8"
         },
         "z": {
          "bdata": "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",
          "dtype": "f8"
         }
        },
        {
         "marker": {
          "color": "darkred",
          "size": 3
         },
         "mode": "markers",
         "name": "LFEC",
         "opacity": 0.8,
         "type": "scatter3d",
         "x": {
          "bdata": "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",
          "dtype": "f8"
         },
         "y": {
          "bdata": "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",
          "dtype": "f8"
         },
         "z": {
          "bdata": "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",
          "dtype": "f8"
         }
        },
        {
         "marker": {
          "color": "pink",
          "size": 2
         },
         "mode": "markers",
         "name": "FH",
         "opacity": 0.8,
         "type": "scatter3d",
         "x": {
          "bdata": "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",
          "dtype": "f8"
         },
         "y": {
          "bdata": "w/UoXI8CKMDdJAaBlQMowPhT46WbBCjAzczMzMwMKMDsUbgehQsowERpb/CFCSjAiIVa07wDKMBbsb/snvwnwHbgnBGl/SfAh6dXyjIEKMB6xyk6kgsowOcdp+hIDijA5x2n6EgOKMBmiGNd3AYowHDOiNLeACjAUiegibABKMBQjZduEgMowJzEILByCCjAVg4tsp0PKMCjAbwFEhQowNobfGEyFSjA+MJkqmAUKMBNhA1PrxQowDXvOEVHEijAPzVeukkMKMAOT6+UZQgowIQNT6+UBSjAFD/G3LUEKMClTkATYQMowLU3+MJkCijAdk8eFmoNKMCKjuTyHxIowJCg+DHmDijA0ETY8PQKKMCmCkYldQIowHh6pSxD/CfAaLPqc7X1J8AFNBE2PP0nwLivA+eMCCjA/Bhz1xISKMCDwMqhRRYowPp+arx0EyjAklz+Q/oNKMCF61G4HgUowHDOiNLeACjAxm00gLcAKMAwKqkT0AQowH0/NV66CSjAylTBqKQOKMAf9GxWfQ4owJzEILByCCjAo5I6AU0EKMAgY+5aQv4nwCEf9GxW/SfALNSa5h0HKMBUUiegiRAowLhAguLHGCjAzhlR2hscKMDvOEVHchkowB1aZDvfDyjAtFn1udoKKMD67evAOQMowFTjpZvEACjA2qz6XG0FKMCvJeSDng0owP7UeOkmESjAwoanV8oSKMC/DpwzohQowBrAWyBBESjAdk8eFmoNKMDzH9JvXwcowI51cRsNACjAeVioNc37J8BdbcX+svsnwIenV8oyBCjARiV1ApoIKMCwA+eMKA0owLN78rBQCyjA3SQGgZUDKMDFjzF3LQEowFafq63Y/yfA5dAi2/n+J8AW+8vuyQMowJ2AJsKGByjAgy9MpgoGKMASg8DKoQUowIiFWtO8AyjA/mX35GEBKMCitDf4wgQowA8LtaZ5ByjAsp3vp8YLKMCJ0t7gCxMowDJVMCqpEyjAjErqBDQRKMCWsgxxrAsowNxGA3gLBCjAV1uxv+z+J8BrmnecogMowLmNBvAWCCjAdy0hH/QMKMAijnVxGw0owB/0bFZ9DijAdLUV+8sOKMDJdr6fGg8owM9m1edqCyjAnzws1JoGKMD5MeauJQQowP2H9NvXASjAM8SxLm4DKMDxY8xdSwgowJkqGJXUCSjAeqUsQxwLKMAK16NwPQoowMl2vp8aDyjAWYY41sUNKMDSAN4CCQoowMP1KFyPAijA5q4l5IP+J8COdXEbDQAowLmNBvAWCCjAzojS3uALKMCRfvs6cA4owFOWIY51ESjAdZMYBFYOKMBiEFg5tAgowIJzRpT2BijAZohjXdwGKMCxv+yePAwowPtcbcX+EijAxty1hHwQKMCpE9BE2BAowEATYcPTCyjAs3vysFALKMCZKhiV1AkowBKDwMqhBSjAnl4pyxAHKMB56SYxCAwowJoIG55eCSjAfGEyVTAKKMCxv+yePAwowOjZrPpcDSjAdk8eFmoNKMBeukkMAgsowCegibDhCSjAuycPC7UGKMDcaABvgQQowN/gC5OpAijA9pfdk4cFKMB8YTJVMAoowN6Th4VaEyjADr4wmSoYKMDTTWIQWBkowI/C9ShcDyjAat5xio4EKMDpJjEIrPwnwLWmeccp+ifAYcPTK2X5J8ClTkATYQMowLKd76fGCyjAio7k8h8SKMBkXdxGAxgowE5iEFg5FCjACRueXikLKMCGyVTBqAQowKVOQBNhAyjA+8vuycMCKMCh+DHmrgUowHnpJjEIDCjAWmQ7308NKMB4CyQofgwowMsQx7q4DSjAmG4Sg8AKKMCaCBueXgkowNIA3gIJCijAmG4Sg8AKKMCvJeSDng0owMzuycNCDSjAPZtVn6sNKMDwp8ZLNwkowC2yne+nBijAa5p3nKIDKMBmiGNd3AYowJCg+DHmDijATmIQWDkUKMDTTWIQWBkowH9qvHSTGCjAxEKtad4RKMC1N/jCZAoowIlBYOXQAijAApoIG57+J8CM22gAbwEowPhT46WbBCjAfh04Z0QJKMAjSnuDLwwowIxK6gQ0ESjAHVpkO98PKMAhsHJokQ0owLprCfmgByjAqaROQBMBKMBxrIvbaAAowDqSy39I/yfAH4XrUbj+J8AB3gIJiv8nwIbJVMGoBCjAPzVeukkMKMDek4eFWhMowG3F/rJ7EijAVg4tsp0PKMB+HThnRAkowNjw9EpZBijA8kHPZtUHKMARx7q4jQYowEi/fR04ByjAgZVDi2wHKMD4U+OlmwQowO/Jw0KtCSjAXf5D+u0LKMDpt68D5wwowBrAWyBBESjAVHQkl/8QKMAjSnuDLwwowA1xrIvbCCjAhA1Pr5QFKMCeXinLEAcowNSa5h2nCCjAWMoyxLEOKMBVMCqpExAowMzuycNCDSjAeAskKH4MKMDu68A5IwoowLwFEhQ/BijA8kHPZtUHKMCTOgFNhA0owHS1FfvLDijA2V92Tx4WKMAyVTAqqRMowD55WKg1DSjA1XjpJjEIKMCkcD0K1wMowEw3iUFgBSjAuY0G8BYIKMAFo5I6AQ0owBueXinLECjA+1xtxf4SKMDDZKpgVBIowOtztRX7CyjALpCg+DEGKMD67evAOQMowDcawFsgASjANxrAWyABKMC94xQdyQUowAu1pnnHCSjArWnecYoOKMAGgZVDiwwowOY/pN++DijAOiNKe4MPKMCk374OnBMowDXvOEVHEijAHVpkO98PKMDwp8ZLNwkowN0kBoGVAyjAAAAAAAAAKMBmZmZmZgYowLUV+8vuCSjAtRX7y+4JKMApXI/C9QgowJhuEoPACijAtvP91HgJKMDT3uALkwkowLRZ9bnaCijAImx4eqUMKMCPwvUoXA8owOELk6mCESjAJCh+jLkLKMBlqmBUUgcowG40gLdAAijA/kP67esAKMDarPpcbQUowJF++zpwDijA6bevA+cMKMA17zhFRxIowL8OnDOiFCjAPL1SliEOKMCAt0CC4gcowIzbaABvASjArfpcbcX+J8DswDkjSvsnwDY8vVKWASjADJOpglEJKMCx4emVsgwowGB2Tx4WCijAZMxdS8gHKMCBlUOLbAcowLwFEhQ/BijAiIVa07wDKMDdJAaBlQMowPd14JwRBSjATtGRXP4DKMBoImx4egUowLwFEhQ/BijAwTkjSnsDKMCPU3Qkl/8nwI9TdCSX/yfAnzws1JoGKMAhsHJokQ0owE2EDU+vFCjAEhQ/xtwVKMA2zTtO0REowHgLJCh+DCjAGlHaG3wBKMB5WKg1zfsnwNCzWfW5+ifApgpGJXUCKMDNzMzMzAwowKCJsOHpFSjAP8bctYQcKMBcj8L1KBwowC7/If32FSjAdnEbDeANKMC+nxov3QQowFXBqKROACjAW9O84xT9J8B24JwRpf0nwN/gC5OpAijA63O1FfsLKMD1SlmGOBYowAtGJXUCGijAKcsQx7oYKMClvcEXJhMowOjZrPpcDSjAnzws1JoGKMBnRGlv8AUowKmkTkATASjAGw3gLZAAKMAZc9cS8gEowL6fGi/dBCjACRueXikLKMB0tRX7yw4owMbctYR8ECjAGQRWDi0SKMA5RUdy+Q8owCNKe4MvDCjA9pfdk4cFKMDEsS5uowEowOM2GsBbACjAbHh6pSwDKMBiEFg5tAgowATnjCjtDSjAc9cS8kEPKMDo2az6XA0owM6qz9VWDCjAINJvXwcOKMA+eVioNQ0owM3MzMzMDCjADwu1pnkHKMDcaABvgQQowE7RkVz+AyjAuK8D54wIKMC0WfW52goowOY/pN++DijA5x2n6EgOKMAijnVxGw0owO/Jw0KtCSjACRueXikLKMBd3EYDeAsowDsBTYQNDyjABOeMKO0NKMBhVFInoAkowEmdgCbCBijAUwWjkjoBKMBZF7fRAP4nwP5D+u3rACjAumsJ+aAHKMBUdCSX/xAowKCJsOHpFSjAaLPqc7UVKMCP5PIf0g8owJhuEoPACijAldQJaCIMKMB6xyk6kgsowFtCPujZDCjAt9EA3gIJKMDRItv5fgoowAkbnl4pCyjABoGVQ4sMKMAAkX77OhAowHE9CtejECjA5j+k374OKMDsUbgehQsowH/ZPXlYCCjAbHh6pSwDKMBCPujZrPonwPH0SlmG+CfAeVioNc37J8CGyVTBqAQowEHxY8xdCyjA3bWEfNATKMB90LNZ9RkowH3Qs1n1GSjAeVioNc0bKMC5/If02xcowPmgZ7PqEyjACD2bVZ8LKMBQjZduEgMowHicoiO5/CfAysNCrWn+J8C/fR04ZwQowB04Z0RpDyjAvJaQD3oWKMBg5dAi2xkowBB6Nqs+FyjA+n5qvHQTKMC0WfW52goowKHWNO84BSjA/Knx0k0CKMC8BRIUPwYowNO84xQdCSjAj8L1KFwPKMCrz9VW7A8owFYOLbKdDyjAdLUV+8sOKMABTYQNTw8owDsBTYQNDyjAB1+YTBUMKMDNzMzMzAwowCo6kst/CCjAE2HD0ysFKMCL/WX35AEowKmkTkATASjAOPjCZKoAKMC+nxov3QQowCUGgZVDCyjAGQRWDi0SKMD6fmq8dBMowDJ3LSEfFCjAWmQ7308NKMCgGi/dJAYowDVeukkMAijAiUFg5dACKMD5MeauJQQowLivA+eMCCjAKH6MuWsJKMAGgZVDiwwowF3+Q/rtCyjAHhZqTfMOKMC0WfW52goowEi/fR04ByjATRWMSuoEKMCn6Egu/wEowHQkl/+Q/ifAA3gLJCj+J8DJ5T+k3/4nwIXrUbgeBSjARUdy+Q8JKMC4rwPnjAgowGFUUiegCSjAEOm3rwMHKMDXNO84RQcowEi/fR04ByjAJCh+jLkLKMA2qz5XWxEowClcj8L1CCjA2c73U+MFKMBApN++DvwnwLFQa5p3/CfA0LNZ9bn6J8A9CtejcP0nwE7RkVz+AyjAkzoBTYQNKMDZX3ZPHhYowCcxCKwcGijA3pOHhVoTKMBfmEwVjAoowHGsi9toACjA2V92Tx72J8CjAbwFEvQnwPjCZKpg9CfAArwFEhT/J8AnoImw4QkowH9qvHSTGCjAB/AWSFAcKMCwcmiR7RwowBx8YTJVECjAvsEXJlMFKMAldQKaCPsnwAmKH2Pu+ifAxyk6ksv/J8Atsp3vpwYowLAD54woDSjAAJF++zoQKMCKsOHplRIowOPHmLuWECjARUdy+Q8JKMCCc0aU9gYowLbz/dR4CSjAcRsN4C0QKMBt5/up8RIowOLplbIMESjAXdxGA3gLKMBlqmBUUgcowPrt68A5AyjA54wo7Q3+J8CX/5B++/onwH2utmJ/+SfAM8SxLm4DKMBhVFInoAkowOLplbIMESjA4C2QoPgRKMCZKhiV1AkowOF6FK5HASjAejarPlf7J8AJih9j7vonwCBj7lpC/ifA9bnaiv0FKMAAb4EExQ8owGRd3EYDGCjA9ihcj8IVKMCOBvAWSBAowIGVQ4tsByjArfpcbcX+J8AnMQisHPonwO2ePCzU+ifAArwFEhT/J8Du68A5IwoowPYoXI/CFSjARPrt68AZKMBIUPwYcxcowELPZtXnCijA6Gor9pf9J8D1SlmGOPYnwILix5i79ifAy6FFtvP9J8CSXP5D+g0owO2ePCzUGijAx0s3iUEgKMDr4jYawBsowD55WKg1DSjAO3DOiNL+J8DgLZCg+PEnwCbkg57N6ifAbef7qfHyJ8AW+8vuyQMowGfV52orFijAbVZ9rrYiKMBO0ZFc/iMowAskKH6MGSjAs3vysFALKMC0yHa+n/onwKyL22gA7yfArkfhehTuJ8DZX3ZPHvYnwAn5oGezCijARdjw9EoZKMBoImx4eiUowIv9ZffkISjAb4EExY8RKMAaUdobfAEowH2utmJ/+SfAwcqhRbbzJ8DqBDQRNvwnwLmNBvAWCCjAwaikTkATKMALJCh+jBkowA6+MJkqGCjAio7k8h8SKMB6pSxDHAsowFMFo5I6ASjAOdbFbTQAKMAXt9EA3gIowFtCPujZDCjAVHQkl/8QKMDhC5OpghEowJCg+DHmDijA7FG4HoULKMC+wRcmUwUowNqs+lxtBSjASOF6FK4HKMBAE2HD0wsowA==",
          "dtype": "f8"
         },
         "z": {
          "bdata": "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",
          "dtype": "f8"
         }
        },
        {
         "marker": {
          "color": "blue",
          "size": 3
         },
         "mode": "markers",
         "name": "MTC",
         "opacity": 0.8,
         "type": "scatter3d",
         "x": {
          "bdata": "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",
          "dtype": "f8"
         },
         "y": {
          "bdata": "3SQGgZWLdEDsUbgehYt0QAisHFpki3RA/tR46SaLdEAlBoGVQ4t0QOF6FK5Hi3RATDeJQWCLdEAIrBxaZIt0QC/dJAaBi3RAPQrXo3CLdEDwp8ZLN4t0QG3n+6nxinRA9P3UeOmKdEDTTWIQWIt0QLKd76fGi3RAYOXQItuLdEDn+6nx0ot0QARWDi2yi3RAgZVDi2yLdEAIrBxaZIt0QGiR7Xw/i3RAaJHtfD+LdEBoke18P4t0QJ7vp8ZLi3RATDeJQWCLdEDsUbgehYt0QBKDwMqhi3RAz/dT46WLdEB9PzVeuot0QIGVQ4tsi3RAnu+nxkuLdEAMAiuHFot0QLpJDAIri3RAj8L1KFyLdEBkO99PjYt0QCuHFtnOi3RAYOXQItuLdEArhxbZzot0QFYOLbKdi3RACKwcWmSLdEDhehSuR4t0QBfZzvdTi3RAgZVDi2yLdECamZmZmYt0QARWDi2yi3RAwcqhRbaLdEDsUbgehYt0QOF6FK5Hi3RAGy/dJAaLdECF61G4Hot0QCUGgZVDi3RAc2iR7XyLdEAhsHJokYt0QBKDwMqhi3RA+n5qvHSLdECsHFpkO4t0QMl2vp8ai3RAyXa+nxqLdECF61G4Hot0QMUgsHJoi3RAEoPAyqGLdEDZzvdT44t0QFK4HoXri3RAi2zn+6mLdEAIrBxaZIt0QJ7vp8ZLi3RA8KfGSzeLdEB3vp8aL4t0QOF6FK5Hi3RA+n5qvHSLdEA5tMh2vot0QKRwPQrXi3RAYOXQItuLdEArhxbZzot0QMHKoUW2i3RAqMZLN4mLdEBMN4lBYIt0QBfZzvdTi3RAL90kBoGLdECamZmZmYt0QDm0yHa+i3RAEoPAyqGLdEDdJAaBlYt0QHNoke18i3RAmpmZmZmLdEDsUbgehYt0QM/3U+Oli3RABFYOLbKLdEBWDi2ynYt0QD0K16Nwi3RAxSCwcmiLdEC6SQwCK4t0QOF6FK5Hi3RAgZVDi2yLdEBkO99PjYt0QKRwPQrXi3RAy6FFtvOLdEAdWmQ734t0QFYOLbKdi3RAgZVDi2yLdEBzaJHtfIt0QD0K16Nwi3RAj8L1KFyLdEA9CtejcIt0QKjGSzeJi3RAfT81XrqLdEAEVg4tsot0QDm0yHa+i3RAVg4tsp2LdEDsUbgehYt0QIGVQ4tsi3RAc2iR7XyLdED6fmq8dIt0QBfZzvdTi3RAnu+nxkuLdEDTTWIQWIt0QC/dJAaBi3RABFYOLbKLdEA5tMh2vot0QDm0yHa+i3RAtvP91HiLdEAX2c73U4t0QHe+nxovi3RA/tR46SaLdECBlUOLbIt0QHNoke18i3RAc2iR7XyLdECoxks3iYt0QD0K16Nwi3RAtvP91HiLdEC28/3UeIt0QMUgsHJoi3RACKwcWmSLdEDsUbgehYt0QHNoke18i3RAL90kBoGLdEAv3SQGgYt0QKjGSzeJi3RA+n5qvHSLdEBzaJHtfIt0QCGwcmiRi3RA7FG4HoWLdECLbOf7qYt0QBKDwMqhi3RASOF6FK6LdEBI4XoUrot0QH0/NV66i3RASOF6FK6LdEDsUbgehYt0QI/C9Shci3RAMzMzMzOLdEB3vp8aL4t0QJ7vp8ZLi3RAIbByaJGLdECkcD0K14t0QB1aZDvfi3RA5/up8dKLdEC28/3UeIt0QMUgsHJoi3RAQmDl0CKLdEDJdr6fGot0QCUGgZVDi3RAqMZLN4mLdEDByqFFtot0QKRwPQrXi3RAfT81XrqLdEASg8DKoYt0QOxRuB6Fi3RAL90kBoGLdED6fmq8dIt0QEw3iUFgi3RAc2iR7XyLdEAhsHJokYt0QLbz/dR4i3RAc2iR7XyLdED6fmq8dIt0QIGVQ4tsi3RAtvP91HiLdEDdJAaBlYt0QLKd76fGi3RABFYOLbKLdECamZmZmYt0QMUgsHJoi3RAMzMzMzOLdEBQjZduEot0QMl2vp8ai3RAWmQ730+LdEDdJAaBlYt0QMHKoUW2i3RApHA9CteLdEDByqFFtot0QN0kBoGVi3RAnu+nxkuLdEDJdr6fGot0QNejcD0Ki3RAaJHtfD+LdEAX2c73U4t0QOxRuB6Fi3RAi2zn+6mLdECkcD0K14t0QPYoXI/Ci3RA9ihcj8KLdEAEVg4tsot0QFYOLbKdi3RAc2iR7XyLdECPwvUoXIt0QOF6FK5Hi3RATDeJQWCLdEDsUbgehYt0QGQ730+Ni3RAZDvfT42LdED6fmq8dIt0QPp+arx0i3RA+n5qvHSLdEASg8DKoYt0QN0kBoGVi3RAL90kBoGLdECBlUOLbIt0QBfZzvdTi3RA001iEFiLdEC28/3UeIt0QHNoke18i3RAi2zn+6mLdEBvEoPAyot0QEjhehSui3RAqMZLN4mLdEBaZDvfT4t0QPCnxks3i3RA/tR46SaLdEC6SQwCK4t0QOF6FK5Hi3RAxSCwcmiLdEAX2c73U4t0QBfZzvdTi3RAWmQ730+LdEB3vp8aL4t0QI/C9Shci3RAgZVDi2yLdECamZmZmYt0QEjhehSui3RAEoPAyqGLdECamZmZmYt0QAisHFpki3RAF9nO91OLdEBoke18P4t0QBfZzvdTi3RAIbByaJGLdED2KFyPwot0QOf7qfHSi3RAbxKDwMqLdEBWDi2ynYt0QHNoke18i3RAF9nO91OLdEA9CtejcIt0QI/C9Shci3RAF9nO91OLdEAzMzMzM4t0QLpJDAIri3RAF9nO91OLdED6fmq8dIt0QJqZmZmZi3RAi2zn+6mLdEBzaJHtfIt0QAisHFpki3RAJQaBlUOLdECsHFpkO4t0QAisHFpki3RA+n5qvHSLdEAv3SQGgYt0QNNNYhBYi3RAj8L1KFyLdEBoke18P4t0QGiR7Xw/i3RA001iEFiLdEAhsHJokYt0QFYOLbKdi3RAi2zn+6mLdEAhsHJokYt0QI/C9Shci3RAJQaBlUOLdED+1HjpJot0QEJg5dAii3RArBxaZDuLdECBlUOLbIt0QEjhehSui3RAwcqhRbaLdEBvEoPAyot0QBKDwMqhi3RAtvP91HiLdEAX2c73U4t0QI/C9Shci3RA+n5qvHSLdEDFILByaIt0QOxRuB6Fi3RAIbByaJGLdEDdJAaBlYt0QN0kBoGVi3RAZDvfT42LdECoxks3iYt0QN0kBoGVi3RAwcqhRbaLdEBSuB6F64t0QKRwPQrXi3RAVg4tsp2LdECPwvUoXIt0QIXrUbgei3RAkxgEVg6LdECe76fGS4t0QPp+arx0i3RAObTIdr6LdEBSuB6F64t0QB1aZDvfi3RAi2zn+6mLdEBzaJHtfIt0QPCnxks3i3RAhetRuB6LdEBeukkMAot0QJMYBFYOi3RAMzMzMzOLdEDdJAaBlYt0QMHKoUW2i3RAK4cW2c6LdEBg5dAi24t0QNnO91Pji3RA3SQGgZWLdEDhehSuR4t0QEJg5dAii3RAQmDl0CKLdEAzMzMzM4t0QD0K16Nwi3RAIbByaJGLdEDP91PjpYt0QARWDi2yi3RAK4cW2c6LdED2KFyPwot0QIts5/upi3RA3SQGgZWLdEA9CtejcIt0QNNNYhBYi3RAWmQ730+LdEAIrBxaZIt0QJqZmZmZi3RAYOXQItuLdEBg5dAi24t0QOf7qfHSi3RA3SQGgZWLdECBlUOLbIt0QLpJDAIri3RAaJHtfD+LdECe76fGS4t0QI/C9Shci3RA8KfGSzeLdEDhehSuR4t0QMUgsHJoi3RAc2iR7XyLdEDByqFFtot0QMHKoUW2i3RASOF6FK6LdEBWDi2ynYt0QMUgsHJoi3RACKwcWmSLdEAv3SQGgYt0QPp+arx0i3RAgZVDi2yLdEAv3SQGgYt0QGiR7Xw/i3RAnu+nxkuLdEBaZDvfT4t0QD0K16Nwi3RASOF6FK6LdEA5tMh2vot0QARWDi2yi3RA+n5qvHSLdEB3vp8aL4t0QNejcD0Ki3RADAIrhxaLdEBoke18P4t0QAisHFpki3RAPQrXo3CLdED6fmq8dIt0QD0K16Nwi3RAqMZLN4mLdEBkO99PjYt0QIts5/upi3RAtvP91HiLdEDTTWIQWIt0QDMzMzMzi3RAukkMAiuLdED+1HjpJot0QLpJDAIri3RA001iEFiLdECoxks3iYt0QN0kBoGVi3RAEoPAyqGLdEDFILByaIt0QLpJDAIri3RA5dAi2/mKdEAQWDm0yIp0QFTjpZvEinRAN4lBYOWKdEDXo3A9Cot0QPCnxks3i3RAj8L1KFyLdEDdJAaBlYt0QH0/NV66i3RAqMZLN4mLdEC6SQwCK4t0QLByaJHtinRAexSuR+GKdEAQWDm0yIp0QKJFtvP9inRA4XoUrkeLdECoxks3iYt0QDm0yHa+i3RA9ihcj8KLdEAEVg4tsot0QLbz/dR4i3RA001iEFiLdEAX2c73U4t0QI/C9Shci3RAgZVDi2yLdEDhehSuR4t0QBfZzvdTi3RAgZVDi2yLdECBlUOLbIt0QPp+arx0i3RAEoPAyqGLdEA5tMh2vot0QH0/NV66i3RAbxKDwMqLdECLbOf7qYt0QAisHFpki3RArBxaZDuLdEBCYOXQIot0QOF6FK5Hi3RAZDvfT42LdEB9PzVeuot0QKRwPQrXi3RApHA9CteLdEA5tMh2vot0QHNoke18i3RAnu+nxkuLdEAX2c73U4t0QIGVQ4tsi3RAF9nO91OLdEAIrBxaZIt0QAisHFpki3RAz/dT46WLdEAhsHJokYt0QARWDi2yi3RAfT81XrqLdEArhxbZzot0QPYoXI/Ci3RABFYOLbKLdEBkO99PjYt0QN0kBoGVi3RAz/dT46WLdECoxks3iYt0QIGVQ4tsi3RACKwcWmSLdEDTTWIQWIt0QD0K16Nwi3RABFYOLbKLdEBSuB6F64t0QHnpJjEIjHRA8tJNYhCMdECkcD0K14t0QFYOLbKdi3RAF9nO91OLdECiRbbz/Yp0QNejcD0Ki3RAMzMzMzOLdEDsUbgehYt0QGDl0CLbi3RAvHSTGASMdECuR+F6FIx0QIcW2c73i3RAi2zn+6mLdEDhehSuR4t0QClcj8L1inRAN4lBYOWKdEBt5/up8Yp0QGiR7Xw/i3RAqMZLN4mLdEAdWmQ734t0QOf7qfHSi3RAK4cW2c6LdEDByqFFtot0QIGVQ4tsi3RA/tR46SaLdEDwp8ZLN4t0QBfZzvdTi3RA7FG4HoWLdEDdJAaBlYt0QGQ730+Ni3RA7FG4HoWLdEDFILByaIt0QFpkO99Pi3RAJQaBlUOLdEBMN4lBYIt0QBKDwMqhi3RAYOXQItuLdEAOLbKd74t0QFK4HoXri3RAmpmZmZmLdECe76fGS4t0QKwcWmQ7i3RAxSCwcmiLdEASg8DKoYt0QFK4HoXri3RAeekmMQiMdEBSuB6F64t0QARWDi2yi3RAL90kBoGLdEDwp8ZLN4t0QJMYBFYOi3RAyXa+nxqLdEBoke18P4t0QPp+arx0i3RAObTIdr6LdEA5tMh2vot0QJZDi2zni3RA2c73U+OLdECoxks3iYt0QFCNl24Si3RA9P3UeOmKdEDJdr6fGot0QD0K16Nwi3RAObTIdr6LdEB56SYxCIx0QNnO91Pji3RA9ihcj8KLdEBMN4lBYIt0QFCNl24Si3RAsHJoke2KdEB7FK5H4Yp0QGiR7Xw/i3RABFYOLbKLdEDy0k1iEIx0QDEIrBxajHRArkfhehSMdEAEVg4tsot0QDMzMzMzi3RARrbz/dSKdECJQWDl0Ip0QJMYBFYOi3RAZDvfT42LdEB56SYxCIx0QHWTGARWjHRAuB6F61GMdEDLoUW284t0QMUgsHJoi3RAvp8aL92KdEBxPQrXo4p0QAIrhxbZinRAJQaBlUOLdEA5tMh2vot0QMuhRbbzi3RA8tJNYhCMdEDLoUW284t0QGQ730+Ni3RArBxaZDuLdEDXo3A9Cot0QFCNl24Si3RAWmQ730+LdEDsUbgehYt0QIts5/upi3RAwcqhRbaLdEBkO99PjYt0QBfZzvdTi3RAhetRuB6LdECTGARWDot0QHe+nxovi3RAqMZLN4mLdEBkO99PjYt0QIts5/upi3RAEoPAyqGLdECBlUOLbIt0QA==",
          "dtype": "f8"
         },
         "z": {
          "bdata": "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",
          "dtype": "f8"
         }
        },
        {
         "marker": {
          "color": "darkblue",
          "size": 3
         },
         "mode": "markers",
         "name": "LTC",
         "opacity": 0.8,
         "type": "scatter3d",
         "x": {
          "bdata": "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",
          "dtype": "f8"
         },
         "y": {
          "bdata": "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",
          "dtype": "f8"
         },
         "z": {
          "bdata": "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",
          "dtype": "f8"
         }
        },
        {
         "marker": {
          "color": "lightblue",
          "size": 2
         },
         "mode": "markers",
         "name": "MM",
         "opacity": 0.8,
         "type": "scatter3d",
         "x": {
          "bdata": "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",
          "dtype": "f8"
         },
         "y": {
          "bdata": "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",
          "dtype": "f8"
         },
         "z": {
          "bdata": "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",
          "dtype": "f8"
         }
        },
        {
         "marker": {
          "color": "cyan",
          "size": 2
         },
         "mode": "markers",
         "name": "LM",
         "opacity": 0.8,
         "type": "scatter3d",
         "x": {
          "bdata": "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",
          "dtype": "f8"
         },
         "y": {
          "bdata": "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",
          "dtype": "f8"
         },
         "z": {
          "bdata": "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",
          "dtype": "f8"
         }
        },
        {
         "line": {
          "color": "red",
          "width": 6
         },
         "mode": "lines",
         "name": "Shin X",
         "type": "scatter3d",
         "x": [
          28.5907,
          -11.384463191203956
         ],
         "y": [
          331.796,
          330.39460313700107
         ],
         "z": [
          25.1662,
          25.315915293103416
         ]
        },
        {
         "line": {
          "color": "green",
          "width": 6
         },
         "mode": "lines",
         "name": "Shin Y",
         "type": "scatter3d",
         "x": [
          28.5907,
          27.21846780962756
         ],
         "y": [
          331.796,
          371.4665581967037
         ],
         "z": [
          25.1662,
          30.102169122436905
         ]
        },
        {
         "line": {
          "color": "blue",
          "width": 6
         },
         "mode": "lines",
         "name": "Shin Z",
         "type": "scatter3d",
         "x": [
          28.5907,
          28.269286477699044
         ],
         "y": [
          331.796,
          336.7237681757893
         ],
         "z": [
          25.1662,
          -14.527801992156963
         ]
        },
        {
         "line": {
          "color": "orange",
          "width": 6
         },
         "mode": "lines",
         "name": "Thigh X",
         "type": "scatter3d",
         "x": [
          18.784,
          -19.284110564082226
         ],
         "y": [
          395.165,
          382.90043447976205
         ],
         "z": [
          29.7183,
          30.350273639166794
         ]
        },
        {
         "line": {
          "color": "brown",
          "width": 6
         },
         "mode": "lines",
         "name": "Thigh Y",
         "type": "scatter3d",
         "x": [
          18.784,
          31.03932478557148
         ],
         "y": [
          395.165,
          357.35891715412356
         ],
         "z": [
          29.7183,
          34.24677813850102
         ]
        },
        {
         "line": {
          "color": "purple",
          "width": 6
         },
         "mode": "lines",
         "name": "Thigh Z",
         "type": "scatter3d",
         "x": [
          18.784,
          17.992815773053472
         ],
         "y": [
          395.165,
          399.6683912166849
         ],
         "z": [
          29.7183,
          69.45610938940288
         ]
        },
        {
         "marker": {
          "color": "black",
          "size": 8,
          "symbol": "diamond"
         },
         "mode": "markers+text",
         "name": "COR",
         "text": [
          "Knee COR"
         ],
         "textposition": "top center",
         "type": "scatter3d",
         "x": [
          -23.407506228373702
         ],
         "y": [
          381.58298356401383
         ],
         "z": [
          30.42892188581315
         ]
        },
        {
         "line": {
          "color": "black",
          "width": 4
         },
         "mode": "lines",
         "name": "Shin→COR",
         "type": "scatter3d",
         "x": [
          28.5907,
          -23.407506228373705
         ],
         "y": [
          331.796,
          381.58298356401383
         ],
         "z": [
          25.1662,
          30.42892188581315
         ]
        },
        {
         "line": {
          "color": "brown",
          "width": 4
         },
         "mode": "lines",
         "name": "Thigh→COR",
         "type": "scatter3d",
         "x": [
          18.784,
          -23.4075062283737
         ],
         "y": [
          395.165,
          381.58298356401383
         ],
         "z": [
          29.7183,
          30.42892188581315
         ]
        },
        {
         "line": {
          "color": "red",
          "width": 2
         },
         "mode": "lines",
         "name": "ΔX shin",
         "type": "scatter3d",
         "x": [
          28.5907,
          -23.407506228373705
         ],
         "y": [
          331.796,
          331.796
         ],
         "z": [
          25.1662,
          25.1662
         ]
        },
        {
         "line": {
          "color": "green",
          "width": 2
         },
         "mode": "lines",
         "name": "ΔY shin",
         "type": "scatter3d",
         "x": [
          28.5907,
          28.5907
         ],
         "y": [
          331.796,
          381.58298356401383
         ],
         "z": [
          25.1662,
          25.1662
         ]
        },
        {
         "line": {
          "color": "blue",
          "width": 2
         },
         "mode": "lines",
         "name": "ΔZ shin",
         "type": "scatter3d",
         "x": [
          28.5907,
          28.5907
         ],
         "y": [
          331.796,
          331.796
         ],
         "z": [
          25.1662,
          30.42892188581315
         ]
        }
       ],
       "layout": {
        "height": 800,
        "scene": {
         "aspectmode": "data",
         "xaxis": {
          "title": {
           "text": "X (mm)"
          }
         },
         "yaxis": {
          "title": {
           "text": "Y (mm)"
          }
         },
         "zaxis": {
          "title": {
           "text": "Z (mm)"
          }
         }
        },
        "showlegend": true,
        "template": {
         "data": {
          "bar": [
           {
            "error_x": {
             "color": "#2a3f5f"
            },
            "error_y": {
             "color": "#2a3f5f"
            },
            "marker": {
             "line": {
              "color": "#E5ECF6",
              "width": 0.5
             },
             "pattern": {
              "fillmode": "overlay",
              "size": 10,
              "solidity": 0.2
             }
            },
            "type": "bar"
           }
          ],
          "barpolar": [
           {
            "marker": {
             "line": {
              "color": "#E5ECF6",
              "width": 0.5
             },
             "pattern": {
              "fillmode": "overlay",
              "size": 10,
              "solidity": 0.2
             }
            },
            "type": "barpolar"
           }
          ],
          "carpet": [
           {
            "aaxis": {
             "endlinecolor": "#2a3f5f",
             "gridcolor": "white",
             "linecolor": "white",
             "minorgridcolor": "white",
             "startlinecolor": "#2a3f5f"
            },
            "baxis": {
             "endlinecolor": "#2a3f5f",
             "gridcolor": "white",
             "linecolor": "white",
             "minorgridcolor": "white",
             "startlinecolor": "#2a3f5f"
            },
            "type": "carpet"
           }
          ],
          "choropleth": [
           {
            "colorbar": {
             "outlinewidth": 0,
             "ticks": ""
            },
            "type": "choropleth"
           }
          ],
          "contour": [
           {
            "colorbar": {
             "outlinewidth": 0,
             "ticks": ""
            },
            "colorscale": [
             [
              0,
              "#0d0887"
             ],
             [
              0.1111111111111111,
              "#46039f"
             ],
             [
              0.2222222222222222,
              "#7201a8"
             ],
             [
              0.3333333333333333,
              "#9c179e"
             ],
             [
              0.4444444444444444,
              "#bd3786"
             ],
             [
              0.5555555555555556,
              "#d8576b"
             ],
             [
              0.6666666666666666,
              "#ed7953"
             ],
             [
              0.7777777777777778,
              "#fb9f3a"
             ],
             [
              0.8888888888888888,
              "#fdca26"
             ],
             [
              1,
              "#f0f921"
             ]
            ],
            "type": "contour"
           }
          ],
          "contourcarpet": [
           {
            "colorbar": {
             "outlinewidth": 0,
             "ticks": ""
            },
            "type": "contourcarpet"
           }
          ],
          "heatmap": [
           {
            "colorbar": {
             "outlinewidth": 0,
             "ticks": ""
            },
            "colorscale": [
             [
              0,
              "#0d0887"
             ],
             [
              0.1111111111111111,
              "#46039f"
             ],
             [
              0.2222222222222222,
              "#7201a8"
             ],
             [
              0.3333333333333333,
              "#9c179e"
             ],
             [
              0.4444444444444444,
              "#bd3786"
             ],
             [
              0.5555555555555556,
              "#d8576b"
             ],
             [
              0.6666666666666666,
              "#ed7953"
             ],
             [
              0.7777777777777778,
              "#fb9f3a"
             ],
             [
              0.8888888888888888,
              "#fdca26"
             ],
             [
              1,
              "#f0f921"
             ]
            ],
            "type": "heatmap"
           }
          ],
          "histogram": [
           {
            "marker": {
             "pattern": {
              "fillmode": "overlay",
              "size": 10,
              "solidity": 0.2
             }
            },
            "type": "histogram"
           }
          ],
          "histogram2d": [
           {
            "colorbar": {
             "outlinewidth": 0,
             "ticks": ""
            },
            "colorscale": [
             [
              0,
              "#0d0887"
             ],
             [
              0.1111111111111111,
              "#46039f"
             ],
             [
              0.2222222222222222,
              "#7201a8"
             ],
             [
              0.3333333333333333,
              "#9c179e"
             ],
             [
              0.4444444444444444,
              "#bd3786"
             ],
             [
              0.5555555555555556,
              "#d8576b"
             ],
             [
              0.6666666666666666,
              "#ed7953"
             ],
             [
              0.7777777777777778,
              "#fb9f3a"
             ],
             [
              0.8888888888888888,
              "#fdca26"
             ],
             [
              1,
              "#f0f921"
             ]
            ],
            "type": "histogram2d"
           }
          ],
          "histogram2dcontour": [
           {
            "colorbar": {
             "outlinewidth": 0,
             "ticks": ""
            },
            "colorscale": [
             [
              0,
              "#0d0887"
             ],
             [
              0.1111111111111111,
              "#46039f"
             ],
             [
              0.2222222222222222,
              "#7201a8"
             ],
             [
              0.3333333333333333,
              "#9c179e"
             ],
             [
              0.4444444444444444,
              "#bd3786"
             ],
             [
              0.5555555555555556,
              "#d8576b"
             ],
             [
              0.6666666666666666,
              "#ed7953"
             ],
             [
              0.7777777777777778,
              "#fb9f3a"
             ],
             [
              0.8888888888888888,
              "#fdca26"
             ],
             [
              1,
              "#f0f921"
             ]
            ],
            "type": "histogram2dcontour"
           }
          ],
          "mesh3d": [
           {
            "colorbar": {
             "outlinewidth": 0,
             "ticks": ""
            },
            "type": "mesh3d"
           }
          ],
          "parcoords": [
           {
            "line": {
             "colorbar": {
              "outlinewidth": 0,
              "ticks": ""
             }
            },
            "type": "parcoords"
           }
          ],
          "pie": [
           {
            "automargin": true,
            "type": "pie"
           }
          ],
          "scatter": [
           {
            "fillpattern": {
             "fillmode": "overlay",
             "size": 10,
             "solidity": 0.2
            },
            "type": "scatter"
           }
          ],
          "scatter3d": [
           {
            "line": {
             "colorbar": {
              "outlinewidth": 0,
              "ticks": ""
             }
            },
            "marker": {
             "colorbar": {
              "outlinewidth": 0,
              "ticks": ""
             }
            },
            "type": "scatter3d"
           }
          ],
          "scattercarpet": [
           {
            "marker": {
             "colorbar": {
              "outlinewidth": 0,
              "ticks": ""
             }
            },
            "type": "scattercarpet"
           }
          ],
          "scattergeo": [
           {
            "marker": {
             "colorbar": {
              "outlinewidth": 0,
              "ticks": ""
             }
            },
            "type": "scattergeo"
           }
          ],
          "scattergl": [
           {
            "marker": {
             "colorbar": {
              "outlinewidth": 0,
              "ticks": ""
             }
            },
            "type": "scattergl"
           }
          ],
          "scattermap": [
           {
            "marker": {
             "colorbar": {
              "outlinewidth": 0,
              "ticks": ""
             }
            },
            "type": "scattermap"
           }
          ],
          "scattermapbox": [
           {
            "marker": {
             "colorbar": {
              "outlinewidth": 0,
              "ticks": ""
             }
            },
            "type": "scattermapbox"
           }
          ],
          "scatterpolar": [
           {
            "marker": {
             "colorbar": {
              "outlinewidth": 0,
              "ticks": ""
             }
            },
            "type": "scatterpolar"
           }
          ],
          "scatterpolargl": [
           {
            "marker": {
             "colorbar": {
              "outlinewidth": 0,
              "ticks": ""
             }
            },
            "type": "scatterpolargl"
           }
          ],
          "scatterternary": [
           {
            "marker": {
             "colorbar": {
              "outlinewidth": 0,
              "ticks": ""
             }
            },
            "type": "scatterternary"
           }
          ],
          "surface": [
           {
            "colorbar": {
             "outlinewidth": 0,
             "ticks": ""
            },
            "colorscale": [
             [
              0,
              "#0d0887"
             ],
             [
              0.1111111111111111,
              "#46039f"
             ],
             [
              0.2222222222222222,
              "#7201a8"
             ],
             [
              0.3333333333333333,
              "#9c179e"
             ],
             [
              0.4444444444444444,
              "#bd3786"
             ],
             [
              0.5555555555555556,
              "#d8576b"
             ],
             [
              0.6666666666666666,
              "#ed7953"
             ],
             [
              0.7777777777777778,
              "#fb9f3a"
             ],
             [
              0.8888888888888888,
              "#fdca26"
             ],
             [
              1,
              "#f0f921"
             ]
            ],
            "type": "surface"
           }
          ],
          "table": [
           {
            "cells": {
             "fill": {
              "color": "#EBF0F8"
             },
             "line": {
              "color": "white"
             }
            },
            "header": {
             "fill": {
              "color": "#C8D4E3"
             },
             "line": {
              "color": "white"
             }
            },
            "type": "table"
           }
          ]
         },
         "layout": {
          "annotationdefaults": {
           "arrowcolor": "#2a3f5f",
           "arrowhead": 0,
           "arrowwidth": 1
          },
          "autotypenumbers": "strict",
          "coloraxis": {
           "colorbar": {
            "outlinewidth": 0,
            "ticks": ""
           }
          },
          "colorscale": {
           "diverging": [
            [
             0,
             "#8e0152"
            ],
            [
             0.1,
             "#c51b7d"
            ],
            [
             0.2,
             "#de77ae"
            ],
            [
             0.3,
             "#f1b6da"
            ],
            [
             0.4,
             "#fde0ef"
            ],
            [
             0.5,
             "#f7f7f7"
            ],
            [
             0.6,
             "#e6f5d0"
            ],
            [
             0.7,
             "#b8e186"
            ],
            [
             0.8,
             "#7fbc41"
            ],
            [
             0.9,
             "#4d9221"
            ],
            [
             1,
             "#276419"
            ]
           ],
           "sequential": [
            [
             0,
             "#0d0887"
            ],
            [
             0.1111111111111111,
             "#46039f"
            ],
            [
             0.2222222222222222,
             "#7201a8"
            ],
            [
             0.3333333333333333,
             "#9c179e"
            ],
            [
             0.4444444444444444,
             "#bd3786"
            ],
            [
             0.5555555555555556,
             "#d8576b"
            ],
            [
             0.6666666666666666,
             "#ed7953"
            ],
            [
             0.7777777777777778,
             "#fb9f3a"
            ],
            [
             0.8888888888888888,
             "#fdca26"
            ],
            [
             1,
             "#f0f921"
            ]
           ],
           "sequentialminus": [
            [
             0,
             "#0d0887"
            ],
            [
             0.1111111111111111,
             "#46039f"
            ],
            [
             0.2222222222222222,
             "#7201a8"
            ],
            [
             0.3333333333333333,
             "#9c179e"
            ],
            [
             0.4444444444444444,
             "#bd3786"
            ],
            [
             0.5555555555555556,
             "#d8576b"
            ],
            [
             0.6666666666666666,
             "#ed7953"
            ],
            [
             0.7777777777777778,
             "#fb9f3a"
            ],
            [
             0.8888888888888888,
             "#fdca26"
            ],
            [
             1,
             "#f0f921"
            ]
           ]
          },
          "colorway": [
           "#636efa",
           "#EF553B",
           "#00cc96",
           "#ab63fa",
           "#FFA15A",
           "#19d3f3",
           "#FF6692",
           "#B6E880",
           "#FF97FF",
           "#FECB52"
          ],
          "font": {
           "color": "#2a3f5f"
          },
          "geo": {
           "bgcolor": "white",
           "lakecolor": "white",
           "landcolor": "#E5ECF6",
           "showlakes": true,
           "showland": true,
           "subunitcolor": "white"
          },
          "hoverlabel": {
           "align": "left"
          },
          "hovermode": "closest",
          "mapbox": {
           "style": "light"
          },
          "paper_bgcolor": "white",
          "plot_bgcolor": "#E5ECF6",
          "polar": {
           "angularaxis": {
            "gridcolor": "white",
            "linecolor": "white",
            "ticks": ""
           },
           "bgcolor": "#E5ECF6",
           "radialaxis": {
            "gridcolor": "white",
            "linecolor": "white",
            "ticks": ""
           }
          },
          "scene": {
           "xaxis": {
            "backgroundcolor": "#E5ECF6",
            "gridcolor": "white",
            "gridwidth": 2,
            "linecolor": "white",
            "showbackground": true,
            "ticks": "",
            "zerolinecolor": "white"
           },
           "yaxis": {
            "backgroundcolor": "#E5ECF6",
            "gridcolor": "white",
            "gridwidth": 2,
            "linecolor": "white",
            "showbackground": true,
            "ticks": "",
            "zerolinecolor": "white"
           },
           "zaxis": {
            "backgroundcolor": "#E5ECF6",
            "gridcolor": "white",
            "gridwidth": 2,
            "linecolor": "white",
            "showbackground": true,
            "ticks": "",
            "zerolinecolor": "white"
           }
          },
          "shapedefaults": {
           "line": {
            "color": "#2a3f5f"
           }
          },
          "ternary": {
           "aaxis": {
            "gridcolor": "white",
            "linecolor": "white",
            "ticks": ""
           },
           "baxis": {
            "gridcolor": "white",
            "linecolor": "white",
            "ticks": ""
           },
           "bgcolor": "#E5ECF6",
           "caxis": {
            "gridcolor": "white",
            "linecolor": "white",
            "ticks": ""
           }
          },
          "title": {
           "x": 0.05
          },
          "xaxis": {
           "automargin": true,
           "gridcolor": "white",
           "linecolor": "white",
           "ticks": "",
           "title": {
            "standoff": 15
           },
           "zerolinecolor": "white",
           "zerolinewidth": 2
          },
          "yaxis": {
           "automargin": true,
           "gridcolor": "white",
           "linecolor": "white",
           "ticks": "",
           "title": {
            "standoff": 15
           },
           "zerolinecolor": "white",
           "zerolinewidth": 2
          }
         }
        },
        "title": {
         "text": "Trial 1: Static<br><sub>Static posture (no articulation); anatomical midpoint method</sub>"
        },
        "width": 1200
       }
      }
     },
     "metadata": {},
     "output_type": "display_data"
    },
    {
     "name": "stdout",
     "output_type": "stream",
     "text": [
      "\n",
      "Generating 3D visualization for Trial 2...\n"
     ]
    },
    {
     "data": {
      "application/vnd.plotly.v1+json": {
       "config": {
        "plotlyServerURL": "https://plot.ly"
       },
       "data": [
        {
         "marker": {
          "color": "red",
          "size": 3
         },
         "mode": "markers",
         "name": "MFEC",
         "opacity": 0.8,
         "type": "scatter3d",
         "x": {
          "bdata": "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",
          "dtype": "f8"
         },
         "y": {
          "bdata": "DAIrhxYDd0BCYOXQIgN3QBsv3SQGA3dAexSuR+ECd0Dl0CLb+QJ3QFCNl24SA3dAaJHtfD8Dd0C6SQwCKwN3QFYOLbKdA3dAwcqhRbYDd0BkO99PjQN3QKjGSzeJA3dASOF6FK4Dd0CamZmZmQN3QEjhehSuA3dAK4cW2c4Dd0ArhxbZzgN3QB1aZDvfA3dAeekmMQgEd0BSuB6F6wN3QARWDi2yA3dA9ihcj8IDd0AEVg4tsgN3QEjhehSuA3dAlkOLbOcDd0BEi2zn+wN3QA4tsp3vA3dAbxKDwMoDd0BvEoPAygN3QPYoXI/CA3dAUrgehesDd0DHSzeJQQR3QJHtfD81BHdAPzVeukkEd0AnMQisHAR3QESLbOf7A3dAJzEIrBwEd0C4HoXrUQR3QNEi2/l+BHdAjZduEoMEd0BYObTIdgR3QBSuR+F6BHdAw/UoXI8Ed0A730+NlwR3QDvfT42XBHdASgwCK4cEd0Aj2/l+agR3QAaBlUOLBHdAWDm0yHYEd0DpJjEIrAR3QC2yne+nBHdAFK5H4XoEd0BYObTIdgR3QH9qvHSTBHdA2/l+arwEd0CJQWDl0AR3QGIQWDm0BHdAVOOlm8QEd0AbL90kBgV3QPCnxks3BXdAxSCwcmgFd0DsUbgehQV3QCGwcmiRBXdACKwcWmQFd0CPwvUoXAV3QBfZzvdTBXdAj8L1KFwFd0D6fmq8dAV3QEw3iUFgBXdAz/dT46UFd0AEVg4tsgV3QH0/NV66BXdAfT81XroFd0BI4XoUrgV3QOxRuB6FBXdAPQrXo3AFd0BMN4lBYAV3QOxRuB6FBXdA9ihcj8IFd0AnMQisHAZ3QD81XrpJBndAO99PjZcGd0B/arx0kwZ3QDvfT42XBndAFK5H4XoGd0Aj2/l+agZ3QCPb+X5qBndAWDm0yHYGd0Atsp3vpwZ3QM3MzMzMBndAEFg5tMgGd0Ce76fGSwd3QPCnxks3B3dA8KfGSzcHd0AzMzMzMwd3QPCnxks3B3dAgZVDi2wHd0Coxks3iQd3QCGwcmiRB3dA3SQGgZUHd0DdJAaBlQd3QGQ730+NB3dAc2iR7XwHd0CBlUOLbAd3QLbz/dR4B3dAyXa+nxoHd0C6SQwCKwd3QPCnxks3B3dA8KfGSzcHd0AzMzMzMwd3QIXrUbgeB3dAGy/dJAYHd0AbL90kBgd3QP7UeOkmB3dArBxaZDsHd0DhehSuRwd3QOF6FK5HB3dAnu+nxksHd0C6SQwCKwd3QBsv3SQGB3dARrbz/dQGd0B7FK5H4QZ3QIlBYOXQBndAyXa+nxoHd0AMAiuHFgd3QGiR7Xw/B3dA8KfGSzcHd0D+1HjpJgd3QBsv3SQGB3dA9P3UeOkGd0BGtvP91AZ3QAIrhxbZBndA9P3UeOkGd0CF61G4Hgd3QEJg5dAiB3dAMzMzMzMHd0CF61G4Hgd3QLByaJHtBndAsHJoke0Gd0ACK4cW2QZ3QJMYBFYOB3dA5dAi2/kGd0CsHFpkOwd3QP7UeOkmB3dA16NwPQoHd0C+nxov3QZ3QAaBlUOLBndAcT0K16MGd0DpJjEIrAZ3QFTjpZvEBndAkxgEVg4Hd0Bt5/up8QZ3QIlBYOXQBndAppvEILAGd0Aj2/l+agZ3QOOlm8QgBndARIts5/sFd0Dy0k1iEAZ3QArXo3A9BndAf2q8dJMGd0Db+X5qvAZ3QLTIdr6fBndAuB6F61EGd0BEi2zn+wV3QPYoXI/CBXdAlkOLbOcFd0Bcj8L1KAZ3QLgehetRBndAg8DKoUUGd0C8dJMYBAZ3QIts5/upBXdATDeJQWAFd0BMN4lBYAV3QGQ730+NBXdA3SQGgZUFd0CLbOf7qQV3QFYOLbKdBXdA+n5qvHQFd0AlBoGVQwV3QHe+nxovBXdA/tR46SYFd0BMN4lBYAV3QAisHFpkBXdAxSCwcmgFd0Ce76fGSwV3QMl2vp8aBXdA5dAi2/kEd0BeukkMAgV3QNejcD0KBXdAXrpJDAIFd0CYbhKDwAR3QPhT46WbBHdAg8DKoUUEd0DufD81XgR3QBSuR+F6BHdAke18PzUEd0Cq8dJNYgR3QO58PzVeBHdAx0s3iUEEd0A1XrpJDAR3QHnpJjEIBHdADi2yne8Dd0CkcD0K1wN3QFK4HoXrA3dAGQRWDi0Ed0AAAAAAAAR3QA4tsp3vA3dA9ihcj8IDd0BzaJHtfAN3QOxRuB6FA3dA+n5qvHQDd0CPwvUoXAN3QHe+nxovA3dAJQaBlUMDd0ApXI/C9QJ3QG3n+6nxAndAXrpJDAIDd0AbL90kBgN3QPp+arx0A3dArBxaZDsDd0D0/dR46QJ3QJhuEoPAAndA2/l+arwCd0ACK4cW2QJ3QFTjpZvEAndAukkMAisDd0D0/dR46QJ3QEa28/3UAndA2/l+arwCd0CJQWDl0AJ3QG3n+6nxAndAXrpJDAIDd0BeukkMAgN3QF66SQwCA3dAXrpJDAIDd0D0/dR46QJ3QIlBYOXQAndAEFg5tMgCd0ApXI/C9QJ3QBsv3SQGA3dAsHJoke0Cd0CTGARWDgN3QMl2vp8aA3dA7FG4HoUDd0DhehSuRwN3QC/dJAaBA3dAPQrXo3ADd0CPwvUoXAN3QAisHFpkA3dAtvP91HgDd0A9CtejcAN3QFpkO99PA3dA001iEFgDd0AlBoGVQwN3QNNNYhBYA3dAJQaBlUMDd0Av3SQGgQN3QPp+arx0A3dAF9nO91MDd0Boke18PwN3QDMzMzMzA3dAukkMAisDd0BWDi2ynQN3QNnO91PjA3dAhxbZzvcDd0AdWmQ73wN3QB1aZDvfA3dAbxKDwMoDd0ArhxbZzgN3QPLSTWIQBHdAWDm0yHYEd0AK16NwPQR3QJzEILByBHdAg8DKoUUEd0DjpZvEIAR3QAAAAAAABHdAeekmMQgEd0Bcj8L1KAR3QJzEILByBHdAYhBYObQEd0BU46WbxAR3QC2yne+nBHdAw/UoXI8Ed0D8qfHSTQR3QD81XrpJBHdAqvHSTWIEd0BKDAIrhwR3QPhT46WbBHdA+FPjpZsEd0BKDAIrhwR3QE5iEFg5BHdA30+Nl24Ed0DRItv5fgR3QKabxCCwBHdAiUFg5dAEd0A3iUFg5QR3QLByaJHtBHdAEFg5tMgEd0B/arx0kwR3QHE9CtejBHdAVOOlm8QEd0CiRbbz/QR3QCUGgZVDBXdAF9nO91MFd0AzMzMzMwV3QIlBYOXQBHdA+FPjpZsEd0CNl24SgwR3QLTIdr6fBHdAEFg5tMgEd0BCYOXQIgV3QFpkO99PBXdAaJHtfD8Fd0Dwp8ZLNwV3QKJFtvP9BHdAVOOlm8QEd0Cmm8QgsAR3QC2yne+nBHdAvp8aL90Ed0BCYOXQIgV3QKwcWmQ7BXdA8KfGSzcFd0CF61G4HgV3QOXQItv5BHdAVOOlm8QEd0Db+X5qvAR3QPT91HjpBHdAsHJoke0Ed0AzMzMzMwV3QD0K16NwBXdAc2iR7XwFd0AIrBxaZAV3QBfZzvdTBXdAukkMAisFd0C6SQwCKwV3QFpkO99PBXdAnu+nxksFd0AIrBxaZAV3QIGVQ4tsBXdA+n5qvHQFd0BzaJHtfAV3QAisHFpkBXdAMzMzMzMFd0AbL90kBgV3QJMYBFYOBXdAhetRuB4Fd0DTTWIQWAV3QFpkO99PBXdAF9nO91MFd0Dwp8ZLNwV3QP7UeOkmBXdAUI2XbhIFd0CTGARWDgV3QBsv3SQGBXdA5dAi2/kEd0C+nxov3QR3QG3n+6nxBHdAGy/dJAYFd0Ce76fGSwV3QCUGgZVDBXdAd76fGi8Fd0BCYOXQIgV3QMl2vp8aBXdAkxgEVg4Fd0BQjZduEgV3QKJFtvP9BHdA/tR46SYFd0C6SQwCKwV3QMl2vp8aBXdAUI2XbhIFd0CTGARWDgV3QMl2vp8aBXdADAIrhxYFd0ApXI/C9QR3QHsUrkfhBHdAiUFg5dAEd0ACK4cW2QR3QLByaJHtBHdA16NwPQoFd0ApXI/C9QR3QLByaJHtBHdAH4XrUbgEd0Db+X5qvAR3QEoMAiuHBHdALbKd76cEd0A3iUFg5QR3QF66SQwCBXdAokW28/0Ed0Bt5/up8QR3QJhuEoPABHdAEFg5tMgEd0BGtvP91AR3QG3n+6nxBHdAyXa+nxoFd0CF61G4HgV3QJMYBFYOBXdAXrpJDAIFd0CTGARWDgV3QEJg5dAiBXdArBxaZDsFd0AzMzMzMwV3QHe+nxovBXdAd76fGi8Fd0B3vp8aLwV3QJ7vp8ZLBXdAF9nO91MFd0DTTWIQWAV3QI/C9ShcBXdArBxaZDsFd0AlBoGVQwV3QJ7vp8ZLBXdAj8L1KFwFd0DTTWIQWAV3QI/C9ShcBXdA001iEFgFd0AlBoGVQwV3QHe+nxovBXdAMzMzMzMFd0C6SQwCKwV3QDMzMzMzBXdAQmDl0CIFd0BaZDvfTwV3QEw3iUFgBXdABFYOLbIFd0AdWmQ73wV3QGDl0CLbBXdAhxbZzvcFd0C8dJMYBAZ3QESLbOf7BXdAUrgehesFd0BEi2zn+wV3QJZDi2znBXdAK4cW2c4Fd0BWDi2ynQV3QBKDwMqhBXdAbxKDwMoFd0CHFtnO9wV3QB1aZDvfBXdAUrgehesFd0AdWmQ73wV3QMuhRbbzBXdAeekmMQgGd0BqvHSTGAZ3QJzEILByBndAWDm0yHYGd0Atsp3vpwZ3QJhuEoPABndAEFg5tMgGd0BGtvP91AZ3QJhuEoPABndAmG4Sg8AGd0AfhetRuAZ3QNv5fmq8BndAtMh2vp8Gd0BxPQrXowZ3QFTjpZvEBndAN4lBYOUGd0DNzMzMzAZ3QM3MzMzMBndAw/UoXI8Gd0C4HoXrUQZ3QJzEILByBndA30+Nl24Gd0AfhetRuAZ3QPT91HjpBndAvp8aL90Gd0AQWDm0yAZ3QMP1KFyPBndAoBov3SQGd0CR7Xw/NQZ3QDEIrBxaBndAppvEILAGd0ApXI/C9QZ3QF66SQwCB3dAEFg5tMgGd0D4U+OlmwZ3QGZmZmZmBndA7nw/NV4Gd0AGgZVDiwZ3QNv5fmq8BndAEFg5tMgGd0BGtvP91AZ3QFTjpZvEBndAzczMzMwGd0BiEFg5tAZ3QLTIdr6fBndAcT0K16MGd0Cmm8QgsAZ3QM3MzMzMBndAEFg5tMgGd0C+nxov3QZ3QJhuEoPABndAEFg5tMgGd0A730+NlwZ3QHsUrkfhBndAiUFg5dAGd0Atsp3vpwZ3QC2yne+nBndAiUFg5dAGd0CTGARWDgd3QAIrhxbZBndAiUFg5dAGd0DpJjEIrAZ3QNv5fmq8BndAN4lBYOUGd0BCYOXQIgd3QJ7vp8ZLB3dAPQrXo3AHd0BzaJHtfAd3QMUgsHJoB3dAPQrXo3AHd0DFILByaAd3QFpkO99PB3dAxSCwcmgHd0CamZmZmQd3QKjGSzeJB3dAtvP91HgHd0Av3SQGgQd3QFYOLbKdB3dAObTIdr4Hd0BSuB6F6wd3QNnO91PjB3dAHVpkO98Hd0DP91PjpQd3QN0kBoGVB3dAIbByaJEHd0CamZmZmQd3QPYoXI/CB3dAwcqhRbYHd0Bg5dAi2wd3QARWDi2yB3dAwcqhRbYHd0AEVg4tsgd3QH0/NV66B3dApHA9CtcHd0Bg5dAi2wd3QARWDi2yB3dAfT81XroHd0DP91PjpQd3QBKDwMqhB3dA3SQGgZUHd0Coxks3iQd3QMHKoUW2B3dAmpmZmZkHd0B9PzVeugd3QOf7qfHSB3dAObTIdr4Hd0B9PzVeugd3QMHKoUW2B3dASOF6FK4Hd0BvEoPAygd3QC/dJAaBB3dAmpmZmZkHd0A5tMh2vgd3QKRwPQrXB3dAYOXQItsHd0Bg5dAi2wd3QH0/NV66B3dAEoPAyqEHd0Coxks3iQd3QIts5/upB3dABFYOLbIHd0Dn+6nx0gd3QH0/NV66B3dA3SQGgZUHd0Av3SQGgQd3QIGVQ4tsB3dA3SQGgZUHd0ArhxbZzgd3QCuHFtnOB3dAmpmZmZkHd0BWDi2ynQd3QOf7qfHSB3dAqMZLN4kHd0CamZmZmQd3QN0kBoGVB3dAVg4tsp0Hd0D2KFyPwgd3QOf7qfHSB3dAEoPAyqEHd0A=",
          "dtype": "f8"
         },
         "z": {
          "bdata": "i2zn+6knc0BWDi2ynSdzQH0/NV66J3NAi2zn+6knc0A9CtejcCdzQFpkO99PJ3NAukkMAisnc0B7FK5H4SZzQH9qvHSTJnNAFK5H4Xomc0CgGi/dJCZzQESLbOf7JXNAXI/C9Sgmc0DjpZvEICZzQPLSTWIQJnNAeekmMQgmc0C8dJMYBCZzQAAAAAAAJnNANV66SQwmc0B56SYxCCZzQGq8dJMYJnNAFK5H4Xomc0DfT42XbiZzQHWTGARWJnNACtejcD0mc0CuR+F6FCZzQK5H4XoUJnNAAAAAAAAmc0CkcD0K1yVzQMuhRbbzJXNATmIQWDkmc0DfT42XbiZzQGZmZmZmJnNAarx0kxgmc0B9PzVeuiVzQPp+arx0JXNAF9nO91Mlc0BCYOXQIiVzQP7UeOkmJXNAukkMAislc0DXo3A9CiVzQKJFtvP9JHNAXrpJDAIlc0AbL90kBiVzQClcj8L1JHNAexSuR+Ekc0DNzMzMzCRzQOkmMQisJHNAdZMYBFYkc0DRItv5fiRzQOkmMQisJHNA+FPjpZskc0DfT42XbiRzQO58PzVeJHNAI9v5fmokc0DVeOkmMSRzQFyPwvUoJHNAeekmMQgkc0ArhxbZziNzQOf7qfHSI3NAHVpkO98jc0Cyne+nxiNzQEjhehSuI3NA001iEFgjc0AlBoGVQyNzQHe+nxovI3NAUI2XbhIjc0A3iUFg5SJzQLByaJHtInNAiUFg5dAic0Db+X5qvCJzQIlBYOXQInNAsHJoke0ic0A3iUFg5SJzQJhuEoPAInNAjZduEoMic0Cq8dJNYiJzQMdLN4lBInNAJzEIrBwic0AK16NwPSJzQFyPwvUoInNAGQRWDi0ic0CHFtnO9yFzQG8Sg8DKIXNAtvP91Hghc0CsHFpkOyFzQOF6FK5HIXNAMzMzMzMhc0BCYOXQIiFzQNejcD0KIXNAexSuR+Egc0AGgZVDiyBzQN9PjZduIHNAI9v5fmogc0CcxCCwciBzQCPb+X5qIHNAw/UoXI8gc0CYbhKDwCBzQDvfT42XIHNASgwCK4cgc0CcxCCwciBzQEoMAiuHIHNAf2q8dJMgc0AfhetRuCBzQM3MzMzMIHNA001iEFghc0AIrBxaZCFzQNNNYhBYIXNAnu+nxkshc0BaZDvfTyFzQJ7vp8ZLIXNA4XoUrkchc0Dwp8ZLNyFzQI/C9ShcIXNAfT81Xrohc0BEi2zn+yFzQGq8dJMYInNARIts5/shc0CkcD0K1yFzQIts5/upIXNA9ihcj8Ihc0DP91PjpSFzQCuHFtnOIXNAK4cW2c4hc0CWQ4ts5yFzQJZDi2znIXNAYOXQItshc0DP91PjpSFzQLbz/dR4IXNAxSCwcmghc0C28/3UeCFzQN0kBoGVIXNAfT81Xrohc0CkcD0K1yFzQB1aZDvfIXNAK4cW2c4hc0BvEoPAyiFzQFYOLbKdIXNAEoPAyqEhc0CLbOf7qSFzQG8Sg8DKIXNAXI/C9Sgic0AK16NwPSJzQArXo3A9InNAPzVeukkic0BqvHSTGCJzQCcxCKwcInNACtejcD0ic0DufD81XiJzQDvfT42XInNAVOOlm8Qic0CYbhKDwCJzQJhuEoPAInNAtMh2vp8ic0AfhetRuCJzQPT91HjpInNADAIrhxYjc0Ce76fGSyNzQM/3U+OlI3NArkfhehQkc0BOYhBYOSRzQGq8dJMYJHNAlkOLbOcjc0Dn+6nx0iNzQOf7qfHSI3NAarx0kxgkc0DHSzeJQSRzQKrx0k1iJHNABoGVQ4skc0Cmm8QgsCRzQHE9CtejJHNA+FPjpZskc0BxPQrXoyRzQHsUrkfhJHNAkxgEVg4lc0B3vp8aLyVzQFpkO99PJXNAWmQ7308lc0BCYOXQIiVzQKwcWmQ7JXNAaJHtfD8lc0BMN4lBYCVzQLbz/dR4JXNAmpmZmZklc0D2KFyPwiVzQKAaL90kJnNAI9v5fmomc0A730+NlyZzQKabxCCwJnNAtMh2vp8mc0C0yHa+nyZzQN9PjZduJnNAFK5H4Xomc0CwcmiR7SZzQCUGgZVDJ3NAc2iR7Xwnc0D2KFyPwidzQG8Sg8DKJ3NAwcqhRbYnc0BI4XoUridzQG8Sg8DKJ3NARIts5/snc0CR7Xw/NShzQGZmZmZmKHNAPzVeukkoc0D8qfHSTShzQHWTGARWKHNAI9v5fmooc0B7FK5H4ShzQNejcD0KKXNA16NwPQopc0ApXI/C9ShzQOXQItv5KHNAyXa+nxopc0AzMzMzMylzQHNoke18KXNAObTIdr4pc0D2KFyPwilzQPp+arx0KXNAnu+nxkspc0ArhxbZzilzQESLbOf7KXNAoBov3SQqc0D8qfHSTSpzQArXo3A9KnNAPzVeukkqc0AZBFYOLSpzQCcxCKwcKnNAGQRWDi0qc0AxCKwcWipzQI2XbhKDKnNAFK5H4Xoqc0A/NV66SSpzQE5iEFg5KnNA1XjpJjEqc0DVeOkmMSpzQBkEVg4tKnNAke18PzUqc0AnMQisHCpzQGq8dJMYKnNA8tJNYhAqc0AOLbKd7ylzQB1aZDvfKXNAZDvfT40pc0DZzvdT4ylzQA4tsp3vKXNAlkOLbOcpc0AEVg4tsilzQARWDi2yKXNAPQrXo3Apc0BkO99PjSlzQC/dJAaBKXNAc2iR7Xwpc0ASg8DKoSlzQM/3U+OlKXNA3SQGgZUpc0AhsHJokSlzQI/C9ShcKXNAF9nO91Mpc0C6SQwCKylzQF66SQwCKXNAexSuR+Eoc0CwcmiR7ShzQIXrUbgeKXNAGy/dJAYpc0DNzMzMzChzQDEIrBxaKHNAoBov3SQoc0DjpZvEIChzQMdLN4lBKHNAMQisHFooc0Cq8dJNYihzQD81XrpJKHNAarx0kxgoc0BSuB6F6ydzQPYoXI/CJ3NAK4cW2c4nc0AAAAAAAChzQJHtfD81KHNAMQisHFooc0C4HoXrUShzQNV46SYxKHNAvHSTGAQoc0BvEoPAyidzQLKd76fGJ3NAlkOLbOcnc0C8dJMYBChzQLx0kxgEKHNAi2zn+6knc0DsUbgehSdzQEJg5dAiJ3NA9P3UeOkmc0D0/dR46SZzQF66SQwCJ3NAukkMAisnc0CsHFpkOydzQAwCK4cWJ3NARrbz/dQmc0B/arx0kyZzQM3MzMzMJnNAGy/dJAYnc0DJdr6fGidzQGiR7Xw/J3NAJQaBlUMnc0CsHFpkOydzQLByaJHtJnNAvp8aL90mc0CJQWDl0CZzQOXQItv5JnNArBxaZDsnc0AhsHJokSdzQH0/NV66J3NAi2zn+6knc0DsUbgehSdzQBfZzvdTJ3NA/tR46SYnc0ApXI/C9SZzQKJFtvP9JnNAukkMAisnc0DhehSuRydzQGiR7Xw/J3NA16NwPQonc0Dl0CLb+SZzQHsUrkfhJnNAiUFg5dAmc0BiEFg5tCZzQM3MzMzMJnNAN4lBYOUmc0A3iUFg5SZzQG3n+6nxJnNAAiuHFtkmc0AfhetRuCZzQDvfT42XJnNABoGVQ4smc0D4U+OlmyZzQGIQWDm0JnNAEFg5tMgmc0BiEFg5tCZzQL6fGi/dJnNARrbz/dQmc0ApXI/C9SZzQOXQItv5JnNAsHJoke0mc0DNzMzMzCZzQB+F61G4JnNAVOOlm8Qmc0CwcmiR7SZzQClcj8L1JnNA16NwPQonc0B3vp8aLydzQHe+nxovJ3NAUI2XbhInc0ApXI/C9SZzQHsUrkfhJnNA9P3UeOkmc0ApXI/C9SZzQOXQItv5JnNAMzMzMzMnc0Dwp8ZLNydzQPCnxks3J3NA5dAi2/kmc0A3iUFg5SZzQPT91HjpJnNAokW28/0mc0DXo3A9CidzQFCNl24SJ3NAyXa+nxonc0BeukkMAidzQPT91HjpJnNAAiuHFtkmc0CiRbbz/SZzQAwCK4cWJ3NAkxgEVg4nc0CiRbbz/SZzQG3n+6nxJnNAAiuHFtkmc0CJQWDl0CZzQJhuEoPAJnNAiUFg5dAmc0DXo3A9CidzQPT91HjpJnNA5dAi2/kmc0DJdr6fGidzQJhuEoPAJnNAO99PjZcmc0A3iUFg5SZzQMl2vp8aJ3NAd76fGi8nc0AX2c73UydzQOF6FK5HJ3NArBxaZDsnc0AMAiuHFidzQF66SQwCJ3NA5dAi2/kmc0BeukkMAidzQPT91HjpJnNA9P3UeOkmc0AbL90kBidzQOXQItv5JnNA2/l+arwmc0D4U+OlmyZzQLTIdr6fJnNAH4XrUbgmc0B7FK5H4SZzQOXQItv5JnNAsHJoke0mc0DNzMzMzCZzQKabxCCwJnNAnMQgsHImc0DufD81XiZzQDEIrBxaJnNAWDm0yHYmc0DD9ShcjyZzQKabxCCwJnNAppvEILAmc0CYbhKDwCZzQPhT46WbJnNAFK5H4Xomc0DufD81XiZzQD81XrpJJnNAuB6F61Emc0Cq8dJNYiZzQLgehetRJnNAeekmMQgmc0AdWmQ73yVzQEjhehSuJXNA3SQGgZUlc0BWDi2ynSVzQOxRuB6FJXNA7FG4HoUlc0Coxks3iSVzQARWDi2yJXNA3SQGgZUlc0AhsHJokSVzQNNNYhBYJXNAxSCwcmglc0DTTWIQWCVzQHe+nxovJXNAd76fGi8lc0DTTWIQWCVzQFpkO99PJXNAXrpJDAIlc0DNzMzMzCRzQDEIrBxaJHNAMQisHFokc0AnMQisHCRzQDVeukkMJHNAhxbZzvcjc0CkcD0K1yNzQKRwPQrXI3NAObTIdr4jc0B9PzVeuiNzQMuhRbbzI3NAvHSTGAQkc0CgGi/dJCRzQDVeukkMJHNA46WbxCAkc0BEi2zn+yNzQMuhRbbzI3NAbxKDwMojc0Cyne+nxiNzQJZDi2znI3NAarx0kxgkc0BOYhBYOSRzQLgehetRJHNAMQisHFokc0D8qfHSTSRzQGq8dJMYJHNAbxKDwMojc0D2KFyPwiNzQNnO91PjI3NAGQRWDi0kc0BmZmZmZiRzQJzEILByJHNAXI/C9Sgkc0DZzvdT4yNzQH0/NV66I3NASOF6FK4jc0B9PzVeuiNzQG8Sg8DKI3NAwcqhRbYjc0DdJAaBlSNzQD0K16NwI3NAtvP91Hgjc0A9CtejcCNzQPp+arx0I3NA+n5qvHQjc0AIrBxaZCNzQBfZzvdTI3NAc2iR7Xwjc0CBlUOLbCNzQHNoke18I3NAj8L1KFwjc0DTTWIQWCNzQFpkO99PI3NAWmQ7308jc0Boke18PyNzQBfZzvdTI3NAVg4tsp0jc0DdJAaBlSNzQFYOLbKdI3NAtvP91Hgjc0BQjZduEiNzQBSuR+F6InNA/Knx0k0ic0A/NV66SSJzQLgehetRInNAuB6F61Eic0BOYhBYOSJzQA4tsp3vIXNAYOXQItshc0AOLbKd7yFzQIcW2c73IXNAeekmMQgic0A1XrpJDCJzQA4tsp3vIXNAfT81Xrohc0BWDi2ynSFzQPYoXI/CIXNA2c73U+Mhc0AnMQisHCJzQAAAAAAAInNAAAAAAAAic0AEVg4tsiFzQOxRuB6FIXNAL90kBoEhc0CamZmZmSFzQPYoXI/CIXNAbxKDwMohc0DsUbgehSFzQI/C9ShcIXNAd76fGi8hc0Ce76fGSyFzQM/3U+OlIXNAlkOLbOchc0CuR+F6FCJzQIcW2c73IXNAUrgeheshc0CkcD0K1yFzQB1aZDvfIXNAHVpkO98hc0BqvHSTGCJzQIPAyqFFInNAoBov3SQic0CgGi/dJCJzQHnpJjEIInNADi2yne8hc0AOLbKd7yFzQIcW2c73IXNAarx0kxgic0AZBFYOLSJzQKAaL90kInNAAAAAAAAic0CWQ4ts5yFzQMuhRbbzIXNANV66SQwic0DjpZvEICJzQK5H4XoUInNAy6FFtvMhc0DZzvdT4yFzQESLbOf7IXNAoBov3SQic0BOYhBYOSJzQCPb+X5qInNAnMQgsHIic0B/arx0kyJzQC2yne+nInNA2/l+arwic0DpJjEIrCJzQPhT46WbInNAH4XrUbgic0C0yHa+nyJzQMP1KFyPInNAYhBYObQic0BKDAIrhyJzQH9qvHSTInNAjZduEoMic0BKDAIrhyJzQH9qvHSTInNA0SLb+X4ic0A=",
          "dtype": "f8"
         }
        },
        {
         "marker": {
          "color": "darkred",
          "size": 3
         },
         "mode": "markers",
         "name": "LFEC",
         "opacity": 0.8,
         "type": "scatter3d",
         "x": {
          "bdata": "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",
          "dtype": "f8"
         },
         "y": {
          "bdata": "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",
          "dtype": "f8"
         },
         "z": {
          "bdata": "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",
          "dtype": "f8"
         }
        },
        {
         "marker": {
          "color": "pink",
          "size": 2
         },
         "mode": "markers",
         "name": "FH",
         "opacity": 0.8,
         "type": "scatter3d",
         "x": {
          "bdata": "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",
          "dtype": "f8"
         },
         "y": {
          "bdata": "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",
          "dtype": "f8"
         },
         "z": {
          "bdata": "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",
          "dtype": "f8"
         }
        },
        {
         "marker": {
          "color": "blue",
          "size": 3
         },
         "mode": "markers",
         "name": "MTC",
         "opacity": 0.8,
         "type": "scatter3d",
         "x": {
          "bdata": "4JwRpb2BJcCV1AloImwlwClcj8L1SCXA24r9ZfckJcBoke18P/UkwGuad5yiwyTArK3YX3aPJMCBlUOLbGckwBpR2ht8QSTAduCcEaUdJMC94xQdyfUjwGFPO/w12SPAbHh6pSzDI8DTwfo/h6kjwH46HjNQmSPALnO6LCaWI8DyQc9m1ZcjwCAkC5jAnSPAJCh+jLmrI8BaEqCmlr0jwNNNYhBYySPAWBzO/GrOI8Bm9+RhocYjwEuTUtDttSPAzAuwj06dI8A1Y9F0doIjwCfChqdXaiPA6j4AqU1cI8BhiQeUTVkjwJYmpaDbWyPA2J5ZEqBWI8AtCVBTy0YjwDihEAGHMCPAQ8pPqn0KI8CLVBhbCOIiwM6qz9VWvCLAGM+goX+iIsDqCUs8oIwiwBTQRNjwdCLAchb2tMNfIsCoGOdvQlEiwESLbOf7OSLA3EYDeAskIsByUMJM2w8iwHIz3IDP/yHAcT0K16PwIcA5C3va4d8hwAEwnkFDzyHAzojS3uC7IcAcJa/OMaAhwC7KbJBJhiHAk4ychT1tIcAZ529CIVIhwBBdUN8yNyHAXoWUn1QbIcD9MEJ4tAEhwOLMr+YA8SDA0qkrn+XZIMBvKlJhbMEgwJ57D5ccpyDAIQclzLSNIMDTn/1IEWkgwJuPa0PFSCDAVRhbCHIwIMC3C811GhkgwONrzywJACDAkWEVb2S+H8B8m/7sR2ofwOkrSDMWDR/A1SE3ww24HsBZUYNpGH4ewPGdmPViaB7AcCU7NgJxHsAwZHWr54QewCnQJ/IkiR7ApN++DpxzHsBxAz4/jFAewHe+nxovHR7Agsr49xnXHcBv9Zz0vpEdwDi+9sySQB3A7Bfshm3rHMCbrFEP0YgcwCnQJ/IkKRzAe2tgqwTLG8Di5H6HooAbwPJetTLhNxvAIoleRrH8GsB8YTJVMMoawJf/kH77mhrAOBCSBUxgGsBpUgq6vSQawNiBc0aU9hnAhGQBE7jVGcCFJR5QNsUZwMr9DkWBvhnALWACt+7GGcBCQ/8EF8sZwOrKZ3kevBnAWRe30QCeGcDVsrW+SIgZwDdsW5TZgBnAIEHxY8ydGcDFOH8TCtEZwGyVYHE4ExrAiLoPQGpTGsAJOIQqNXsawE8jLZW3gxrAD7kZbsCHGsDlfoeiQH8awFIP0egOghrAh1ClZg+UGsCZDTLJyLkawLNBJhk56xrAPQrXo3AdG8ARje4gdkYbwIBlpUkpaBvA36Y/+5GCG8CCqPsApJYbwCBj7lpCnhvAZeQs7GmnG8CskPKTap8bwEcgXtcvmBvAa0jcY+mDG8CE2JlC53UbwJ7qkJvhZhvA1bK1vkhIG8AZVvFG5jEbwLHh6ZWyLBvA3uUivhMzG8AZc9cS8kEbwHK/Q1GgTxvAEk4LXvRVG8CDNGPRdFYbwEq1T8djRhvAarx0kxhEG8Cyne+nxksbwAH20akrXxvAFD/G3LWEG8A4oRABh7AbwLahYpy/6RvAGJXUCWgiHMC8y0V8J0YcwI1/n3HhYBzAk6mCUUl9HMCU2SCTjJwcwMDnhxHCwxzAQX3LnC7rHMC/YDdsWxQdwChhpu1fOR3A7BLVWwNbHcD+ZffkYYEdwA6hSs0eqB3AiuWWVkPiHcBzol2FlB8ewE8GR8mrcx7A1GUxsfnYHsAwTKYKRkUfwFsIclDCrB/AqkNuhhsAIMClTkATYSMgwKneGtgqQSDAQfFjzF1bIMCOAdnr3W8gwDm536EogCDAOL72zJKQIMCl2qfjMaMgwGfyzTY3tiDAecxAZfzLIMCG5jqNtOQgwIC3QILi9yDAZVOu8C4HIcBv2LYosxEhwFjnGJC9HiHASbpm8s02IcAYsrrVc1IhwBe86CtIcyHAt9EA3gKZIcBgkzXqIbohwNXPm4pU2CHAh4px/ib0IcDizK/mABEiwIfEPZY+NCLAV5V9VwRfIsB5r1qZ8IsiwCrG+ZtQuCLAiQyreCPjIsCXkA96NgsjwFVNEHUfMCPAGCZTBaNSI8AkfzDw3HsjwJdWQ+IeqyPA8zy4O2vXI8BmZmZmZgYkwN5xio7kMiTAl/+QfvtaJMBBguLHmHskwJjdk4eFmiTAYOXQItu5JMDeAgmKH+MkwMoyxLEuDiXAzTtO0ZE8JcC30QDeAmklwNzXgXNGlCXAImx4eqWsJcDFjzF3LcElwD7o2az63CXA3+ALk6kCJsCtad5xii4mwIbJVMGoZCbASS7/If2WJsAkl/+QfrsmwCcxCKwc2ibALv8h/fb1JsCP5PIf0g8nwLKd76fGKyfAKVyPwvVIJ8DcaABvgWQnwMPTK2UZgifAdEaU9gafJ8B4nKIjubwnwB1aZDvfzyfA+THmriXkJ8D+1HjpJvEnwJLLf0i//SfAKjqSy38IKMCk374OnBMowAAAAAAAICjAfh04Z0QpKMBWDi2ynS8owLAD54woLSjAZohjXdwmKMCRD3o2qx4owKMjufyHFCjA8x/Sb18HKMCQMXctIf8nwJOpglFJ/SfAf2q8dJP4J8BUUiegifAnwLpJDAIr5yfAsi5uowHcJ8CSXP5D+s0nwPAWSFD8uCfAat5xio6kJ8C/DpwzopQnwN0kBoGVgyfAtMh2vp96J8AN4C2QoHgnwOeMKO0NfifAgZVDi2yHJ8Cmm8QgsJInwB1aZDvfjyfA93XgnBGFJ8AFo5I6AW0nwE5iEFg5VCfAWDm0yHY+J8CiRbbz/TQnwEOtad5xKifAXwfOGVEaJ8BnRGlv8AUnwCegibDh6SbAuycPC7XGJsCfzarP1ZYmwNEi2/l+aibAZohjXdxGJsAtsp3vpyYmwGZmZmZmBibAHhZqTfPuJcDZX3ZPHtYlwJwzorQ3uCXAz/dT46WbJcDQ1VbsL3slwAK8BRIUXyXAqaROQBNBJcDTvOMUHSklwEa28/3UGCXAVFInoIkQJcBuowG8BRIlwApoImx4GiXApU5AE2EjJcAPC7WmeSclwMxdS8gHHSXAsp3vp8YLJcCad5yiI/kkwBzr4jYa4CTARGlv8IXJJMC+MJkqGLUkwL3jFB3JpSTA9+RhodaUJMBtVn2utoIkwOqVsgxxbCTARrbz/dRYJMAGgZVDi0wkwOC+DpwzQiTAFK5H4Xo0JMClLEMc6yIkwM6I0t7gCyTAwZDVrZ7zI8CP39v0Z98jwDIDlfHv0yPAcLa5MT3RI8C1bK0vEtojwKYnLPGA4iPAbCHIQQnzI8B3EDtT6PwjwN0kBoGVAyTAih9j7loCJMDHSzeJQQAkwKK0N/jCBCTAidLe4AsTJMDIBz2bVR8kwAaBlUOLLCTAnRGlvcE3JMC2hHzQszkkwGKh1jTvOCTAi2zn+6kxJMDo2az6XC0kwOeMKO0NHiTA3GgAb4EEJMAiiV5GsewjwLPqc7UV2yPAJ2a9GMrJI8CMEB5tHMEjwD/jwoGQvCPACFVq9kC7I8CAfXTqyrcjwOBnXDgQsiPAoKaWrfWlI8Cb/uxHiogjwOJ1/YLdYCPAG7tE9dZAI8CT407pYC0jwPNZngd3JyPAK9mxEYgnI8AVAOMZNCQjwO53KAr0KSPAjZyFPe0wI8CTOgFNhC0jwPERMSWSKCPAWBzO/GouI8C14EVfQTojwM6N6QlLTCPAK/uuCP5XI8DmXIqryl4jwAOy17s/XiPAWipvRzhdI8BEqFKzB1ojwP5IERlWYSPAKm9HOC14I8A+0AoMWY0jwKt4I/PInyPAufyH9Nu3I8DXUdUEUccjwEzg1t08xSPAJzEIrBzKI8AC1NSytc4jwI16iEZ30CPAlBPtKqTMI8DjiLX4FMAjwHPXEvJBryPAN091yM2gI8AXZTbIJJMjwGhcOBCShSPAVft0PGaAI8DAPjp15YMjwLe0GhL3iCPA1pC4x9KHI8DKN9vcmI4jwL/Uz5uKlCPAbcX+snuSI8B9lufB3YkjwBY1mIbhgyPA4QuTqYKBI8BeEfxvJXsjwGfttgvNdSPAe7374716I8AnwoanV4ojwAAd5ssLkCPAuvdwyXGXI8AKv9TPm6ojwMVVZd8VwSPAMjhKXp3TI8D/snvysOAjwOo+AKlN7CPA2sngKHn1I8CppE5AEwEkwHnpJjEIDCTAS8gHPZsVJMBb07zjFB0kwFTjpZvEICTAIv32deAcJMBGtvP91BgkwB4Wak3zDiTAdJgvL8D+I8AQejarPucjwF3Ed2LWyyPAonprYKu0I8B6U5EKY5sjwIQSZtr+hSPAJuSDns16I8BPBkfJq3MjwC7KbJBJdiPATtGRXP5zI8ClMVpHVXMjwJNvtrkxbSPA9fOmIhVmI8CyhSAHJVwjwPHXZI16SCPAGa2jqgkyI8D+SBEZViEjwDHO34RCFCPA529CIQIOI8A1DB8RUxIjwKpDboYbICPAOxkcJa8uI8BnLJrOTjYjwCf3OxQFOiPAucK7XMQ3I8DA54cRwiMjwBzTE5Z4ECPAl5APejb7IsBqTfOOU+QiwEnXTL7ZxiLAUYNpGD6iIsCJmBJJ9HIiwMwLsI9OTSLAF9S3zOkyIsBhTzv8NRkiwGIQWDm0CCLA2V92Tx4GIsBA+5EiMgwiwDgteNFXECLAS80eaAUWIsBGCI82jhgiwFRSJ6CJECLAt3pOet/4IcDM7snDQt0hwDP+fcaFwyHAsoAJ3LqrIcCQFJFhFY8hwFuU2SCTbCHAzJcXYB9NIcA3bFuU2SAhwPpEniRd4yDAKAr0iTypIMB65A8GnnsgwPlJtU/HUyDAL6hvmdM1IMCCHJQw0yYgwDvkZrgBHyDAXvQVpBkbIMAHX5hMFRwgwD4FwHgGLSDAqmBUUidAIMBTeTvCaVEgwBKgppatVSDA/OO9amVSIMBdUN8yp0sgwE9AE2HDUyDA83FtqBhXIMAZraOqCWIgwDxrt11obiDAnDOitDd4IMDuPVxy3HkgwJHVrZ6TfiDAj1N0JJd/IMDM0eP3Nn0gwDhKXp1jgCDAn1kSoKaGIMBKe4MvTIYgwPWc9L7xdSDA+b1Nf/ZjIMDA7J48LFQgwFxy3CkdTCDAm1q21hdJIMC6LCY2H0cgwFCNl24SQyDA8l61MuE3IMCu00hL5R0gwFtfJLTl/B/ApWYPtALDH8Bl3xXB/5YfwACMZ9DQfx/Ae0ljtI5qH8CHbYsyG2QfwIts5/upUR/AoS3nUlw1H8BQATCeQSMfwFPL1voiIR/AznADPj8sH8CvsUtUby0fwGt9kdCWMx/A8piByvg3H8BbXyS05TwfwP+VlSalQB/AEQGHUKVGH8AsZRniWFcfwEDZlCu8ax/AEtpyLsV1H8DbUDHO32QfwD6uDRXjPB/AbXNjesLyHsAXK2owDYMewLBVgsXhDB7AcXK/Q1GgHcAC1NSytT4dwAcI5ujx2xzARkJbzqV4HMCfPCzUmiYcwFeyYyMQ7xvATb7Z5sbUG8BkWMUbmecbwJet9UVC+xvAaW/whcn0G8CmD11Q39IbwCqRRC+jmBvA54wo7Q1eG8Deq1Ym/DIbwNsWZTbIJBvAcT0K16MwG8AsSDMWTUcbwKSl8naEUxvAeNFXkGZMG8CKPEm6ZjIbwKSNI9biExvA/89hvrwAG8AdIJijx+8awIEmwoan1xrAn47HDFTGGsCLMhtkkrEawK1M+KV+nhrAO/w1WaOeGsAgJAuYwK0awIKtEiwOxxrAhbacS3H1GsCjkjoBTSQbwArXo3A9ShvAlj50QX1rG8A3iUFg5ZAbwI20VN6OsBvA0ETY8PTKG8BF2PD0StkbwIguqG+Z0xvA98ySADW1G8DymIHK+JcbwN5xio7kchvAw4GQLGBiG8CbcoV3uWgbwG/whclUgRvAVyb8Uj+PG8AB3gIJip8bwAXFjzF3rRvAT135LM+jG8DcKR2s/5MbwMBbIEHxgxvAnrXbLjR3G8D7dDxmoHIbwK62Yn/ZfRvAUmFsIcihG8CmRBK9jMIbwFuxv+ye3BvAhGQBE7j1G8DCNAwfERMcwMjShy6oLxzAsb/snjxMHMBxPQrXo3AcwFzJjo1AnBzA7Sqk/KS6HMC1w1+TNcocwDYC8bp+wRzACCC1iZO7HMB1q+ek960cwDvHgOz1jhzAJV0z+WZ7HMAu51JcVXYcwNAKDFndahzAv7fpz35kHMA9fm/Tn10cwGYxsfm4VhzAGcqJdhVSHMA=",
          "dtype": "f8"
         },
         "y": {
          "bdata": "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",
          "dtype": "f8"
         },
         "z": {
          "bdata": "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",
          "dtype": "f8"
         }
        },
        {
         "marker": {
          "color": "darkblue",
          "size": 3
         },
         "mode": "markers",
         "name": "LTC",
         "opacity": 0.8,
         "type": "scatter3d",
         "x": {
          "bdata": "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",
          "dtype": "f8"
         },
         "y": {
          "bdata": "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",
          "dtype": "f8"
         },
         "z": {
          "bdata": "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",
          "dtype": "f8"
         }
        },
        {
         "marker": {
          "color": "lightblue",
          "size": 2
         },
         "mode": "markers",
         "name": "MM",
         "opacity": 0.8,
         "type": "scatter3d",
         "x": {
          "bdata": "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",
          "dtype": "f8"
         },
         "y": {
          "bdata": "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",
          "dtype": "f8"
         },
         "z": {
          "bdata": "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",
          "dtype": "f8"
         }
        },
        {
         "marker": {
          "color": "cyan",
          "size": 2
         },
         "mode": "markers",
         "name": "LM",
         "opacity": 0.8,
         "type": "scatter3d",
         "x": {
          "bdata": "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",
          "dtype": "f8"
         },
         "y": {
          "bdata": "16NwPQrzgUAzMzMzM/OBQP7UeOkm84FAeekmMQjzgUCYbhKDwPKBQIts5/up8oFA2/l+arzygUCoxks3ifKBQKjGSzeJ8oFAzczMzMzygUC+nxov3fKBQIcW2c738oFA16NwPQrzgUC8dJMYBPOBQCuHFtnO8oFAmG4Sg8DygUA730+Nl/KBQH9qvHST8oFAmpmZmZnygUAtsp3vp/KBQARWDi2y8oFAbxKDwMrygUB7FK5H4fKBQOf7qfHS8oFAsp3vp8bygUDb+X5qvPKBQJqZmZmZ8oFAc2iR7XzygUCR7Xw/NfKBQE5iEFg58oFAcT0K16PygUCJQWDl0PKBQFCNl24S84FADi2yne/ygUA5tMh2vvKBQKjGSzeJ8oFAjZduEoPygUDFILByaPKBQIPAyqFF8oFAxSCwcmjygUDufD81XvKBQEoMAiuH8oFAz/dT46XygUAhsHJokfKBQPp+arx08oFACKwcWmTygUCe76fGS/KBQNV46SYx8oFAQmDl0CLygUCe76fGS/KBQCGwcmiR8oFAw/UoXI/ygUBYObTIdvKBQPp+arx08oFAPQrXo3DygUAIrBxaZPKBQGZmZmZm8oFA1XjpJjHygUDVeOkmMfKBQMdLN4lB8oFAj8L1KFzygUBxPQrXo/KBQJzEILBy8oFAwcqhRbbygUASg8DKofKBQD0K16Nw8oFAcT0K16PygUDdJAaBlfKBQFg5tMh28oFAFK5H4XrygUBYObTIdvKBQNEi2/l+8oFAf2q8dJPygUAhsHJokfKBQDm0yHa+8oFAsp3vp8bygUBg5dAi2/KBQC2yne+n8oFAf2q8dJPygUCoxks3ifKBQKjGSzeJ8oFA0SLb+X7ygUCLbOf7qfKBQB+F61G48oFA7FG4HoXygUCamZmZmfKBQAaBlUOL8oFAFK5H4XrygUCoxks3ifKBQOxRuB6F8oFAf2q8dJPygUC0yHa+n/KBQBKDwMqh8oFAO99PjZfygUDD9Shcj/KBQPhT46Wb8oFAppvEILDygUDP91PjpfKBQJhuEoPA8oFAEoPAyqHygUDb+X5qvPKBQAaBlUOL8oFAjZduEoPygUD6fmq8dPKBQLbz/dR48oFA+n5qvHTygUBKDAIrh/KBQKjGSzeJ8oFAEoPAyqHygUDpJjEIrPKBQJqZmZmZ8oFA7FG4HoXygUAhsHJokfKBQH9qvHST8oFAtMh2vp/ygUASg8DKofKBQMP1KFyP8oFAgZVDi2zygUDhehSuR/KBQMdLN4lB8oFACtejcD3ygUD8qfHSTfKBQD81XrpJ8oFArBxaZDvygUAZBFYOLfKBQBkEVg4t8oFAarx0kxjygUBEi2zn+/GBQFK4HoXr8YFA9P3UeOnxgUCYbhKDwPGBQKRwPQrX8YFA9P3UeOnxgUBeukkMAvKBQIcW2c738YFA2c73U+PxgUA5tMh2vvGBQCGwcmiR8YFAZDvfT43xgUASg8DKofGBQGIQWDm08YFAlkOLbOfxgUBGtvP91PGBQG8Sg8DK8YFA+n5qvHTxgUA/NV66SfGBQMdLN4lB8YFAJzEIrBzxgUDFILByaPGBQLbz/dR48YFAw/UoXI/xgUCBlUOLbPGBQN9PjZdu8YFACtejcD3xgUD+1HjpJvGBQNejcD0K8YFAAAAAAADxgUA3iUFg5fCBQLx0kxgE8YFAGy/dJAbxgUCgGi/dJPGBQEJg5dAi8YFAUrgehevwgUDByqFFtvCBQH9qvHST8IFAWmQ730/wgUAhsHJokfCBQFTjpZvE8IFAEFg5tMjwgUC0yHa+n/CBQOxRuB6F8IFAd76fGi/wgUBQjZduEvCBQBsv3SQG8IFAarx0kxjwgUBOYhBYOfCBQIPAyqFF8IFAWmQ730/wgUDXo3A9CvCBQLByaJHt74FAokW28/3vgUCWQ4ts5++BQIlBYOXQ74FABFYOLbLvgUA730+Nl++BQIts5/up74FAf2q8dJPvgUCLbOf7qe+BQGIQWDm074FAEoPAyqHvgUAUrkfheu+BQKwcWmQ774FACtejcD3vgUB3vp8aL++BQFg5tMh274FAVOOlm8TvgUCJQWDl0O+BQDm0yHa+74FAc2iR7XzvgUCR7Xw/Ne+BQAwCK4cW74FAy6FFtvPugUB56SYxCO+BQNV46SYx74FAPQrXo3DvgUC28/3UeO+BQN9PjZdu74FA1XjpJjHvgUCiRbbz/e6BQJMYBFYO74FAyXa+nxrvgUDVeOkmMe+BQOOlm8Qg74FAbef7qfHugUArhxbZzu6BQBBYObTI7oFADi2yne/ugUCTGARWDu+BQMl2vp8a74FAhxbZzvfugUAdWmQ73+6BQAIrhxbZ7oFA5dAi2/nugUDLoUW28+6BQG3n+6nx7oFApHA9CtfugUAdWmQ73+6BQB1aZDvf7oFAexSuR+HugUDZzvdT4+6BQA4tsp3v7oFAHVpkO9/ugUCJQWDl0O6BQGDl0CLb7oFApHA9CtfugUBiEFg5tO6BQFYOLbKd7oFAfT81XrrugUAQWDm0yO6BQAIrhxbZ7oFAUrgehevugUBSuB6F6+6BQB1aZDvf7oFAexSuR+HugUArhxbZzu6BQOf7qfHS7oFAiUFg5dDugUCwcmiR7e6BQIcW2c737oFA16NwPQrvgUCiRbbz/e6BQESLbOf77oFAvp8aL93ugUBSuB6F6+6BQIcW2c737oFAUI2XbhLvgUB56SYxCO+BQF66SQwC74FA9P3UeOnugUBg5dAi2+6BQDm0yHa+7oFAlkOLbOfugUCgGi/dJO+BQMdLN4lB74FACKwcWmTvgUAK16NwPe+BQIcW2c737oFAYOXQItvugUCJQWDl0O6BQPT91Hjp7oFAyXa+nxrvgUAbL90kBu+BQAwCK4cW74FAvHSTGATvgUBEi2zn++6BQNnO91Pj7oFAN4lBYOXugUA3iUFg5e6BQG3n+6nx7oFAy6FFtvPugUAOLbKd7+6BQG8Sg8DK7oFAbxKDwMrugUDByqFFtu6BQNejcD0K74FAnu+nxkvvgUAhsHJoke+BQKjGSzeJ74FAJQaBlUPvgUC8dJMYBO+BQEa28/3U7oFAppvEILDugUBiEFg5tO6BQNv5fmq87oFA16NwPQrvgUBOYhBYOe+BQI2XbhKD74FABoGVQ4vvgUAX2c73U++BQG3n+6nx7oFAiUFg5dDugUBGtvP91O6BQAAAAAAA74FANV66SQzvgUA1XrpJDO+BQJMYBFYO74FARIts5/vugUAAAAAAAO+BQF66SQwC74FADi2yne/ugUCgGi/dJO+BQHnpJjEI74FAKVyPwvXugUC8dJMYBO+BQJZDi2zn7oFAbxKDwMrugUA3iUFg5e6BQLByaJHt7oFArkfhehTvgUBOYhBYOe+BQOF6FK5H74FARIts5/vugUC+nxov3e6BQBBYObTI7oFAYhBYObTugUCYbhKDwO6BQG8Sg8DK7oFAGy/dJAbvgUD+1HjpJu+BQIPAyqFF74FArBxaZDvvgUDXo3A9Cu+BQDeJQWDl7oFAN4lBYOXugUD0/dR46e6BQClcj8L17oFAKVyPwvXugUCTGARWDu+BQDMzMzMz74FA8tJNYhDvgUApXI/C9e6BQPT91Hjp7oFAN4lBYOXugUBU46WbxO6BQLKd76fG7oFA5/up8dLugUCTGARWDu+BQAAAAAAA74FAy6FFtvPugUBSuB6F6+6BQDeJQWDl7oFAbxKDwMrugUBEi2zn++6BQA4tsp3v7oFAKVyPwvXugUBt5/up8e6BQLByaJHt7oFAHVpkO9/ugUAbL90kBu+BQESLbOf77oFAAAAAAADvgUCHFtnO9+6BQFCNl24S74FAXI/C9SjvgUBeukkMAu+BQPLSTWIQ74FAkxgEVg7vgUDl0CLb+e6BQFK4HoXr7oFAvp8aL93ugUBvEoPAyu6BQG8Sg8DK7oFARrbz/dTugUCWQ4ts5+6BQA4tsp3v7oFAbxKDwMrugUDb+X5qvO6BQARWDi2y7oFA9ihcj8LugUArhxbZzu6BQPYoXI/C7oFAvp8aL93ugUBQjZduEu+BQDVeukkM74FATmIQWDnvgUDwp8ZLN++BQFyPwvUo74FA8tJNYhDvgUB9PzVeuu6BQNv5fmq87oFA6SYxCKzugUDn+6nx0u6BQKJFtvP97oFAhetRuB7vgUAnMQisHO+BQGq8dJMY74FAbxKDwMrugUBg5dAi2+6BQGIQWDm07oFAfT81XrrugUCkcD0K1+6BQDeJQWDl7oFANV66SQzvgUCF61G4Hu+BQOF6FK5H74FArkfhehTvgUAOLbKd7+6BQMuhRbbz7oFAbxKDwMrugUCYbhKDwO6BQBBYObTI7oFAvp8aL93ugUCHFtnO9+6BQG3n+6nx7oFAokW28/3ugUBeukkMAu+BQMuhRbbz7oFAAiuHFtnugUBg5dAi2+6BQHsUrkfh7oFAXrpJDALvgUBEi2zn++6BQOOlm8Qg74FA4XoUrkfvgUDHSzeJQe+BQCcxCKwc74FAUI2XbhLvgUAbL90kBu+BQEJg5dAi74FAg8DKoUXvgUDufD81Xu+BQBkEVg4t74FANV66SQzvgUAAAAAAAO+BQA4tsp3v7oFAhetRuB7vgUBCYOXQIu+BQKJFtvP97oFAvp8aL93ugUDJdr6fGu+BQPLSTWIQ74FAukkMAivvgUBcj8L1KO+BQLpJDAIr74FA/tR46SbvgUCR7Xw/Ne+BQDVeukkM74FAke18PzXvgUCDwMqhRe+BQDEIrBxa74FA3SQGgZXvgUAhsHJoke+BQBSuR+F674FAukkMAivvgUDZzvdT4+6BQP7UeOkm74FAXrpJDALvgUBMN4lBYO+BQAisHFpk74FAukkMAivvgUDy0k1iEO+BQB1aZDvf7oFAarx0kxjvgUAbL90kBu+BQHWTGARW74FAj8L1KFzvgUCPwvUoXO+BQGq8dJMY74FAzczMzMzugUB/arx0k+6BQOf7qfHS7oFAg8DKoUXvgUD6fmq8dO+BQNEi2/l+74FAeekmMQjvgUACK4cW2e6BQKRwPQrX7oFAi2zn+6nugUDZzvdT4+6BQPyp8dJN74FASgwCK4fvgUAj2/l+au+BQKwcWmQ774FAnu+nxkvvgUDwp8ZLN++BQLpJDAIr74FAdZMYBFbvgUAv3SQGge+BQBSuR+F674FAqMZLN4nvgUAIrBxaZO+BQFpkO99P74FAWmQ730/vgUDHSzeJQe+BQLgehetR74FA30+Nl27vgUDhehSuR++BQMdLN4lB74FArkfhehTvgUCuR+F6FO+BQF66SQwC74FAQmDl0CLvgUAzMzMzM++BQHe+nxov74FAtvP91HjvgUAj2/l+au+BQEjhehSu74FA6SYxCKzvgUBzaJHtfO+BQI/C9Shc74FAuB6F61HvgUCDwMqhRe+BQI/C9Shc74FAL90kBoHvgUDP91Pjpe+BQCGwcmiR74FA30+Nl27vgUCq8dJNYu+BQAisHFpk74FAc2iR7XzvgUAhsHJoke+BQIts5/up74FAf2q8dJPvgUDsUbgehe+BQMUgsHJo74FAw/UoXI/vgUAtsp3vp++BQNnO91Pj74FAK4cW2c7vgUCmm8QgsO+BQBSuR+F674FAdZMYBFbvgUDufD81Xu+BQCGwcmiR74FAObTIdr7vgUDb+X5qvO+BQIlBYOXQ74FAfT81XrrvgUBzaJHtfO+BQNEi2/l+74FAjZduEoPvgUA/NV66Se+BQOF6FK5H74FA/Knx0k3vgUBkO99Pje+BQAaBlUOL74FALbKd76fvgUDdJAaBle+BQPhT46Wb74FAqMZLN4nvgUDsUbgehe+BQPyp8dJN74FAxSCwcmjvgUD4U+Olm++BQHE9Ctej74FA6SYxCKzvgUD2KFyPwu+BQOxRuB6F74FAj8L1KFzvgUCsHFpkO++BQGQ730+N74FA3SQGgZXvgUBWDi2yne+BQLbz/dR474FAw/UoXI/vgUD6fmq8dO+BQIGVQ4ts74FA3SQGgZXvgUCamZmZme+BQDm0yHa+74FAI9v5fmrvgUDRItv5fu+BQAaBlUOL74FASOF6FK7vgUBg5dAi2++BQMHKoUW274FABFYOLbLvgUBWDi2yne+BQMP1KFyP74FAxSCwcmjvgUA=",
          "dtype": "f8"
         },
         "z": {
          "bdata": "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",
          "dtype": "f8"
         }
        },
        {
         "line": {
          "color": "red",
          "width": 6
         },
         "mode": "lines",
         "name": "Shin X",
         "type": "scatter3d",
         "x": [
          72.6544,
          34.960529264265716
         ],
         "y": [
          281.162,
          293.80983561701987
         ],
         "z": [
          288.49,
          292.87227830729614
         ]
        },
        {
         "line": {
          "color": "green",
          "width": 6
         },
         "mode": "lines",
         "name": "Shin Y",
         "type": "scatter3d",
         "x": [
          72.6544,
          79.62761395782974
         ],
         "y": [
          281.162,
          310.8947147075314
         ],
         "z": [
          288.49,
          262.6570759839527
         ]
        },
        {
         "line": {
          "color": "blue",
          "width": 6
         },
         "mode": "lines",
         "name": "Shin Z",
         "type": "scatter3d",
         "x": [
          72.6544,
          61.22870982145571
         ],
         "y": [
          281.162,
          257.582391641815
         ],
         "z": [
          288.49,
          258.26657078327264
         ]
        },
        {
         "line": {
          "color": "orange",
          "width": 6
         },
         "mode": "lines",
         "name": "Thigh X",
         "type": "scatter3d",
         "x": [
          76.1506,
          48.695198153570374
         ],
         "y": [
          340.618,
          353.2005880154896
         ],
         "z": [
          248.82,
          275.047454857144
         ]
        },
        {
         "line": {
          "color": "brown",
          "width": 6
         },
         "mode": "lines",
         "name": "Thigh Y",
         "type": "scatter3d",
         "x": [
          76.1506,
          51.68214289244455
         ],
         "y": [
          340.618,
          311.1246779124164
         ],
         "z": [
          248.82,
          237.35533432612294
         ]
        },
        {
         "line": {
          "color": "purple",
          "width": 6
         },
         "mode": "lines",
         "name": "Thigh Z",
         "type": "scatter3d",
         "x": [
          76.1506,
          91.88259021823964
         ],
         "y": [
          340.618,
          316.7051910669091
         ],
         "z": [
          248.82,
          276.76068812149583
         ]
        },
        {
         "marker": {
          "color": "black",
          "size": 8,
          "symbol": "diamond"
         },
         "mode": "markers+text",
         "name": "COR",
         "text": [
          "Knee COR"
         ],
         "textposition": "top center",
         "type": "scatter3d",
         "x": [
          47.29914956896552
         ],
         "y": [
          353.5280534482759
         ],
         "z": [
          277.9136896551724
         ]
        },
        {
         "line": {
          "color": "black",
          "width": 4
         },
         "mode": "lines",
         "name": "Shin→COR",
         "type": "scatter3d",
         "x": [
          72.6544,
          47.29914956896552
         ],
         "y": [
          281.162,
          353.5280534482759
         ],
         "z": [
          288.49,
          277.9136896551724
         ]
        },
        {
         "line": {
          "color": "brown",
          "width": 4
         },
         "mode": "lines",
         "name": "Thigh→COR",
         "type": "scatter3d",
         "x": [
          76.1506,
          47.29914956896552
         ],
         "y": [
          340.618,
          353.5280534482759
         ],
         "z": [
          248.82,
          277.9136896551724
         ]
        },
        {
         "line": {
          "color": "red",
          "width": 2
         },
         "mode": "lines",
         "name": "ΔX shin",
         "type": "scatter3d",
         "x": [
          72.6544,
          47.29914956896552
         ],
         "y": [
          281.162,
          281.162
         ],
         "z": [
          288.49,
          288.49
         ]
        },
        {
         "line": {
          "color": "green",
          "width": 2
         },
         "mode": "lines",
         "name": "ΔY shin",
         "type": "scatter3d",
         "x": [
          72.6544,
          72.6544
         ],
         "y": [
          281.162,
          353.5280534482759
         ],
         "z": [
          288.49,
          288.49
         ]
        },
        {
         "line": {
          "color": "blue",
          "width": 2
         },
         "mode": "lines",
         "name": "ΔZ shin",
         "type": "scatter3d",
         "x": [
          72.6544,
          72.6544
         ],
         "y": [
          281.162,
          281.162
         ],
         "z": [
          288.49,
          277.9136896551724
         ]
        }
       ],
       "layout": {
        "height": 800,
        "scene": {
         "aspectmode": "data",
         "xaxis": {
          "title": {
           "text": "X (mm)"
          }
         },
         "yaxis": {
          "title": {
           "text": "Y (mm)"
          }
         },
         "zaxis": {
          "title": {
           "text": "Z (mm)"
          }
         }
        },
        "showlegend": true,
        "template": {
         "data": {
          "bar": [
           {
            "error_x": {
             "color": "#2a3f5f"
            },
            "error_y": {
             "color": "#2a3f5f"
            },
            "marker": {
             "line": {
              "color": "#E5ECF6",
              "width": 0.5
             },
             "pattern": {
              "fillmode": "overlay",
              "size": 10,
              "solidity": 0.2
             }
            },
            "type": "bar"
           }
          ],
          "barpolar": [
           {
            "marker": {
             "line": {
              "color": "#E5ECF6",
              "width": 0.5
             },
             "pattern": {
              "fillmode": "overlay",
              "size": 10,
              "solidity": 0.2
             }
            },
            "type": "barpolar"
           }
          ],
          "carpet": [
           {
            "aaxis": {
             "endlinecolor": "#2a3f5f",
             "gridcolor": "white",
             "linecolor": "white",
             "minorgridcolor": "white",
             "startlinecolor": "#2a3f5f"
            },
            "baxis": {
             "endlinecolor": "#2a3f5f",
             "gridcolor": "white",
             "linecolor": "white",
             "minorgridcolor": "white",
             "startlinecolor": "#2a3f5f"
            },
            "type": "carpet"
           }
          ],
          "choropleth": [
           {
            "colorbar": {
             "outlinewidth": 0,
             "ticks": ""
            },
            "type": "choropleth"
           }
          ],
          "contour": [
           {
            "colorbar": {
             "outlinewidth": 0,
             "ticks": ""
            },
            "colorscale": [
             [
              0,
              "#0d0887"
             ],
             [
              0.1111111111111111,
              "#46039f"
             ],
             [
              0.2222222222222222,
              "#7201a8"
             ],
             [
              0.3333333333333333,
              "#9c179e"
             ],
             [
              0.4444444444444444,
              "#bd3786"
             ],
             [
              0.5555555555555556,
              "#d8576b"
             ],
             [
              0.6666666666666666,
              "#ed7953"
             ],
             [
              0.7777777777777778,
              "#fb9f3a"
             ],
             [
              0.8888888888888888,
              "#fdca26"
             ],
             [
              1,
              "#f0f921"
             ]
            ],
            "type": "contour"
           }
          ],
          "contourcarpet": [
           {
            "colorbar": {
             "outlinewidth": 0,
             "ticks": ""
            },
            "type": "contourcarpet"
           }
          ],
          "heatmap": [
           {
            "colorbar": {
             "outlinewidth": 0,
             "ticks": ""
            },
            "colorscale": [
             [
              0,
              "#0d0887"
             ],
             [
              0.1111111111111111,
              "#46039f"
             ],
             [
              0.2222222222222222,
              "#7201a8"
             ],
             [
              0.3333333333333333,
              "#9c179e"
             ],
             [
              0.4444444444444444,
              "#bd3786"
             ],
             [
              0.5555555555555556,
              "#d8576b"
             ],
             [
              0.6666666666666666,
              "#ed7953"
             ],
             [
              0.7777777777777778,
              "#fb9f3a"
             ],
             [
              0.8888888888888888,
              "#fdca26"
             ],
             [
              1,
              "#f0f921"
             ]
            ],
            "type": "heatmap"
           }
          ],
          "histogram": [
           {
            "marker": {
             "pattern": {
              "fillmode": "overlay",
              "size": 10,
              "solidity": 0.2
             }
            },
            "type": "histogram"
           }
          ],
          "histogram2d": [
           {
            "colorbar": {
             "outlinewidth": 0,
             "ticks": ""
            },
            "colorscale": [
             [
              0,
              "#0d0887"
             ],
             [
              0.1111111111111111,
              "#46039f"
             ],
             [
              0.2222222222222222,
              "#7201a8"
             ],
             [
              0.3333333333333333,
              "#9c179e"
             ],
             [
              0.4444444444444444,
              "#bd3786"
             ],
             [
              0.5555555555555556,
              "#d8576b"
             ],
             [
              0.6666666666666666,
              "#ed7953"
             ],
             [
              0.7777777777777778,
              "#fb9f3a"
             ],
             [
              0.8888888888888888,
              "#fdca26"
             ],
             [
              1,
              "#f0f921"
             ]
            ],
            "type": "histogram2d"
           }
          ],
          "histogram2dcontour": [
           {
            "colorbar": {
             "outlinewidth": 0,
             "ticks": ""
            },
            "colorscale": [
             [
              0,
              "#0d0887"
             ],
             [
              0.1111111111111111,
              "#46039f"
             ],
             [
              0.2222222222222222,
              "#7201a8"
             ],
             [
              0.3333333333333333,
              "#9c179e"
             ],
             [
              0.4444444444444444,
              "#bd3786"
             ],
             [
              0.5555555555555556,
              "#d8576b"
             ],
             [
              0.6666666666666666,
              "#ed7953"
             ],
             [
              0.7777777777777778,
              "#fb9f3a"
             ],
             [
              0.8888888888888888,
              "#fdca26"
             ],
             [
              1,
              "#f0f921"
             ]
            ],
            "type": "histogram2dcontour"
           }
          ],
          "mesh3d": [
           {
            "colorbar": {
             "outlinewidth": 0,
             "ticks": ""
            },
            "type": "mesh3d"
           }
          ],
          "parcoords": [
           {
            "line": {
             "colorbar": {
              "outlinewidth": 0,
              "ticks": ""
             }
            },
            "type": "parcoords"
           }
          ],
          "pie": [
           {
            "automargin": true,
            "type": "pie"
           }
          ],
          "scatter": [
           {
            "fillpattern": {
             "fillmode": "overlay",
             "size": 10,
             "solidity": 0.2
            },
            "type": "scatter"
           }
          ],
          "scatter3d": [
           {
            "line": {
             "colorbar": {
              "outlinewidth": 0,
              "ticks": ""
             }
            },
            "marker": {
             "colorbar": {
              "outlinewidth": 0,
              "ticks": ""
             }
            },
            "type": "scatter3d"
           }
          ],
          "scattercarpet": [
           {
            "marker": {
             "colorbar": {
              "outlinewidth": 0,
              "ticks": ""
             }
            },
            "type": "scattercarpet"
           }
          ],
          "scattergeo": [
           {
            "marker": {
             "colorbar": {
              "outlinewidth": 0,
              "ticks": ""
             }
            },
            "type": "scattergeo"
           }
          ],
          "scattergl": [
           {
            "marker": {
             "colorbar": {
              "outlinewidth": 0,
              "ticks": ""
             }
            },
            "type": "scattergl"
           }
          ],
          "scattermap": [
           {
            "marker": {
             "colorbar": {
              "outlinewidth": 0,
              "ticks": ""
             }
            },
            "type": "scattermap"
           }
          ],
          "scattermapbox": [
           {
            "marker": {
             "colorbar": {
              "outlinewidth": 0,
              "ticks": ""
             }
            },
            "type": "scattermapbox"
           }
          ],
          "scatterpolar": [
           {
            "marker": {
             "colorbar": {
              "outlinewidth": 0,
              "ticks": ""
             }
            },
            "type": "scatterpolar"
           }
          ],
          "scatterpolargl": [
           {
            "marker": {
             "colorbar": {
              "outlinewidth": 0,
              "ticks": ""
             }
            },
            "type": "scatterpolargl"
           }
          ],
          "scatterternary": [
           {
            "marker": {
             "colorbar": {
              "outlinewidth": 0,
              "ticks": ""
             }
            },
            "type": "scatterternary"
           }
          ],
          "surface": [
           {
            "colorbar": {
             "outlinewidth": 0,
             "ticks": ""
            },
            "colorscale": [
             [
              0,
              "#0d0887"
             ],
             [
              0.1111111111111111,
              "#46039f"
             ],
             [
              0.2222222222222222,
              "#7201a8"
             ],
             [
              0.3333333333333333,
              "#9c179e"
             ],
             [
              0.4444444444444444,
              "#bd3786"
             ],
             [
              0.5555555555555556,
              "#d8576b"
             ],
             [
              0.6666666666666666,
              "#ed7953"
             ],
             [
              0.7777777777777778,
              "#fb9f3a"
             ],
             [
              0.8888888888888888,
              "#fdca26"
             ],
             [
              1,
              "#f0f921"
             ]
            ],
            "type": "surface"
           }
          ],
          "table": [
           {
            "cells": {
             "fill": {
              "color": "#EBF0F8"
             },
             "line": {
              "color": "white"
             }
            },
            "header": {
             "fill": {
              "color": "#C8D4E3"
             },
             "line": {
              "color": "white"
             }
            },
            "type": "table"
           }
          ]
         },
         "layout": {
          "annotationdefaults": {
           "arrowcolor": "#2a3f5f",
           "arrowhead": 0,
           "arrowwidth": 1
          },
          "autotypenumbers": "strict",
          "coloraxis": {
           "colorbar": {
            "outlinewidth": 0,
            "ticks": ""
           }
          },
          "colorscale": {
           "diverging": [
            [
             0,
             "#8e0152"
            ],
            [
             0.1,
             "#c51b7d"
            ],
            [
             0.2,
             "#de77ae"
            ],
            [
             0.3,
             "#f1b6da"
            ],
            [
             0.4,
             "#fde0ef"
            ],
            [
             0.5,
             "#f7f7f7"
            ],
            [
             0.6,
             "#e6f5d0"
            ],
            [
             0.7,
             "#b8e186"
            ],
            [
             0.8,
             "#7fbc41"
            ],
            [
             0.9,
             "#4d9221"
            ],
            [
             1,
             "#276419"
            ]
           ],
           "sequential": [
            [
             0,
             "#0d0887"
            ],
            [
             0.1111111111111111,
             "#46039f"
            ],
            [
             0.2222222222222222,
             "#7201a8"
            ],
            [
             0.3333333333333333,
             "#9c179e"
            ],
            [
             0.4444444444444444,
             "#bd3786"
            ],
            [
             0.5555555555555556,
             "#d8576b"
            ],
            [
             0.6666666666666666,
             "#ed7953"
            ],
            [
             0.7777777777777778,
             "#fb9f3a"
            ],
            [
             0.8888888888888888,
             "#fdca26"
            ],
            [
             1,
             "#f0f921"
            ]
           ],
           "sequentialminus": [
            [
             0,
             "#0d0887"
            ],
            [
             0.1111111111111111,
             "#46039f"
            ],
            [
             0.2222222222222222,
             "#7201a8"
            ],
            [
             0.3333333333333333,
             "#9c179e"
            ],
            [
             0.4444444444444444,
             "#bd3786"
            ],
            [
             0.5555555555555556,
             "#d8576b"
            ],
            [
             0.6666666666666666,
             "#ed7953"
            ],
            [
             0.7777777777777778,
             "#fb9f3a"
            ],
            [
             0.8888888888888888,
             "#fdca26"
            ],
            [
             1,
             "#f0f921"
            ]
           ]
          },
          "colorway": [
           "#636efa",
           "#EF553B",
           "#00cc96",
           "#ab63fa",
           "#FFA15A",
           "#19d3f3",
           "#FF6692",
           "#B6E880",
           "#FF97FF",
           "#FECB52"
          ],
          "font": {
           "color": "#2a3f5f"
          },
          "geo": {
           "bgcolor": "white",
           "lakecolor": "white",
           "landcolor": "#E5ECF6",
           "showlakes": true,
           "showland": true,
           "subunitcolor": "white"
          },
          "hoverlabel": {
           "align": "left"
          },
          "hovermode": "closest",
          "mapbox": {
           "style": "light"
          },
          "paper_bgcolor": "white",
          "plot_bgcolor": "#E5ECF6",
          "polar": {
           "angularaxis": {
            "gridcolor": "white",
            "linecolor": "white",
            "ticks": ""
           },
           "bgcolor": "#E5ECF6",
           "radialaxis": {
            "gridcolor": "white",
            "linecolor": "white",
            "ticks": ""
           }
          },
          "scene": {
           "xaxis": {
            "backgroundcolor": "#E5ECF6",
            "gridcolor": "white",
            "gridwidth": 2,
            "linecolor": "white",
            "showbackground": true,
            "ticks": "",
            "zerolinecolor": "white"
           },
           "yaxis": {
            "backgroundcolor": "#E5ECF6",
            "gridcolor": "white",
            "gridwidth": 2,
            "linecolor": "white",
            "showbackground": true,
            "ticks": "",
            "zerolinecolor": "white"
           },
           "zaxis": {
            "backgroundcolor": "#E5ECF6",
            "gridcolor": "white",
            "gridwidth": 2,
            "linecolor": "white",
            "showbackground": true,
            "ticks": "",
            "zerolinecolor": "white"
           }
          },
          "shapedefaults": {
           "line": {
            "color": "#2a3f5f"
           }
          },
          "ternary": {
           "aaxis": {
            "gridcolor": "white",
            "linecolor": "white",
            "ticks": ""
           },
           "baxis": {
            "gridcolor": "white",
            "linecolor": "white",
            "ticks": ""
           },
           "bgcolor": "#E5ECF6",
           "caxis": {
            "gridcolor": "white",
            "linecolor": "white",
            "ticks": ""
           }
          },
          "title": {
           "x": 0.05
          },
          "xaxis": {
           "automargin": true,
           "gridcolor": "white",
           "linecolor": "white",
           "ticks": "",
           "title": {
            "standoff": 15
           },
           "zerolinecolor": "white",
           "zerolinewidth": 2
          },
          "yaxis": {
           "automargin": true,
           "gridcolor": "white",
           "linecolor": "white",
           "ticks": "",
           "title": {
            "standoff": 15
           },
           "zerolinecolor": "white",
           "zerolinewidth": 2
          }
         }
        },
        "title": {
         "text": "Trial 2: Static<br><sub>Static posture (no articulation); anatomical midpoint method</sub>"
        },
        "width": 1200
       }
      }
     },
     "metadata": {},
     "output_type": "display_data"
    },
    {
     "name": "stdout",
     "output_type": "stream",
     "text": [
      "\n",
      "Generating 3D visualization for Trial 3...\n"
     ]
    },
    {
     "data": {
      "application/vnd.plotly.v1+json": {
       "config": {
        "plotlyServerURL": "https://plot.ly"
       },
       "data": [
        {
         "marker": {
          "color": "red",
          "size": 3
         },
         "mode": "markers",
         "name": "MFEC",
         "opacity": 0.8,
         "type": "scatter3d",
         "x": {
          "bdata": "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",
          "dtype": "f8"
         },
         "y": {
          "bdata": "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",
          "dtype": "f8"
         },
         "z": {
          "bdata": "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",
          "dtype": "f8"
         }
        },
        {
         "marker": {
          "color": "darkred",
          "size": 3
         },
         "mode": "markers",
         "name": "LFEC",
         "opacity": 0.8,
         "type": "scatter3d",
         "x": {
          "bdata": "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",
          "dtype": "f8"
         },
         "y": {
          "bdata": "1XjpJjGedEBI4XoUrp10QAIrhxbZlnRAi2zn+6mXdEDhehSuR5d0QK5H4XoUmHRABoGVQ4uYdEBOYhBYOZh0QJhuEoPAmHRA3SQGgZWZdECTGARWDpl0QF66SQwCmXRAYOXQItuZdECJQWDl0Jh0QFyPwvUomnRAtMh2vp+adECJQWDl0Jp0QDMzMzMzm3RA16NwPQqbdECWQ4ts55t0QEoMAiuHnHRAbxKDwMqddEDNzMzMzJ50QKJFtvP9nnRAjZduEoOgdEBSuB6F66F0QLpJDAIro3RAZmZmZmakdECamZmZmad0QO58PzVeqnRAUI2XbhKtdEAX2c73U610QGq8dJMYsHRA16NwPQqxdEAlBoGVQ690QD0K16NwrXRAKVyPwvWsdEBvEoPAyqt0QE5iEFg5snRABoGVQ4u2dEDTTWIQWLV0QNv5fmq8tHRAvHSTGAS0dEAOLbKd77V0QJhuEoPAsnRAf2q8dJO0dEAEVg4tsq90QCPb+X5qrHRAMQisHFqqdEDb+X5qvKZ0QDm0yHa+o3RAO99PjZegdEDhehSuR5t0QJZDi2znl3RA0SLb+X6WdECwcmiR7Yp0QJqZmZmZe3RAF9nO91N9dEB9PzVeunt0QIPAyqFFdnRAYhBYObRwdEAtsp3vp2h0QPYoXI/Cc3RAy6FFtvMvdEAQWDm0yBh0QEoMAiuHGnRA/Knx0k0adECHFtnO9x10QKwcWmQ7G3RAyXa+nxoRdECwcmiR7RB0QNv5fmq8DHRATDeJQWABdEBiEFg5tP5zQHE9Ctej+nNARrbz/dTic0Dwp8ZLN+1zQCUGgZVD83NAMQisHFryc0CTGARWDt1zQB1aZDvf4XNAiUFg5dDuc0DNzMzMzPRzQKabxCCw8nNABFYOLbLxc0DP91Pjpd9zQJqZmZmZ43NAYOXQItvrc0D+1HjpJvlzQNv5fmq8+nNAlkOLbOf3c0AUrkfhevRzQPCnxks353NAVOOlm8Toc0C6SQwCK/VzQHWTGARWFHRA9P3UeOkcdEBWDi2ynSF0QFTjpZvEHnRADAIrhxYhdEBoke18PyF0QMUgsHJoIXRAH4XrUbgkdEArhxbZzh90QOF6FK5HIXRAyXa+nxohdEDZzvdT4x90QOf7qfHSH3RAUrgehesfdECNl24SgyJ0QKAaL90kHnRADi2yne8hdEApXI/C9RZ0QLgehetRGHRAexSuR+EYdEAUrkfhehh0QDm0yHa+F3RAnu+nxksXdEAfhetRuBZ0QMP1KFyPFnRARrbz/dQWdECF61G4HhV0QEJg5dAiFXRA0SLb+X4UdEBcj8L1KBR0QOF6FK5HE3RAAAAAAAASdEAUrkfhehJ0QN9PjZduEnRAIbByaJETdECmm8QgsBR0QFpkO99PFXRAEFg5tMgWdECgGi/dJBh0QNV46SYxGnRAEFg5tMgcdEA730+Nlx50QNEi2/l+IHRAZmZmZmYidEASg8DKoSN0QP7UeOkmJXRAy6FFtvMldEDfT42Xbih0QFYOLbKdKXRADAIrhxYrdEA1XrpJDCx0QPyp8dJNLHRAeekmMQgsdECcxCCwcix0QI/C9ShcLXRAF9nO91MtdEAv3SQGgSt0QGIQWDm0MnRAc2iR7XwzdEDRItv5fjJ0QNEi2/l+MHRA7FG4HoUvdEBvEoPAyi10QARWDi2yK3RAvp8aL90qdEAdWmQ73yd0QARWDi2yJXRAhxbZzvchdEDHSzeJQR50QG8Sg8DKGXRAWDm0yHYYdEBU46WbxBB0QIGVQ4tsC3RABoGVQ4sEdEAlBoGVQ/dzQGQ730+N8XNAnMQgsHLyc0C6SQwCK+tzQI/C9Shc33NAarx0kxjac0AdWmQ73+dzQDm0yHa+t3NAO99PjZeec0DXo3A9Co1zQBKDwMqhh3NAQmDl0CKNc0A5tMh2voVzQGIQWDm0fHNAppvEILB0c0A730+Nl25zQPp+arx0W3NAkxgEVg5Xc0BMN4lBYFlzQI/C9ShcW3NAQmDl0CJbc0AfhetRuFpzQHWTGARWWHNAexSuR+FUc0CTGARWDlFzQGiR7Xw/UXNAUrgehetNc0Cq8dJNYkxzQDVeukkMTnNAAiuHFtlUc0CuR+F6FF5zQGiR7Xw/ZXNAAAAAAABmc0DfT42XbmRzQK5H4XoUZHNArBxaZDtdc0A730+Nl1xzQBKDwMqhYXNA1XjpJjFgc0CTGARWDmlzQLgehetRbnNAvHSTGARyc0D2KFyPwnNzQL6fGi/danNAc2iR7Xxpc0CNl24Sg3hzQHnpJjEIenNAf2q8dJN6c0BKDAIrh3pzQJqZmZmZf3NAZmZmZmaAc0BSuB6F63VzQF66SQwCcXNAarx0kxiuc0B3vp8aL7NzQF66SQwCtXNA2c73U+O1c0CsHFpkO7dzQDeJQWDltnNAJzEIrBy4c0C6SQwCK7lzQC2yne+nunNAUrgeheu7c0CWQ4ts57tzQKJFtvP9vHNATmIQWDm+c0AfhetRuL5zQEa28/3UwHNABoGVQ4u6c0CNl24Sg75zQLKd76fGwXNAmpmZmZnFc0BEi2zn+8dzQCPb+X5qynNA46WbxCDMc0DpJjEIrM5zQMP1KFyP0HNAMzMzMzPTc0BOYhBYOdRzQOXQItv51nNA8tJNYhDac0Boke18P9tzQJqZmZmZ3XNAqMZLN4nfc0BI4XoUruFzQBsv3SQG5XNAj8L1KFznc0ArhxbZzulzQBSuR+F67HNAkxgEVg7vc0DVeOkmMfBzQAAAAAAA8nNA2/l+arz0c0BzaJHtfPVzQDm0yHa++XNAQmDl0CL7c0Atsp3vp/xzQEoMAiuH+nNAwcqhRbb7c0BiEFg5tAB0QFK4HoXrAXRA4XoUrkcDdEDRItv5fgR0QP7UeOkmBXRAJzEIrBwIdEAzMzMzMwl0QFK4HoXrCXRArBxaZDsNdEA9CtejcA10QLbz/dR4DXRAf2q8dJMQdEBkO99PjRd0QAaBlUOLFnRANV66SQwYdEC6SQwCKxd0QHWTGARWGHRArkfhehQWdEAhsHJokRN0QAaBlUOLEnRAsp3vp8YPdEDfT42Xbg50QDMzMzMzC3RAZDvfT40BdED0/dR46QJ0QG3n+6nx+nNAiUFg5dDqc0Bg5dAi2+lzQGQ730+N53NAarx0kxjgc0Av3SQGgfNzQFTjpZvEmHNAmG4Sg8Awc0BGtvP91CxzQBBYObTIKHNAsp3vp8Ylc0ArhxbZzh1zQClcj8L1InNALbKd76cwc0AUrkfhekpzQLgehetRRHNA8tJNYhA0c0ACK4cW2ShzQNEi2/l+JHNApHA9Ctcnc0BmZmZmZiRzQF66SQwCM3NA16NwPQo9c0Boke18P0NzQFg5tMh2VnNAFK5H4XpUc0BkO99PjVlzQKRwPQrXWXNAzczMzMxac0B9PzVeullzQLbz/dR4V3NAPQrXo3Bbc0B7FK5H4VxzQN0kBoGVX3NA4XoUrkdlc0CsHFpkO21zQA4tsp3vX3NA001iEFhpc0AzMzMzM11zQFCNl24SY3NAw/UoXI9mc0D0/dR46WRzQARWDi2yvXNA001iEFjJc0DLoUW288VzQIXrUbgey3NAy6FFtvPNc0Cmm8QgsM5zQNejcD0K03NAvHSTGATWc0ACK4cW2dhzQCPb+X5q3HNA+n5qvHTZc0DpJjEIrOBzQKjGSzeJ6XNAxSCwcmjjc0B56SYxCO5zQKjGSzeJ6XNAmpmZmZnlc0C+nxov3epzQKjGSzeJ7XNAObTIdr7vc0CWQ4ts5/NzQF66SQwC9XNAzczMzMz4c0AQWDm0yPpzQKJFtvP9/HNAbef7qfH8c0DsUbgehftzQAAAAAAA/nNAKVyPwvX+c0ASg8DKof9zQP7UeOkmAXRAf2q8dJMAdEB/arx0kwJ0QAisHFpkA3RAdZMYBFYEdECuR+F6FAZ0QO58PzVeBnRAiUFg5dAGdECwcmiR7QZ0QAisHFpkB3RAy6FFtvMHdECgGi/dJAh0QHNoke18CXRAlkOLbOcJdEBxPQrXowp0QMuhRbbzCXRA7FG4HoUJdEC4HoXrUQp0QBBYObTICHRAqvHSTWIGdEDufD81XgZ0QNv5fmq8BHRAdZMYBFYCdEC0yHa+nwJ0QDeJQWDlAHRATDeJQWD9c0DdJAaBlf1zQEoMAiuH/HNAaJHtfD/9c0BqvHSTGPxzQLgehetR/HNA5/up8dL7c0BxPQrXo/pzQD0K16Nw+3NA1XjpJjH2c0BOYhBYOfpzQLpJDAIr+XNA7FG4HoUBdEDy0k1iEPxzQGDl0CLb+3NAz/dT46X5c0BvEoPAyvlzQHsUrkfh9nNAx0s3iUH0c0B7FK5H4fJzQLgehetR8HNAiUFg5dDsc0Av3SQGgedzQHWTGARW7nNA",
          "dtype": "f8"
         },
         "z": {
          "bdata": "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",
          "dtype": "f8"
         }
        },
        {
         "marker": {
          "color": "pink",
          "size": 2
         },
         "mode": "markers",
         "name": "FH",
         "opacity": 0.8,
         "type": "scatter3d",
         "x": {
          "bdata": "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",
          "dtype": "f8"
         },
         "y": {
          "bdata": "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",
          "dtype": "f8"
         },
         "z": {
          "bdata": "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",
          "dtype": "f8"
         }
        },
        {
         "marker": {
          "color": "blue",
          "size": 3
         },
         "mode": "markers",
         "name": "MTC",
         "opacity": 0.8,
         "type": "scatter3d",
         "x": {
          "bdata": "7Z48LNSKMEB/+zpwzpgwQJoIG55eqTBAkQ96Nqu+MEDHuriNBuAwQH/ZPXlYCDFATYQNT680MUBWfa62Yl8xQEYldQKaeDFAtoR80LOZMUCtad5xir4xQC2yne+n5jFA5dAi2/kOMkCpE9BE2EAyQNzXgXNGdDJA2V92Tx6WMkBa9bnair0yQB6n6Egu3zJAAd4CCYr/MkArhxbZzhczQC9uowG8JTNAutqK/WVHM0AJih9j7lozQE7RkVz+czNAZohjXdyGM0DOiNLe4JszQIj029eBszNAgZVDi2zHM0BeS8gHPdszQBWMSuoE9DNANxrAWyARNEDChqdXyjI0QGgibHh6VTRAL90kBoF1NEA+6Nms+ow0QPCFyVTBqDRARPrt68DJNECMuWsJ+eA0QDQRNjy98jRAZmZmZmYGNUBWn6ut2B81QGsr9pfdMzVAkDF3LSE/NUClTkATYVM1QA+cM6K0ZzVAHqfoSC5/NUBHA3gLJJg1QIts5/upsTVA5/up8dK9NUBWfa62Ys81QB1aZDvf3zVAQfFjzF3rNUBPr5RliPM1QJtVn6ut+DVARPrt68D5NUB1kxgEVu41QIj029eB4zVAQYLix5jLNUAydy0hH6Q1QHqlLEMcezVAWYY41sVNNUC28/3UePk0QKfoSC7/wTRA2/l+arykNEC4HoXrUWg0QCJseHqlLDRACmgibHjqM0ALJCh+jJkzQKqCUUmdQDNA8kHPZtXnMkAbnl4py8AyQHlYqDXNqzJAvJaQD3qGMkDT3uALkzkyQEmdgCbC9jFA3NeBc0bkMUAdyeU/pK8xQPMf0m9fVzFAVp+rrdgvMUC7Jw8LtRYxQKrx0k1iEDFAzhlR2hvMMEB2cRsN4K0wQEjhehSulzBAdk8eFmpNMEBDHOviNvovQPyp8dJNYjBA24r9ZffEL0CU9gZfmAwwQOOlm8Qg0C9ApHA9CtfDL0DYgXNGlFYvQJm7lpAP2i5A2/l+arwUL0AJih9j7pouQAkbnl4p6y1AVHQkl/+QLUAlBoGVQystQB1aZDvfbyxAgQTFjzH3K0AmUwWjknorQD/G3LWEvCpAMEymCkYlKkBjf9k9eXgpQNnO91Pj5ShA5BQdyeV/KEDKw0Ktaf4nQKfoSC7/oSdAWMoyxLEuJ0A0orQ3+OImQAU0ETY8vSZAsi5uowF8JkDY8PRKWWYmQLFQa5p3XCZA9GxWfa6WJkBE+u3rwNkmQE+vlGWIIydAEqW9wRdmJ0Ap7Q2+MLknQKabxCCwEihACtejcD1KKEAVjErqBLQoQLKd76fGKylAXI/C9SjcKUCTqYJRSV0qQHgLJCh+zCpAxY8xdy0hK0BL6gQ0EbYrQC6QoPgxRixAw/UoXI/iLEBU46WbxCAtQMdLN4lBwC1ASnuDL0xmLkAXSFD8GPMuQNNNYhBYeS9AiGNd3EYDMEBIUPwYc0cwQNSa5h2nmDBAH4XrUbjeMEBlGeJYFzcxQL3jFB3JhTFAutqK/WXHMUDswDkjSgsyQOQUHcnlTzJAFD/G3LWEMkBSJ6CJsMEyQMDsnjwsBDNApb3BFyZDM0BPQBNhw3MzQIV80LNZlTNA8WPMXUu4M0AT8kHPZtUzQH0/NV66+TNAL26jAbwVNEAGEhQ/xiw0QPFjzF1LODRAl/+QfvtKNECQMXctIU80QDBMpgpGVTRAKxiV1AlYNECCc0aU9lY0QPcGX5hMVTRAq8/VVuxPNEB/+zpwzkg0QKfoSC7/QTRA1XjpJjE4NEBrK/aX3TM0QAWjkjoBLTRAMuauJeQjNEDMXUvIBx00QBUdyeU/FDRAaJHtfD8VNEC9UpYhjuUzQMHKoUW24zNAak3zjlPUM0By+Q/pt78zQHRGlPYGrzNA6Nms+lydM0B3LSEf9IwzQOoENBE2bDNAfoy5awlZM0Bcj8L1KEwzQNCzWfW5OjNAfoy5awkpM0CUh4Va0xwzQDbNO07RETNAJCh+jLkLM0AFo5I6AQ0zQIQNT6+UFTNAcRsN4C0gM0D9h/Tb1zEzQEi/fR04RzNAB1+YTBVsM0Dn+6nx0n0zQCKOdXEbrTNA6SYxCKzMM0CSy39Iv+0zQJJc/kP6DTRAtRX7y+45NEBLyAc9m2U0QCDSb18HjjRApSxDHOuyNEDvycNCrdk0QPwYc9cSAjVA9dvXgXMmNUAW+8vuyUM1QJHtfD81XjVAEFg5tMh2NUBhw9MrZYk1QIenV8oylDVAKe0NvjCZNUCEDU+vlJU1QGUZ4lgXhzVAS1mGONZ1NUDbiv1l92Q1QG1Wfa62QjVAFK5H4XokNUBa9bnaij01QKfoSC7/ATVAj+TyH9LfNECTqYJRSd00QE8eFmpNwzRAdCSX/5CeNEDWxW00gHc0QM4ZUdobXDRAPL1SliEuNEDkg57Nqg80QG/whclU4TNApN++DpyzM0CzDHGsi4szQOtztRX7azNA6gQ0ETZcM0DLEMe6uE0zQNjw9EpZRjNACRueXilLM0CGWtO841QzQIzbaABvYTNAwcqhRbZzM0CwcmiR7YwzQCJseHqlrDNA9wZfmEzVM0CR7Xw/Nf4zQPLSTWIQKDRAbHh6pSxjNEDvOEVHcpk0QHh6pSxD3DRAokW28/0UNUA2qz5XW1E1QMpUwaikjjVAP8bctYTMNUD/snvysBA2QPXb14FzVjZAFR3J5T+UNkBCPujZrNo2QELPZtXnGjdA5WGh1jRfN0AJ+aBns5o3QABvgQTF3zdAArwFEhQfOECKH2PuWmI4QMP1KFyPojhA46WbxCDgOEDNzMzMzBw5QCEf9GxWXTlAlrIMcaybOUCu2F92T945QApoImx4GjpAVTAqqRNQOkCY3ZOHhXo6QKyt2F92jzpAP1dbsb+8OkADeAskKN46QHctIR/0/DpA8x/Sb18XO0Cn6Egu/zE7QE9AE2HDUztAEHo2qz53O0CASL99HZg7QMx/SL99vTtAi2zn+6nRO0ACK4cW2f47QGgibHh6JTxAfT81XrpJPEDswDkjSls8QMsQx7q4jTxAseHplbK8PEDGbTSAt+A8QGUZ4lgXBz1Aih9j7loSPUB/2T15WDg9QCNKe4MvTD1AX5hMFYxqPUCyne+nxns9QIqw4emVgj1AEFg5tMiWPUDrc7UV+5s9QIzbaABvsT1A1JrmHaeIPUCTqYJRSX09QAtGJXUCij1AFYxK6gSUPUDSb18Hzok9QJtVn6utaD1AWmQ7308tPUAj2/l+ahw9QPmgZ7PqEz1AylTBqKQePUBGtvP91Bg9QGDl0CLb+TxAryXkg57dPECZKhiV1Mk8QC7/If32xTxA+aBns+qjPEB+jLlrCYk8QIY41sVtdDxAgQTFjzFnPEBcIEHxYyw8QOC+DpwzEjxA4lgXt9HwO0BApN++Dsw7QARWDi2yvTtApSxDHOuyO0D67evAOaM7QK+UZYhjrTtALpCg+DGmO0DG3LWEfKA7QPKwUGuapztArrZif9mNO0A3iUFg5aA7QHrHKTqSWztAAAAAAABQO0Ch1jTvOOU6QAwCK4cWKTtAwFsgQfEzO0A6I0p7gx87QMgHPZtVDztAB1+YTBX8OkD+1HjpJvE6QNGRXP5D2jpAmbuWkA/KOkD1SlmGOLY6QNCzWfW5ijpA3bWEfNBjOkAGgZVDi0w6QOkmMQisLDpANs07TtEhOkA9LNSa5h06QNDVVuwvKzpABaOSOgEtOkAhsHJokS06QGpN845TNDpAL26jAbxFOkA5tMh2vl86QCKOdXEbfTpAYOXQItupOkDpSC7/Id06QFr1udqKDTtAgZVDi2w3O0C7Jw8LtWY7QGHD0ytliTtA8rBQa5q3O0BTliGOdeE7QFHaG3xhAjxAeekmMQgcPEAFo5I6AT08QE5iEFg5ZDxAmEwVjEqaPEDmriXkg748QOtztRX72zxA3EYDeAv0PEDzH9JvXwc9QJHtfD81Dj1ALUMc6+ImPUBxrIvbaFA9QEw3iUFgZT1AfdCzWfV5PUAeFmpN8449QDQRNjy9oj1AowG8BRK0PUAv3SQGgcU9QBKlvcEX1j1ACfmgZ7PqPUDOiNLe4Ps9QGWqYFRSBz5AWDm0yHYOPkCGWtO84xQ+QAfwFkhQHD5A8x/Sb18nPkDWVuwvuzc+QNobfGEyRT5AIEHxY8xNPkC+MJkqGFU+QM9m1edqWz5AwcqhRbZjPkDlYaHWNG8+QEOtad5xej5AoBov3SSGPkCKsOHplZI+QOcdp+hInj5AS+oENBGmPkDqlbIMcaw+QMnlP6Tfrj5AGw3gLZCwPkDcRgN4C7Q+QCnLEMe6qD5Aj+TyH9K/PkBEaW/whck+QOPHmLuW0D5Anzws1JrWPkAH8BZIUNw+QFCNl24S4z5AF9nO91PjPkAFo5I6Ae0+QC0hH/Rs5j5A",
          "dtype": "f8"
         },
         "y": {
          "bdata": "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",
          "dtype": "f8"
         },
         "z": {
          "bdata": "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",
          "dtype": "f8"
         }
        },
        {
         "marker": {
          "color": "darkblue",
          "size": 3
         },
         "mode": "markers",
         "name": "LTC",
         "opacity": 0.8,
         "type": "scatter3d",
         "x": {
          "bdata": "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",
          "dtype": "f8"
         },
         "y": {
          "bdata": "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",
          "dtype": "f8"
         },
         "z": {
          "bdata": "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",
          "dtype": "f8"
         }
        },
        {
         "marker": {
          "color": "lightblue",
          "size": 2
         },
         "mode": "markers",
         "name": "MM",
         "opacity": 0.8,
         "type": "scatter3d",
         "x": {
          "bdata": "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",
          "dtype": "f8"
         },
         "y": {
          "bdata": "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",
          "dtype": "f8"
         },
         "z": {
          "bdata": "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",
          "dtype": "f8"
         }
        },
        {
         "marker": {
          "color": "cyan",
          "size": 2
         },
         "mode": "markers",
         "name": "LM",
         "opacity": 0.8,
         "type": "scatter3d",
         "x": {
          "bdata": "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",
          "dtype": "f8"
         },
         "y": {
          "bdata": "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",
          "dtype": "f8"
         },
         "z": {
          "bdata": "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",
          "dtype": "f8"
         }
        },
        {
         "line": {
          "color": "red",
          "width": 6
         },
         "mode": "lines",
         "name": "Shin X",
         "type": "scatter3d",
         "x": [
          101.392,
          64.87478798397363
         ],
         "y": [
          239.643,
          254.4503621439222
         ],
         "z": [
          211.632,
          218.5047907661531
         ]
        },
        {
         "line": {
          "color": "green",
          "width": 6
         },
         "mode": "lines",
         "name": "Shin Y",
         "type": "scatter3d",
         "x": [
          101.392,
          117.67900445285821
         ],
         "y": [
          239.643,
          273.8324296702811
         ],
         "z": [
          211.632,
          224.5089711024557
         ]
        },
        {
         "line": {
          "color": "blue",
          "width": 6
         },
         "mode": "lines",
         "name": "Shin Z",
         "type": "scatter3d",
         "x": [
          101.392,
          100.28442944732333
         ],
         "y": [
          239.643,
          254.19720644211293
         ],
         "z": [
          211.632,
          174.39024437125443
         ]
        },
        {
         "line": {
          "color": "orange",
          "width": 6
         },
         "mode": "lines",
         "name": "Thigh X",
         "type": "scatter3d",
         "x": [
          112.853,
          73.1149291255103
         ],
         "y": [
          310.012,
          305.73368608849563
         ],
         "z": [
          246.211,
          244.6042164897964
         ]
        },
        {
         "line": {
          "color": "brown",
          "width": 6
         },
         "mode": "lines",
         "name": "Thigh Y",
         "type": "scatter3d",
         "x": [
          112.853,
          117.38021601081296
         ],
         "y": [
          310.012,
          275.08185351479295
         ],
         "z": [
          246.211,
          227.253437347765
         ]
        },
        {
         "line": {
          "color": "purple",
          "width": 6
         },
         "mode": "lines",
         "name": "Thigh Z",
         "type": "scatter3d",
         "x": [
          112.853,
          113.47753051604613
         ],
         "y": [
          310.012,
          290.99671939211504
         ],
         "z": [
          246.211,
          281.3966371981228
         ]
        },
        {
         "marker": {
          "color": "black",
          "size": 8,
          "symbol": "diamond"
         },
         "mode": "markers+text",
         "name": "COR",
         "text": [
          "Knee COR"
         ],
         "textposition": "top center",
         "type": "scatter3d",
         "x": [
          67.6194877469582
         ],
         "y": [
          327.8450907071077
         ],
         "z": [
          234.67658964958989
         ]
        },
        {
         "name": "COR sphere",
         "opacity": 0.25,
         "showscale": false,
         "type": "surface",
         "x": {
          "bdata": "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",
          "dtype": "f8",
          "shape": "24, 24"
         },
         "y": {
          "bdata": "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",
          "dtype": "f8",
          "shape": "24, 24"
         },
         "z": {
          "bdata": "6qNKL5KzcUA/qT0dVqxxQIYJPGfElnFA1AIv6UNzcUBsQEDwfUJxQPK0fBNbBXFAvvan3v68cEBVi+ljwmpwQKVMOs4tEHBAx5xyJuJdb0DbbX3Ot5FuQMLTFzSqv21AfJ+UCqPrbEBkBS9wlRlsQHjWORhrTWtA9Nk3ovGKakCUXNl2yNVpQMKFXIFPMWlAWwmzF5egaEBn8iteUSZoQJdtTmzFxGdAM2A0cMR9Z0C/IDEEoVJnQGsrF+AoRGdA6qNKL5KzcUA/qT0dVqxxQIYJPGfElnFA1AIv6UNzcUBsQEDwfUJxQPK0fBNbBXFAvvan3v68cEBVi+ljwmpwQKVMOs4tEHBAx5xyJuJdb0DbbX3Ot5FuQMLTFzSqv21AfJ+UCqPrbEBkBS9wlRlsQHjWORhrTWtA9Nk3ovGKakCUXNl2yNVpQMKFXIFPMWlAWwmzF5egaEBn8iteUSZoQJdtTmzFxGdAM2A0cMR9Z0C/IDEEoVJnQGsrF+AoRGdA6qNKL5KzcUA/qT0dVqxxQIYJPGfElnFA1AIv6UNzcUBsQEDwfUJxQPK0fBNbBXFAvvan3v68cEBVi+ljwmpwQKVMOs4tEHBAx5xyJuJdb0DbbX3Ot5FuQMLTFzSqv21AfJ+UCqPrbEBkBS9wlRlsQHjWORhrTWtA9Nk3ovGKakCUXNl2yNVpQMKFXIFPMWlAWwmzF5egaEBn8iteUSZoQJdtTmzFxGdAM2A0cMR9Z0C/IDEEoVJnQGsrF+AoRGdA6qNKL5KzcUA/qT0dVqxxQIYJPGfElnFA1AIv6UNzcUBsQEDwfUJxQPK0fBNbBXFAvvan3v68cEBVi+ljwmpwQKVMOs4tEHBAx5xyJuJdb0DbbX3Ot5FuQMLTFzSqv21AfJ+UCqPrbEBkBS9wlRlsQHjWORhrTWtA9Nk3ovGKakCUXNl2yNVpQMKFXIFPMWlAWwmzF5egaEBn8iteUSZoQJdtTmzFxGdAM2A0cMR9Z0C/IDEEoVJnQGsrF+AoRGdA6qNKL5KzcUA/qT0dVqxxQIYJPGfElnFA1AIv6UNzcUBsQEDwfUJxQPK0fBNbBXFAvvan3v68cEBVi+ljwmpwQKVMOs4tEHBAx5xyJuJdb0DbbX3Ot5FuQMLTFzSqv21AfJ+UCqPrbEBkBS9wlRlsQHjWORhrTWtA9Nk3ovGKakCUXNl2yNVpQMKFXIFPMWlAWwmzF5egaEBn8iteUSZoQJdtTmzFxGdAM2A0cMR9Z0C/IDEEoVJnQGsrF+AoRGdA6qNKL5KzcUA/qT0dVqxxQIYJPGfElnFA1AIv6UNzcUBsQEDwfUJxQPK0fBNbBXFAvvan3v68cEBVi+ljwmpwQKVMOs4tEHBAx5xyJuJdb0DbbX3Ot5FuQMLTFzSqv21AfJ+UCqPrbEBkBS9wlRlsQHjWORhrTWtA9Nk3ovGKakCUXNl2yNVpQMKFXIFPMWlAWwmzF5egaEBn8iteUSZoQJdtTmzFxGdAM2A0cMR9Z0C/IDEEoVJnQGsrF+AoRGdA6qNKL5KzcUA/qT0dVqxxQIYJPGfElnFA1AIv6UNzcUBsQEDwfUJxQPK0fBNbBXFAvvan3v68cEBVi+ljwmpwQKVMOs4tEHBAx5xyJuJdb0DbbX3Ot5FuQMLTFzSqv21AfJ+UCqPrbEBkBS9wlRlsQHjWORhrTWtA9Nk3ovGKakCUXNl2yNVpQMKFXIFPMWlAWwmzF5egaEBn8iteUSZoQJdtTmzFxGdAM2A0cMR9Z0C/IDEEoVJnQGsrF+AoRGdA6qNKL5KzcUA/qT0dVqxxQIYJPGfElnFA1AIv6UNzcUBsQEDwfUJxQPK0fBNbBXFAvvan3v68cEBVi+ljwmpwQKVMOs4tEHBAx5xyJuJdb0DbbX3Ot5FuQMLTFzSqv21AfJ+UCqPrbEBkBS9wlRlsQHjWORhrTWtA9Nk3ovGKakCUXNl2yNVpQMKFXIFPMWlAWwmzF5egaEBn8iteUSZoQJdtTmzFxGdAM2A0cMR9Z0C/IDEEoVJnQGsrF+AoRGdA6qNKL5KzcUA/qT0dVqxxQIYJPGfElnFA1AIv6UNzcUBsQEDwfUJxQPK0fBNbBXFAvvan3v68cEBVi+ljwmpwQKVMOs4tEHBAx5xyJuJdb0DbbX3Ot5FuQMLTFzSqv21AfJ+UCqPrbEBkBS9wlRlsQHjWORhrTWtA9Nk3ovGKakCUXNl2yNVpQMKFXIFPMWlAWwmzF5egaEBn8iteUSZoQJdtTmzFxGdAM2A0cMR9Z0C/IDEEoVJnQGsrF+AoRGdA6qNKL5KzcUA/qT0dVqxxQIYJPGfElnFA1AIv6UNzcUBsQEDwfUJxQPK0fBNbBXFAvvan3v68cEBVi+ljwmpwQKVMOs4tEHBAx5xyJuJdb0DbbX3Ot5FuQMLTFzSqv21AfJ+UCqPrbEBkBS9wlRlsQHjWORhrTWtA9Nk3ovGKakCUXNl2yNVpQMKFXIFPMWlAWwmzF5egaEBn8iteUSZoQJdtTmzFxGdAM2A0cMR9Z0C/IDEEoVJnQGsrF+AoRGdA6qNKL5KzcUA/qT0dVqxxQIYJPGfElnFA1AIv6UNzcUBsQEDwfUJxQPK0fBNbBXFAvvan3v68cEBVi+ljwmpwQKVMOs4tEHBAx5xyJuJdb0DbbX3Ot5FuQMLTFzSqv21AfJ+UCqPrbEBkBS9wlRlsQHjWORhrTWtA9Nk3ovGKakCUXNl2yNVpQMKFXIFPMWlAWwmzF5egaEBn8iteUSZoQJdtTmzFxGdAM2A0cMR9Z0C/IDEEoVJnQGsrF+AoRGdA6qNKL5KzcUA/qT0dVqxxQIYJPGfElnFA1AIv6UNzcUBsQEDwfUJxQPK0fBNbBXFAvvan3v68cEBVi+ljwmpwQKVMOs4tEHBAx5xyJuJdb0DbbX3Ot5FuQMLTFzSqv21AfJ+UCqPrbEBkBS9wlRlsQHjWORhrTWtA9Nk3ovGKakCUXNl2yNVpQMKFXIFPMWlAWwmzF5egaEBn8iteUSZoQJdtTmzFxGdAM2A0cMR9Z0C/IDEEoVJnQGsrF+AoRGdA6qNKL5KzcUA/qT0dVqxxQIYJPGfElnFA1AIv6UNzcUBsQEDwfUJxQPK0fBNbBXFAvvan3v68cEBVi+ljwmpwQKVMOs4tEHBAx5xyJuJdb0DbbX3Ot5FuQMLTFzSqv21AfJ+UCqPrbEBkBS9wlRlsQHjWORhrTWtA9Nk3ovGKakCUXNl2yNVpQMKFXIFPMWlAWwmzF5egaEBn8iteUSZoQJdtTmzFxGdAM2A0cMR9Z0C/IDEEoVJnQGsrF+AoRGdA6qNKL5KzcUA/qT0dVqxxQIYJPGfElnFA1AIv6UNzcUBsQEDwfUJxQPK0fBNbBXFAvvan3v68cEBVi+ljwmpwQKVMOs4tEHBAx5xyJuJdb0DbbX3Ot5FuQMLTFzSqv21AfJ+UCqPrbEBkBS9wlRlsQHjWORhrTWtA9Nk3ovGKakCUXNl2yNVpQMKFXIFPMWlAWwmzF5egaEBn8iteUSZoQJdtTmzFxGdAM2A0cMR9Z0C/IDEEoVJnQGsrF+AoRGdA6qNKL5KzcUA/qT0dVqxxQIYJPGfElnFA1AIv6UNzcUBsQEDwfUJxQPK0fBNbBXFAvvan3v68cEBVi+ljwmpwQKVMOs4tEHBAx5xyJuJdb0DbbX3Ot5FuQMLTFzSqv21AfJ+UCqPrbEBkBS9wlRlsQHjWORhrTWtA9Nk3ovGKakCUXNl2yNVpQMKFXIFPMWlAWwmzF5egaEBn8iteUSZoQJdtTmzFxGdAM2A0cMR9Z0C/IDEEoVJnQGsrF+AoRGdA6qNKL5KzcUA/qT0dVqxxQIYJPGfElnFA1AIv6UNzcUBsQEDwfUJxQPK0fBNbBXFAvvan3v68cEBVi+ljwmpwQKVMOs4tEHBAx5xyJuJdb0DbbX3Ot5FuQMLTFzSqv21AfJ+UCqPrbEBkBS9wlRlsQHjWORhrTWtA9Nk3ovGKakCUXNl2yNVpQMKFXIFPMWlAWwmzF5egaEBn8iteUSZoQJdtTmzFxGdAM2A0cMR9Z0C/IDEEoVJnQGsrF+AoRGdA6qNKL5KzcUA/qT0dVqxxQIYJPGfElnFA1AIv6UNzcUBsQEDwfUJxQPK0fBNbBXFAvvan3v68cEBVi+ljwmpwQKVMOs4tEHBAx5xyJuJdb0DbbX3Ot5FuQMLTFzSqv21AfJ+UCqPrbEBkBS9wlRlsQHjWORhrTWtA9Nk3ovGKakCUXNl2yNVpQMKFXIFPMWlAWwmzF5egaEBn8iteUSZoQJdtTmzFxGdAM2A0cMR9Z0C/IDEEoVJnQGsrF+AoRGdA6qNKL5KzcUA/qT0dVqxxQIYJPGfElnFA1AIv6UNzcUBsQEDwfUJxQPK0fBNbBXFAvvan3v68cEBVi+ljwmpwQKVMOs4tEHBAx5xyJuJdb0DbbX3Ot5FuQMLTFzSqv21AfJ+UCqPrbEBkBS9wlRlsQHjWORhrTWtA9Nk3ovGKakCUXNl2yNVpQMKFXIFPMWlAWwmzF5egaEBn8iteUSZoQJdtTmzFxGdAM2A0cMR9Z0C/IDEEoVJnQGsrF+AoRGdA6qNKL5KzcUA/qT0dVqxxQIYJPGfElnFA1AIv6UNzcUBsQEDwfUJxQPK0fBNbBXFAvvan3v68cEBVi+ljwmpwQKVMOs4tEHBAx5xyJuJdb0DbbX3Ot5FuQMLTFzSqv21AfJ+UCqPrbEBkBS9wlRlsQHjWORhrTWtA9Nk3ovGKakCUXNl2yNVpQMKFXIFPMWlAWwmzF5egaEBn8iteUSZoQJdtTmzFxGdAM2A0cMR9Z0C/IDEEoVJnQGsrF+AoRGdA6qNKL5KzcUA/qT0dVqxxQIYJPGfElnFA1AIv6UNzcUBsQEDwfUJxQPK0fBNbBXFAvvan3v68cEBVi+ljwmpwQKVMOs4tEHBAx5xyJuJdb0DbbX3Ot5FuQMLTFzSqv21AfJ+UCqPrbEBkBS9wlRlsQHjWORhrTWtA9Nk3ovGKakCUXNl2yNVpQMKFXIFPMWlAWwmzF5egaEBn8iteUSZoQJdtTmzFxGdAM2A0cMR9Z0C/IDEEoVJnQGsrF+AoRGdA6qNKL5KzcUA/qT0dVqxxQIYJPGfElnFA1AIv6UNzcUBsQEDwfUJxQPK0fBNbBXFAvvan3v68cEBVi+ljwmpwQKVMOs4tEHBAx5xyJuJdb0DbbX3Ot5FuQMLTFzSqv21AfJ+UCqPrbEBkBS9wlRlsQHjWORhrTWtA9Nk3ovGKakCUXNl2yNVpQMKFXIFPMWlAWwmzF5egaEBn8iteUSZoQJdtTmzFxGdAM2A0cMR9Z0C/IDEEoVJnQGsrF+AoRGdA6qNKL5KzcUA/qT0dVqxxQIYJPGfElnFA1AIv6UNzcUBsQEDwfUJxQPK0fBNbBXFAvvan3v68cEBVi+ljwmpwQKVMOs4tEHBAx5xyJuJdb0DbbX3Ot5FuQMLTFzSqv21AfJ+UCqPrbEBkBS9wlRlsQHjWORhrTWtA9Nk3ovGKakCUXNl2yNVpQMKFXIFPMWlAWwmzF5egaEBn8iteUSZoQJdtTmzFxGdAM2A0cMR9Z0C/IDEEoVJnQGsrF+AoRGdA6qNKL5KzcUA/qT0dVqxxQIYJPGfElnFA1AIv6UNzcUBsQEDwfUJxQPK0fBNbBXFAvvan3v68cEBVi+ljwmpwQKVMOs4tEHBAx5xyJuJdb0DbbX3Ot5FuQMLTFzSqv21AfJ+UCqPrbEBkBS9wlRlsQHjWORhrTWtA9Nk3ovGKakCUXNl2yNVpQMKFXIFPMWlAWwmzF5egaEBn8iteUSZoQJdtTmzFxGdAM2A0cMR9Z0C/IDEEoVJnQGsrF+AoRGdA6qNKL5KzcUA/qT0dVqxxQIYJPGfElnFA1AIv6UNzcUBsQEDwfUJxQPK0fBNbBXFAvvan3v68cEBVi+ljwmpwQKVMOs4tEHBAx5xyJuJdb0DbbX3Ot5FuQMLTFzSqv21AfJ+UCqPrbEBkBS9wlRlsQHjWORhrTWtA9Nk3ovGKakCUXNl2yNVpQMKFXIFPMWlAWwmzF5egaEBn8iteUSZoQJdtTmzFxGdAM2A0cMR9Z0C/IDEEoVJnQGsrF+AoRGdA",
          "dtype": "f8",
          "shape": "24, 24"
         }
        },
        {
         "line": {
          "color": "black",
          "width": 4
         },
         "mode": "lines",
         "name": "Shin→COR",
         "type": "scatter3d",
         "x": [
          101.392,
          67.6194877469582
         ],
         "y": [
          239.643,
          327.8450907071077
         ],
         "z": [
          211.632,
          234.67658964958989
         ]
        },
        {
         "line": {
          "color": "brown",
          "width": 4
         },
         "mode": "lines",
         "name": "Thigh→COR",
         "type": "scatter3d",
         "x": [
          112.853,
          67.6194877469582
         ],
         "y": [
          310.012,
          327.8450907071077
         ],
         "z": [
          246.211,
          234.67658964958989
         ]
        },
        {
         "line": {
          "color": "red",
          "width": 2
         },
         "mode": "lines",
         "name": "ΔX shin",
         "type": "scatter3d",
         "x": [
          101.392,
          67.6194877469582
         ],
         "y": [
          239.643,
          239.643
         ],
         "z": [
          211.632,
          211.632
         ]
        },
        {
         "line": {
          "color": "green",
          "width": 2
         },
         "mode": "lines",
         "name": "ΔY shin",
         "type": "scatter3d",
         "x": [
          101.392,
          101.392
         ],
         "y": [
          239.643,
          327.8450907071077
         ],
         "z": [
          211.632,
          211.632
         ]
        },
        {
         "line": {
          "color": "blue",
          "width": 2
         },
         "mode": "lines",
         "name": "ΔZ shin",
         "type": "scatter3d",
         "x": [
          101.392,
          101.392
         ],
         "y": [
          239.643,
          239.643
         ],
         "z": [
          211.632,
          234.67658964958989
         ]
        }
       ],
       "layout": {
        "height": 800,
        "scene": {
         "aspectmode": "data",
         "xaxis": {
          "title": {
           "text": "X (mm)"
          }
         },
         "yaxis": {
          "title": {
           "text": "Y (mm)"
          }
         },
         "zaxis": {
          "title": {
           "text": "Z (mm)"
          }
         }
        },
        "showlegend": true,
        "template": {
         "data": {
          "bar": [
           {
            "error_x": {
             "color": "#2a3f5f"
            },
            "error_y": {
             "color": "#2a3f5f"
            },
            "marker": {
             "line": {
              "color": "#E5ECF6",
              "width": 0.5
             },
             "pattern": {
              "fillmode": "overlay",
              "size": 10,
              "solidity": 0.2
             }
            },
            "type": "bar"
           }
          ],
          "barpolar": [
           {
            "marker": {
             "line": {
              "color": "#E5ECF6",
              "width": 0.5
             },
             "pattern": {
              "fillmode": "overlay",
              "size": 10,
              "solidity": 0.2
             }
            },
            "type": "barpolar"
           }
          ],
          "carpet": [
           {
            "aaxis": {
             "endlinecolor": "#2a3f5f",
             "gridcolor": "white",
             "linecolor": "white",
             "minorgridcolor": "white",
             "startlinecolor": "#2a3f5f"
            },
            "baxis": {
             "endlinecolor": "#2a3f5f",
             "gridcolor": "white",
             "linecolor": "white",
             "minorgridcolor": "white",
             "startlinecolor": "#2a3f5f"
            },
            "type": "carpet"
           }
          ],
          "choropleth": [
           {
            "colorbar": {
             "outlinewidth": 0,
             "ticks": ""
            },
            "type": "choropleth"
           }
          ],
          "contour": [
           {
            "colorbar": {
             "outlinewidth": 0,
             "ticks": ""
            },
            "colorscale": [
             [
              0,
              "#0d0887"
             ],
             [
              0.1111111111111111,
              "#46039f"
             ],
             [
              0.2222222222222222,
              "#7201a8"
             ],
             [
              0.3333333333333333,
              "#9c179e"
             ],
             [
              0.4444444444444444,
              "#bd3786"
             ],
             [
              0.5555555555555556,
              "#d8576b"
             ],
             [
              0.6666666666666666,
              "#ed7953"
             ],
             [
              0.7777777777777778,
              "#fb9f3a"
             ],
             [
              0.8888888888888888,
              "#fdca26"
             ],
             [
              1,
              "#f0f921"
             ]
            ],
            "type": "contour"
           }
          ],
          "contourcarpet": [
           {
            "colorbar": {
             "outlinewidth": 0,
             "ticks": ""
            },
            "type": "contourcarpet"
           }
          ],
          "heatmap": [
           {
            "colorbar": {
             "outlinewidth": 0,
             "ticks": ""
            },
            "colorscale": [
             [
              0,
              "#0d0887"
             ],
             [
              0.1111111111111111,
              "#46039f"
             ],
             [
              0.2222222222222222,
              "#7201a8"
             ],
             [
              0.3333333333333333,
              "#9c179e"
             ],
             [
              0.4444444444444444,
              "#bd3786"
             ],
             [
              0.5555555555555556,
              "#d8576b"
             ],
             [
              0.6666666666666666,
              "#ed7953"
             ],
             [
              0.7777777777777778,
              "#fb9f3a"
             ],
             [
              0.8888888888888888,
              "#fdca26"
             ],
             [
              1,
              "#f0f921"
             ]
            ],
            "type": "heatmap"
           }
          ],
          "histogram": [
           {
            "marker": {
             "pattern": {
              "fillmode": "overlay",
              "size": 10,
              "solidity": 0.2
             }
            },
            "type": "histogram"
           }
          ],
          "histogram2d": [
           {
            "colorbar": {
             "outlinewidth": 0,
             "ticks": ""
            },
            "colorscale": [
             [
              0,
              "#0d0887"
             ],
             [
              0.1111111111111111,
              "#46039f"
             ],
             [
              0.2222222222222222,
              "#7201a8"
             ],
             [
              0.3333333333333333,
              "#9c179e"
             ],
             [
              0.4444444444444444,
              "#bd3786"
             ],
             [
              0.5555555555555556,
              "#d8576b"
             ],
             [
              0.6666666666666666,
              "#ed7953"
             ],
             [
              0.7777777777777778,
              "#fb9f3a"
             ],
             [
              0.8888888888888888,
              "#fdca26"
             ],
             [
              1,
              "#f0f921"
             ]
            ],
            "type": "histogram2d"
           }
          ],
          "histogram2dcontour": [
           {
            "colorbar": {
             "outlinewidth": 0,
             "ticks": ""
            },
            "colorscale": [
             [
              0,
              "#0d0887"
             ],
             [
              0.1111111111111111,
              "#46039f"
             ],
             [
              0.2222222222222222,
              "#7201a8"
             ],
             [
              0.3333333333333333,
              "#9c179e"
             ],
             [
              0.4444444444444444,
              "#bd3786"
             ],
             [
              0.5555555555555556,
              "#d8576b"
             ],
             [
              0.6666666666666666,
              "#ed7953"
             ],
             [
              0.7777777777777778,
              "#fb9f3a"
             ],
             [
              0.8888888888888888,
              "#fdca26"
             ],
             [
              1,
              "#f0f921"
             ]
            ],
            "type": "histogram2dcontour"
           }
          ],
          "mesh3d": [
           {
            "colorbar": {
             "outlinewidth": 0,
             "ticks": ""
            },
            "type": "mesh3d"
           }
          ],
          "parcoords": [
           {
            "line": {
             "colorbar": {
              "outlinewidth": 0,
              "ticks": ""
             }
            },
            "type": "parcoords"
           }
          ],
          "pie": [
           {
            "automargin": true,
            "type": "pie"
           }
          ],
          "scatter": [
           {
            "fillpattern": {
             "fillmode": "overlay",
             "size": 10,
             "solidity": 0.2
            },
            "type": "scatter"
           }
          ],
          "scatter3d": [
           {
            "line": {
             "colorbar": {
              "outlinewidth": 0,
              "ticks": ""
             }
            },
            "marker": {
             "colorbar": {
              "outlinewidth": 0,
              "ticks": ""
             }
            },
            "type": "scatter3d"
           }
          ],
          "scattercarpet": [
           {
            "marker": {
             "colorbar": {
              "outlinewidth": 0,
              "ticks": ""
             }
            },
            "type": "scattercarpet"
           }
          ],
          "scattergeo": [
           {
            "marker": {
             "colorbar": {
              "outlinewidth": 0,
              "ticks": ""
             }
            },
            "type": "scattergeo"
           }
          ],
          "scattergl": [
           {
            "marker": {
             "colorbar": {
              "outlinewidth": 0,
              "ticks": ""
             }
            },
            "type": "scattergl"
           }
          ],
          "scattermap": [
           {
            "marker": {
             "colorbar": {
              "outlinewidth": 0,
              "ticks": ""
             }
            },
            "type": "scattermap"
           }
          ],
          "scattermapbox": [
           {
            "marker": {
             "colorbar": {
              "outlinewidth": 0,
              "ticks": ""
             }
            },
            "type": "scattermapbox"
           }
          ],
          "scatterpolar": [
           {
            "marker": {
             "colorbar": {
              "outlinewidth": 0,
              "ticks": ""
             }
            },
            "type": "scatterpolar"
           }
          ],
          "scatterpolargl": [
           {
            "marker": {
             "colorbar": {
              "outlinewidth": 0,
              "ticks": ""
             }
            },
            "type": "scatterpolargl"
           }
          ],
          "scatterternary": [
           {
            "marker": {
             "colorbar": {
              "outlinewidth": 0,
              "ticks": ""
             }
            },
            "type": "scatterternary"
           }
          ],
          "surface": [
           {
            "colorbar": {
             "outlinewidth": 0,
             "ticks": ""
            },
            "colorscale": [
             [
              0,
              "#0d0887"
             ],
             [
              0.1111111111111111,
              "#46039f"
             ],
             [
              0.2222222222222222,
              "#7201a8"
             ],
             [
              0.3333333333333333,
              "#9c179e"
             ],
             [
              0.4444444444444444,
              "#bd3786"
             ],
             [
              0.5555555555555556,
              "#d8576b"
             ],
             [
              0.6666666666666666,
              "#ed7953"
             ],
             [
              0.7777777777777778,
              "#fb9f3a"
             ],
             [
              0.8888888888888888,
              "#fdca26"
             ],
             [
              1,
              "#f0f921"
             ]
            ],
            "type": "surface"
           }
          ],
          "table": [
           {
            "cells": {
             "fill": {
              "color": "#EBF0F8"
             },
             "line": {
              "color": "white"
             }
            },
            "header": {
             "fill": {
              "color": "#C8D4E3"
             },
             "line": {
              "color": "white"
             }
            },
            "type": "table"
           }
          ]
         },
         "layout": {
          "annotationdefaults": {
           "arrowcolor": "#2a3f5f",
           "arrowhead": 0,
           "arrowwidth": 1
          },
          "autotypenumbers": "strict",
          "coloraxis": {
           "colorbar": {
            "outlinewidth": 0,
            "ticks": ""
           }
          },
          "colorscale": {
           "diverging": [
            [
             0,
             "#8e0152"
            ],
            [
             0.1,
             "#c51b7d"
            ],
            [
             0.2,
             "#de77ae"
            ],
            [
             0.3,
             "#f1b6da"
            ],
            [
             0.4,
             "#fde0ef"
            ],
            [
             0.5,
             "#f7f7f7"
            ],
            [
             0.6,
             "#e6f5d0"
            ],
            [
             0.7,
             "#b8e186"
            ],
            [
             0.8,
             "#7fbc41"
            ],
            [
             0.9,
             "#4d9221"
            ],
            [
             1,
             "#276419"
            ]
           ],
           "sequential": [
            [
             0,
             "#0d0887"
            ],
            [
             0.1111111111111111,
             "#46039f"
            ],
            [
             0.2222222222222222,
             "#7201a8"
            ],
            [
             0.3333333333333333,
             "#9c179e"
            ],
            [
             0.4444444444444444,
             "#bd3786"
            ],
            [
             0.5555555555555556,
             "#d8576b"
            ],
            [
             0.6666666666666666,
             "#ed7953"
            ],
            [
             0.7777777777777778,
             "#fb9f3a"
            ],
            [
             0.8888888888888888,
             "#fdca26"
            ],
            [
             1,
             "#f0f921"
            ]
           ],
           "sequentialminus": [
            [
             0,
             "#0d0887"
            ],
            [
             0.1111111111111111,
             "#46039f"
            ],
            [
             0.2222222222222222,
             "#7201a8"
            ],
            [
             0.3333333333333333,
             "#9c179e"
            ],
            [
             0.4444444444444444,
             "#bd3786"
            ],
            [
             0.5555555555555556,
             "#d8576b"
            ],
            [
             0.6666666666666666,
             "#ed7953"
            ],
            [
             0.7777777777777778,
             "#fb9f3a"
            ],
            [
             0.8888888888888888,
             "#fdca26"
            ],
            [
             1,
             "#f0f921"
            ]
           ]
          },
          "colorway": [
           "#636efa",
           "#EF553B",
           "#00cc96",
           "#ab63fa",
           "#FFA15A",
           "#19d3f3",
           "#FF6692",
           "#B6E880",
           "#FF97FF",
           "#FECB52"
          ],
          "font": {
           "color": "#2a3f5f"
          },
          "geo": {
           "bgcolor": "white",
           "lakecolor": "white",
           "landcolor": "#E5ECF6",
           "showlakes": true,
           "showland": true,
           "subunitcolor": "white"
          },
          "hoverlabel": {
           "align": "left"
          },
          "hovermode": "closest",
          "mapbox": {
           "style": "light"
          },
          "paper_bgcolor": "white",
          "plot_bgcolor": "#E5ECF6",
          "polar": {
           "angularaxis": {
            "gridcolor": "white",
            "linecolor": "white",
            "ticks": ""
           },
           "bgcolor": "#E5ECF6",
           "radialaxis": {
            "gridcolor": "white",
            "linecolor": "white",
            "ticks": ""
           }
          },
          "scene": {
           "xaxis": {
            "backgroundcolor": "#E5ECF6",
            "gridcolor": "white",
            "gridwidth": 2,
            "linecolor": "white",
            "showbackground": true,
            "ticks": "",
            "zerolinecolor": "white"
           },
           "yaxis": {
            "backgroundcolor": "#E5ECF6",
            "gridcolor": "white",
            "gridwidth": 2,
            "linecolor": "white",
            "showbackground": true,
            "ticks": "",
            "zerolinecolor": "white"
           },
           "zaxis": {
            "backgroundcolor": "#E5ECF6",
            "gridcolor": "white",
            "gridwidth": 2,
            "linecolor": "white",
            "showbackground": true,
            "ticks": "",
            "zerolinecolor": "white"
           }
          },
          "shapedefaults": {
           "line": {
            "color": "#2a3f5f"
           }
          },
          "ternary": {
           "aaxis": {
            "gridcolor": "white",
            "linecolor": "white",
            "ticks": ""
           },
           "baxis": {
            "gridcolor": "white",
            "linecolor": "white",
            "ticks": ""
           },
           "bgcolor": "#E5ECF6",
           "caxis": {
            "gridcolor": "white",
            "linecolor": "white",
            "ticks": ""
           }
          },
          "title": {
           "x": 0.05
          },
          "xaxis": {
           "automargin": true,
           "gridcolor": "white",
           "linecolor": "white",
           "ticks": "",
           "title": {
            "standoff": 15
           },
           "zerolinecolor": "white",
           "zerolinewidth": 2
          },
          "yaxis": {
           "automargin": true,
           "gridcolor": "white",
           "linecolor": "white",
           "ticks": "",
           "title": {
            "standoff": 15
           },
           "zerolinecolor": "white",
           "zerolinewidth": 2
          }
         }
        },
        "title": {
         "text": "Trial 3: Dynamic - Flexion/Extension<br><sub>Dynamic knee bending (reclassified from dataset)</sub>"
        },
        "width": 1200
       }
      }
     },
     "metadata": {},
     "output_type": "display_data"
    },
    {
     "name": "stdout",
     "output_type": "stream",
     "text": [
      "\n",
      "Generating 3D visualization for Trial 4...\n"
     ]
    },
    {
     "data": {
      "application/vnd.plotly.v1+json": {
       "config": {
        "plotlyServerURL": "https://plot.ly"
       },
       "data": [
        {
         "marker": {
          "color": "red",
          "size": 3
         },
         "mode": "markers",
         "name": "MFEC",
         "opacity": 0.8,
         "type": "scatter3d",
         "x": {
          "bdata": "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",
          "dtype": "f8"
         },
         "y": {
          "bdata": "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",
          "dtype": "f8"
         },
         "z": {
          "bdata": "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",
          "dtype": "f8"
         }
        },
        {
         "marker": {
          "color": "darkred",
          "size": 3
         },
         "mode": "markers",
         "name": "LFEC",
         "opacity": 0.8,
         "type": "scatter3d",
         "x": {
          "bdata": "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",
          "dtype": "f8"
         },
         "y": {
          "bdata": "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",
          "dtype": "f8"
         },
         "z": {
          "bdata": "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",
          "dtype": "f8"
         }
        },
        {
         "marker": {
          "color": "pink",
          "size": 2
         },
         "mode": "markers",
         "name": "FH",
         "opacity": 0.8,
         "type": "scatter3d",
         "x": {
          "bdata": "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",
          "dtype": "f8"
         },
         "y": {
          "bdata": "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",
          "dtype": "f8"
         },
         "z": {
          "bdata": "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",
          "dtype": "f8"
         }
        },
        {
         "marker": {
          "color": "blue",
          "size": 3
         },
         "mode": "markers",
         "name": "MTC",
         "opacity": 0.8,
         "type": "scatter3d",
         "x": {
          "bdata": "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",
          "dtype": "f8"
         },
         "y": {
          "bdata": "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",
          "dtype": "f8"
         },
         "z": {
          "bdata": "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",
          "dtype": "f8"
         }
        },
        {
         "marker": {
          "color": "darkblue",
          "size": 3
         },
         "mode": "markers",
         "name": "LTC",
         "opacity": 0.8,
         "type": "scatter3d",
         "x": {
          "bdata": "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",
          "dtype": "f8"
         },
         "y": {
          "bdata": "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",
          "dtype": "f8"
         },
         "z": {
          "bdata": "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",
          "dtype": "f8"
         }
        },
        {
         "marker": {
          "color": "lightblue",
          "size": 2
         },
         "mode": "markers",
         "name": "MM",
         "opacity": 0.8,
         "type": "scatter3d",
         "x": {
          "bdata": "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",
          "dtype": "f8"
         },
         "y": {
          "bdata": "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",
          "dtype": "f8"
         },
         "z": {
          "bdata": "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",
          "dtype": "f8"
         }
        },
        {
         "marker": {
          "color": "cyan",
          "size": 2
         },
         "mode": "markers",
         "name": "LM",
         "opacity": 0.8,
         "type": "scatter3d",
         "x": {
          "bdata": "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",
          "dtype": "f8"
         },
         "y": {
          "bdata": "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",
          "dtype": "f8"
         },
         "z": {
          "bdata": "Gy/dJAZ5XkB7FK5H4XJeQD81XrpJbF5A9P3UeOlmXkCJQWDl0GJeQA4tsp3vX15A5/up8dJdXkDP91PjpVteQM/3U+OlW15AXrpJDAJbXkBoke18P11eQHE9CtejYF5AL90kBoFlXkDufD81XmpeQHNoke18b15A5/up8dJ1XkD4U+Olm3xeQE5iEFg5hF5AWDm0yHaOXkDfT42XbppeQH9qvHSTqF5ARrbz/dS4XkB9PzVeusleQMHKoUW2015AiUFg5dDiXkBmZmZmZvZeQESLbOf7AV9ABFYOLbINX0BCYOXQIhtfQEjhehSuJ19AYhBYObQwX0CPwvUoXDdfQJMYBFYOPV9AxSCwcmhBX0BI4XoUrkdfQOF6FK5HUV9Anu+nxktfX0BzaJHtfG9fQBsv3SQGgV9A2/l+aryUX0AnMQisHKpfQD81XrpJxF9A6SYxCKzkX0AIrBxaZANgQMUgsHJoFWBAnu+nxksnYECkcD0K1zdgQAaBlUOLSGBAtvP91HhZYEBKDAIrh2pgQOxRuB6Fe2BAEoPAyqGNYEC4HoXrUaBgQOxRuB6Fs2BAvp8aL93EYEB3vp8aL9lgQFCNl24S62BAJzEIrBz+YEAbL90kBhFhQKwcWmQ7I2FAeekmMQg0YUCe76fGS0NhQOf7qfHSUWFAmG4Sg8BeYUCyne+nxmthQDEIrBxaeGFAHVpkO9+DYUC8dJMYBI5hQMHKoUW2l2FAF9nO91OfYUCamZmZmaVhQKRwPQrXq2FAvHSTGASyYUAj2/l+arhhQFg5tMh2vmFA7FG4HoXDYUAMAiuHFslhQMl2vp8az2FAmG4Sg8DWYUBCYOXQIt9hQBBYObTI6mFAkxgEVg71YUArhxbZzv9hQNEi2/l+CmJA6SYxCKwUYkB1kxgEVh5iQPyp8dJNJmJAqvHSTWIwYkAfhetRuDpiQHWTGARWRmJAUrgehetRYkBMN4lBYF1iQNV46SYxaGJAppvEILByYkAhsHJokX1iQEjhehSuh2JA8KfGSzeRYkCoxks3iZliQGiR7Xw/oWJAc2iR7XynYkBcj8L1KKxiQDMzMzMzr2JAPQrXo3CxYkAAAAAAALRiQIts5/uptWJASOF6FK63YkBaZDvfT7liQB+F61G4umJACKwcWmS7YkAX2c73U7tiQJhuEoPAumJAqvHSTWK4YkBoke18P7ViQJqZmZmZsWJAdZMYBFauYkC0yHa+n6piQI/C9Shcp2JARrbz/dSkYkCsHFpkO6NiQEw3iUFgoWJApHA9CtefYkDByqFFtp9iQHE9CtejoGJAtMh2vp+iYkBxPQrXo6RiQI2XbhKDqGJAPzVeukmsYkB56SYxCLBiQI/C9Shcs2JAMzMzMzO3YkAIrBxaZLtiQIlBYOXQvmJAUI2XbhLDYkCe76fGS8diQG3n+6nxymJATDeJQWDNYkB7FK5H4c5iQHNoke18z2JAj8L1KFzPYkBKDAIrh85iQGiR7Xw/zWJAEoPAyqHJYkBMN4lBYMliQArXo3A9ymJAsp3vp8bLYkDb+X5qvMxiQKjGSzeJzWJA9ihcj8LNYkDb+X5qvMxiQG3n+6nxymJAvp8aL93IYkC6SQwCK8diQKwcWmQ7x2JAFK5H4XrIYkBYObTIdspiQARWDi2yzWJABFYOLbLRYkBOYhBYOdRiQArXo3A91mJAK4cW2c7XYkDNzMzMzNhiQPT91Hjp2mJAfT81XrrdYkB9PzVeuuFiQK5H4XoU5mJAmpmZmZnpYkAX2c73U+tiQDEIrBxa7GJAz/dT46XvYkApXI/C9fBiQIlBYOXQ8mJAN4lBYOX0YkDHSzeJQfxiQKAaL90kAmNAukkMAisHY0BQjZduEgtjQN0kBoGVD2NAXI/C9SgUY0CiRbbz/RhjQGiR7Xw/HWNAy6FFtvMhY0CPwvUoXCdjQP7UeOkmLWNA8tJNYhA0Y0AxCKwcWjxjQCcxCKwcRmNAIbByaJFRY0CgGi/dJF5jQJhuEoPAamNAQmDl0CJ3Y0DJdr6fGoNjQMHKoUW2j2NAKVyPwvWcY0BmZmZmZqpjQMdLN4lBuGNAqvHSTWLEY0BaZDvfT9FjQCPb+X5q3GNAmG4Sg8DmY0BI4XoUru9jQD81XrpJ+GNALbKd76f+Y0BxPQrXowRkQD0K16NwCWRAsHJoke0MZEDsUbgehQ9kQB+F61G4EmRAc2iR7XwPZECJQWDl0A5kQB1aZDvfC2RA46WbxCAIZEDdJAaBlQNkQPLSTWIQ/GNA2c73U+PxY0DhehSuR+ljQHNoke1832NAy6FFtvPVY0BQjZduEstjQE5iEFg5wGNAbxKDwMq1Y0BI4XoUrqtjQCGwcmiRoWNAnu+nxkuXY0B3vp8aL41jQCuHFtnOg2NAyXa+nxp7Y0Cq8dJNYnRjQKabxCCwbmNAKVyPwvVoY0Aj2/l+amRjQAAAAAAAYGNAN4lBYOVcY0CPwvUoXFtjQHE9CtejWGNACtejcD1WY0A5tMh2vlNjQFpkO99PUWNAexSuR+FOY0CiRbbz/UxjQBfZzvdTS2NARIts5/tJY0AAAAAAAEhjQGDl0CLbRWNAj8L1KFxDY0A9CtejcEFjQG3n+6nxPmNAsHJoke08Y0ArhxbZzjtjQMHKoUW2O2NA5dAi2/k6Y0Boke18PzljQGZmZmZmNmNAvHSTGAQyY0CsHFpkOytjQDMzMzMzI2NAgZVDi2wbY0DRItv5fhJjQN0kBoGVB2NA16NwPQr7YkBI4XoUrutiQJhuEoPA2mJA+FPjpZvIYkAj2/l+arRiQBfZzvdTn2JAf2q8dJOIYkAxCKwcWnBiQCcxCKwcVmJARIts5/s5YkA9CtejcB1iQAaBlUOLAGJA4XoUrkflYUC0yHa+n8phQJMYBFYOsWFArBxaZDuXYUAbL90kBn1hQMUgsHJoYWFA8KfGSzdFYUAnMQisHCphQOxRuB6FD2FAxSCwcmj1YECwcmiR7dxgQKrx0k1ixGBAVg4tsp2rYEDP91PjpZNgQPp+arx0e2BAGy/dJAZlYEBI4XoUrk9gQBKDwMqhOWBATDeJQWAlYEB9PzVeuhFgQAisHFpk+19AoBov3STWX0Boke18P7VfQKwcWmQ7l19A+FPjpZt8X0DsUbgehWNfQEw3iUFgTV9Af2q8dJM4X0Ce76fGSydfQMdLN4lBGF9ACKwcWmQLX0Dl0CLb+f5eQEw3iUFg9V5APQrXo3DtXkAdWmQ73+deQCGwcmiR5V5AaJHtfD/lXkBkO99PjedeQM/3U+Ol615AUrgehevxXkB9PzVeuvleQLTIdr6fAl9AhxbZzvcLX0ASg8DKoRVfQEa28/3UIF9AWmQ7308tX0DTTWIQWDlfQGZmZmZmRl9AQmDl0CJTX0Dl0CLb+V5fQN0kBoGVY19AMzMzMzNrX0AGgZVDi3RfQClcj8L1gF9AHVpkO9+HX0BGtvP91JBfQCcxCKwcml9AppvEILCiX0AZBFYOLapfQIGVQ4tsr19A8KfGSzexX0A5tMh2vq9fQFpkO99PrV9AMQisHFqsX0DTTWIQWKlfQMuhRbbzpV9AObTIdr6fX0CPwvUoXJdfQEoMAiuHjl9ATDeJQWCFX0Dn+6nx0n1fQFTjpZvEeF9AokW28/10X0Cyne+nxnNfQEoMAiuHdl9AaJHtfD99X0BWDi2ynYdfQOf7qfHSlV9Ax0s3iUGoX0DsUbgehbtfQLbz/dR40V9AppvEILDqX0CLbOf7qQFgQEoMAiuHDmBA3SQGgZUbYEDFILByaClgQKRwPQrXN2BAiUFg5dBGYEBSuB6F61VgQJMYBFYOZWBAf2q8dJN0YEA3iUFg5YRgQGDl0CLblWBAmG4Sg8CmYEB3vp8aL7lgQBfZzvdTy2BArkfhehTeYEAbL90kBu1gQLTIdr6f/mBAXI/C9SgQYUDTTWIQWCFhQI/C9ShcM2FAF9nO91NHYUB56SYxCFxhQDVeukkMcmFAUI2XbhKHYUAMAiuHFp1hQCcxCKwcsmFAw/UoXI/GYUAv3SQGgdlhQEa28/3U7GFAH4XrUbj+YUDy0k1iEBBiQJHtfD81ImJAHVpkO98zYkAbL90kBkViQJHtfD81VmJA9P3UeOlmYkCYbhKDwHZiQKJFtvP9hGJA2c73U+ORYkA5tMh2vpNiQKwcWmQ7q2JA4XoUrke5YkCNl24Sg8hiQLTIdr6f2mJAJzEIrBzqYkDFILByaPliQA4tsp3vB2NA6SYxCKwUY0DNzMzMzCBjQM/3U+OlK2NAWDm0yHY2Y0BSuB6F60FjQFK4HoXrTWNAGQRWDi1aY0BKDAIrh2ZjQBKDwMqhcWNAObTIdr57Y0BaZDvfT4VjQCUGgZVDj2NA2/l+aryYY0CgGi/dJKJjQBkEVg4tqmNATDeJQWCxY0A/NV66SbhjQC/dJAaBvWNArkfhehTCY0D2KFyPwsVjQCUGgZVDx2NA7FG4HoXHY0BEi2zn+8VjQNEi2/l+wmNAFK5H4Xq8Y0B56SYxCLRjQI/C9Shcq2NAEoPAyqGhY0BQjZduEpdjQFyPwvUojGNAnu+nxkt/Y0DP91PjpW9jQC2yne+nXmNAlkOLbOdLY0CWQ4ts5zdjQGZmZmZmImNA4XoUrkcNY0BxPQrXo/hiQOkmMQis5GJAxSCwcmjRYkC0yHa+n75iQJ7vp8ZLq2JAx0s3iUGYYkBcj8L1KIRiQAIrhxbZbmJAi2zn+6lZYkBvEoPAykViQPp+arx0M2JAaJHtfD8hYkBeukkMAg9iQA4tsp3v+2FAoBov3STqYUAhsHJokdlhQDMzMzMzy2FAGy/dJAa9YUBWDi2ynbNhQLKd76fGq2FAZDvfT42jYUBaZDvfT5lhQHWTGARWjmFAF9nO91ODYUBSuB6F63lhQPT91HjpcmFA8KfGSzdtYUC28/3UeGlhQJhuEoPAZmFAeekmMQhkYUAhsHJokWFhQLTIdr6fXmFASOF6FK5bYUDjpZvEIFhhQEw3iUFgVWFAEFg5tMhSYUCWQ4ts509hQIXrUbgeTWFArkfhehRKYUCPwvUoXEdhQL6fGi/dRGFAQmDl0CJDYUCF61G4HkFhQFyPwvUoQGFA1XjpJjFAYUAAAAAAAEBhQBfZzvdTP2FAhxbZzvc7YUCamZmZmTlhQKabxCCwNmFA8KfGSzc1YUAj2/l+ajBhQKAaL90kKmFAVg4tsp0jYUAIrBxaZBthQBkEVg4tEmFAK4cW2c4HYUBaZDvfT/1gQK5H4XoU8mBAoBov3STmYEDhehSuR9lgQL6fGi/dzGBApHA9Cte/YEAOLbKd77NgQMl2vp8ap2BARIts5/uZYEBKDAIrh4pgQFCNl24Se2BAPzVeuklsYEAfhetRuF5gQFpkO99PUWBAg8DKoUVGYEA/NV66STxgQA4tsp3vM2BAoBov3SQuYECR7Xw/NSpgQAaBlUOLKGBAarx0kxgoYECNl24SgyhgQBsv3SQGKWBAN4lBYOUoYEDNzMzMzChgQLx0kxgEKmBAFK5H4XosYECF61G4HjFgQHsUrkfhNmBAqvHSTWI8YEAQWDm0yEJgQA4tsp3vR2BAfT81XrpJYEAMAiuHFk1gQOkmMQisUGBAoBov3SRWYECHFtnO91dgQDEIrBxaXGBAQmDl0CJjYEB9PzVeumVgQM/3U+OlZ2BAeekmMQhoYED4U+Olm2hgQI2XbhKDaGBAVOOlm8RoYEDy0k1iEGhgQFYOLbKdZ2BAdZMYBFZmYEDb+X5qvGRgQOf7qfHSYWBAZmZmZmZeYEA730+Nl1pgQBBYObTIVmBA9P3UeOlSYEBI4XoUrk9gQEa28/3UTGBACtejcD1KYECHFtnO90dgQLTIdr6fRmBAfT81XrpFYEBGtvP91ERgQDeJQWDlRGBAmpmZmZlFYEA730+Nl0ZgQF66SQwCR2BAeekmMQhIYEB3vp8aL0lgQFK4HoXrSWBAUI2XbhJLYEArhxbZzktgQM3MzMzMTGBAoBov3SROYECWQ4ts509gQOf7qfHSUWBAukkMAitTYEAUrkfhelRgQNEi2/l+VmBAGy/dJAZZYEC+nxov3VxgQCGwcmiRYWBAdZMYBFZmYEDfT42XbmpgQGDl0CLbbWBAGy/dJAZxYECWQ4ts53NgQKAaL90kdmBAMzMzMzN3YECyne+nxndgQPT91HjpdmBATDeJQWB1YED2KFyPwnFgQP7UeOkmbWBAZmZmZmZmYEA=",
          "dtype": "f8"
         }
        },
        {
         "line": {
          "color": "red",
          "width": 6
         },
         "mode": "lines",
         "name": "Shin X",
         "type": "scatter3d",
         "x": [
          95.449,
          57.194699383273644
         ],
         "y": [
          228.599,
          239.3411843700158
         ],
         "z": [
          126.639,
          122.03313859460387
         ]
        },
        {
         "line": {
          "color": "green",
          "width": 6
         },
         "mode": "lines",
         "name": "Shin Y",
         "type": "scatter3d",
         "x": [
          95.449,
          106.08659702510379
         ],
         "y": [
          228.599,
          267.12894640398093
         ],
         "z": [
          126.639,
          128.15054213896244
         ]
        },
        {
         "line": {
          "color": "blue",
          "width": 6
         },
         "mode": "lines",
         "name": "Shin Z",
         "type": "scatter3d",
         "x": [
          95.449,
          100.29152143584649
         ],
         "y": [
          228.599,
          228.8196922448659
         ],
         "z": [
          126.639,
          86.93382047545404
         ]
        },
        {
         "line": {
          "color": "orange",
          "width": 6
         },
         "mode": "lines",
         "name": "Thigh X",
         "type": "scatter3d",
         "x": [
          104.291,
          64.45258866992867
         ],
         "y": [
          300.605,
          299.1666769674489
         ],
         "z": [
          132.062,
          128.77076777633692
         ]
        },
        {
         "line": {
          "color": "brown",
          "width": 6
         },
         "mode": "lines",
         "name": "Thigh Y",
         "type": "scatter3d",
         "x": [
          104.291,
          106.27205506816871
         ],
         "y": [
          300.605,
          261.23239943273774
         ],
         "z": [
          132.062,
          125.28898402573108
         ]
        },
        {
         "line": {
          "color": "purple",
          "width": 6
         },
         "mode": "lines",
         "name": "Thigh Z",
         "type": "scatter3d",
         "x": [
          104.291,
          101.29493532898096
         ],
         "y": [
          300.605,
          293.6963422848681
         ],
         "z": [
          132.062,
          171.34678134166234
         ]
        },
        {
         "marker": {
          "color": "black",
          "size": 8,
          "symbol": "diamond"
         },
         "mode": "markers+text",
         "name": "COR",
         "text": [
          "Knee COR"
         ],
         "textposition": "top center",
         "type": "scatter3d",
         "x": [
          57.50706412127377
         ],
         "y": [
          279.9197263634208
         ],
         "z": [
          129.86748747201196
         ]
        },
        {
         "name": "COR sphere",
         "opacity": 0.25,
         "showscale": false,
         "type": "surface",
         "x": {
          "bdata": "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",
          "dtype": "f8",
          "shape": "24, 24"
         },
         "y": {
          "bdata": "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",
          "dtype": "f8",
          "shape": "24, 24"
         },
         "z": {
          "bdata": "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",
          "dtype": "f8",
          "shape": "24, 24"
         }
        },
        {
         "line": {
          "color": "black",
          "width": 4
         },
         "mode": "lines",
         "name": "Shin→COR",
         "type": "scatter3d",
         "x": [
          95.449,
          57.50706412127377
         ],
         "y": [
          228.599,
          279.9197263634208
         ],
         "z": [
          126.639,
          129.86748747201196
         ]
        },
        {
         "line": {
          "color": "brown",
          "width": 4
         },
         "mode": "lines",
         "name": "Thigh→COR",
         "type": "scatter3d",
         "x": [
          104.291,
          57.50706412127377
         ],
         "y": [
          300.605,
          279.9197263634208
         ],
         "z": [
          132.062,
          129.86748747201196
         ]
        },
        {
         "line": {
          "color": "red",
          "width": 2
         },
         "mode": "lines",
         "name": "ΔX shin",
         "type": "scatter3d",
         "x": [
          95.449,
          57.50706412127377
         ],
         "y": [
          228.599,
          228.599
         ],
         "z": [
          126.639,
          126.639
         ]
        },
        {
         "line": {
          "color": "green",
          "width": 2
         },
         "mode": "lines",
         "name": "ΔY shin",
         "type": "scatter3d",
         "x": [
          95.449,
          95.449
         ],
         "y": [
          228.599,
          279.9197263634208
         ],
         "z": [
          126.639,
          126.639
         ]
        },
        {
         "line": {
          "color": "blue",
          "width": 2
         },
         "mode": "lines",
         "name": "ΔZ shin",
         "type": "scatter3d",
         "x": [
          95.449,
          95.449
         ],
         "y": [
          228.599,
          228.599
         ],
         "z": [
          126.639,
          129.86748747201196
         ]
        }
       ],
       "layout": {
        "height": 800,
        "scene": {
         "aspectmode": "data",
         "xaxis": {
          "title": {
           "text": "X (mm)"
          }
         },
         "yaxis": {
          "title": {
           "text": "Y (mm)"
          }
         },
         "zaxis": {
          "title": {
           "text": "Z (mm)"
          }
         }
        },
        "showlegend": true,
        "template": {
         "data": {
          "bar": [
           {
            "error_x": {
             "color": "#2a3f5f"
            },
            "error_y": {
             "color": "#2a3f5f"
            },
            "marker": {
             "line": {
              "color": "#E5ECF6",
              "width": 0.5
             },
             "pattern": {
              "fillmode": "overlay",
              "size": 10,
              "solidity": 0.2
             }
            },
            "type": "bar"
           }
          ],
          "barpolar": [
           {
            "marker": {
             "line": {
              "color": "#E5ECF6",
              "width": 0.5
             },
             "pattern": {
              "fillmode": "overlay",
              "size": 10,
              "solidity": 0.2
             }
            },
            "type": "barpolar"
           }
          ],
          "carpet": [
           {
            "aaxis": {
             "endlinecolor": "#2a3f5f",
             "gridcolor": "white",
             "linecolor": "white",
             "minorgridcolor": "white",
             "startlinecolor": "#2a3f5f"
            },
            "baxis": {
             "endlinecolor": "#2a3f5f",
             "gridcolor": "white",
             "linecolor": "white",
             "minorgridcolor": "white",
             "startlinecolor": "#2a3f5f"
            },
            "type": "carpet"
           }
          ],
          "choropleth": [
           {
            "colorbar": {
             "outlinewidth": 0,
             "ticks": ""
            },
            "type": "choropleth"
           }
          ],
          "contour": [
           {
            "colorbar": {
             "outlinewidth": 0,
             "ticks": ""
            },
            "colorscale": [
             [
              0,
              "#0d0887"
             ],
             [
              0.1111111111111111,
              "#46039f"
             ],
             [
              0.2222222222222222,
              "#7201a8"
             ],
             [
              0.3333333333333333,
              "#9c179e"
             ],
             [
              0.4444444444444444,
              "#bd3786"
             ],
             [
              0.5555555555555556,
              "#d8576b"
             ],
             [
              0.6666666666666666,
              "#ed7953"
             ],
             [
              0.7777777777777778,
              "#fb9f3a"
             ],
             [
              0.8888888888888888,
              "#fdca26"
             ],
             [
              1,
              "#f0f921"
             ]
            ],
            "type": "contour"
           }
          ],
          "contourcarpet": [
           {
            "colorbar": {
             "outlinewidth": 0,
             "ticks": ""
            },
            "type": "contourcarpet"
           }
          ],
          "heatmap": [
           {
            "colorbar": {
             "outlinewidth": 0,
             "ticks": ""
            },
            "colorscale": [
             [
              0,
              "#0d0887"
             ],
             [
              0.1111111111111111,
              "#46039f"
             ],
             [
              0.2222222222222222,
              "#7201a8"
             ],
             [
              0.3333333333333333,
              "#9c179e"
             ],
             [
              0.4444444444444444,
              "#bd3786"
             ],
             [
              0.5555555555555556,
              "#d8576b"
             ],
             [
              0.6666666666666666,
              "#ed7953"
             ],
             [
              0.7777777777777778,
              "#fb9f3a"
             ],
             [
              0.8888888888888888,
              "#fdca26"
             ],
             [
              1,
              "#f0f921"
             ]
            ],
            "type": "heatmap"
           }
          ],
          "histogram": [
           {
            "marker": {
             "pattern": {
              "fillmode": "overlay",
              "size": 10,
              "solidity": 0.2
             }
            },
            "type": "histogram"
           }
          ],
          "histogram2d": [
           {
            "colorbar": {
             "outlinewidth": 0,
             "ticks": ""
            },
            "colorscale": [
             [
              0,
              "#0d0887"
             ],
             [
              0.1111111111111111,
              "#46039f"
             ],
             [
              0.2222222222222222,
              "#7201a8"
             ],
             [
              0.3333333333333333,
              "#9c179e"
             ],
             [
              0.4444444444444444,
              "#bd3786"
             ],
             [
              0.5555555555555556,
              "#d8576b"
             ],
             [
              0.6666666666666666,
              "#ed7953"
             ],
             [
              0.7777777777777778,
              "#fb9f3a"
             ],
             [
              0.8888888888888888,
              "#fdca26"
             ],
             [
              1,
              "#f0f921"
             ]
            ],
            "type": "histogram2d"
           }
          ],
          "histogram2dcontour": [
           {
            "colorbar": {
             "outlinewidth": 0,
             "ticks": ""
            },
            "colorscale": [
             [
              0,
              "#0d0887"
             ],
             [
              0.1111111111111111,
              "#46039f"
             ],
             [
              0.2222222222222222,
              "#7201a8"
             ],
             [
              0.3333333333333333,
              "#9c179e"
             ],
             [
              0.4444444444444444,
              "#bd3786"
             ],
             [
              0.5555555555555556,
              "#d8576b"
             ],
             [
              0.6666666666666666,
              "#ed7953"
             ],
             [
              0.7777777777777778,
              "#fb9f3a"
             ],
             [
              0.8888888888888888,
              "#fdca26"
             ],
             [
              1,
              "#f0f921"
             ]
            ],
            "type": "histogram2dcontour"
           }
          ],
          "mesh3d": [
           {
            "colorbar": {
             "outlinewidth": 0,
             "ticks": ""
            },
            "type": "mesh3d"
           }
          ],
          "parcoords": [
           {
            "line": {
             "colorbar": {
              "outlinewidth": 0,
              "ticks": ""
             }
            },
            "type": "parcoords"
           }
          ],
          "pie": [
           {
            "automargin": true,
            "type": "pie"
           }
          ],
          "scatter": [
           {
            "fillpattern": {
             "fillmode": "overlay",
             "size": 10,
             "solidity": 0.2
            },
            "type": "scatter"
           }
          ],
          "scatter3d": [
           {
            "line": {
             "colorbar": {
              "outlinewidth": 0,
              "ticks": ""
             }
            },
            "marker": {
             "colorbar": {
              "outlinewidth": 0,
              "ticks": ""
             }
            },
            "type": "scatter3d"
           }
          ],
          "scattercarpet": [
           {
            "marker": {
             "colorbar": {
              "outlinewidth": 0,
              "ticks": ""
             }
            },
            "type": "scattercarpet"
           }
          ],
          "scattergeo": [
           {
            "marker": {
             "colorbar": {
              "outlinewidth": 0,
              "ticks": ""
             }
            },
            "type": "scattergeo"
           }
          ],
          "scattergl": [
           {
            "marker": {
             "colorbar": {
              "outlinewidth": 0,
              "ticks": ""
             }
            },
            "type": "scattergl"
           }
          ],
          "scattermap": [
           {
            "marker": {
             "colorbar": {
              "outlinewidth": 0,
              "ticks": ""
             }
            },
            "type": "scattermap"
           }
          ],
          "scattermapbox": [
           {
            "marker": {
             "colorbar": {
              "outlinewidth": 0,
              "ticks": ""
             }
            },
            "type": "scattermapbox"
           }
          ],
          "scatterpolar": [
           {
            "marker": {
             "colorbar": {
              "outlinewidth": 0,
              "ticks": ""
             }
            },
            "type": "scatterpolar"
           }
          ],
          "scatterpolargl": [
           {
            "marker": {
             "colorbar": {
              "outlinewidth": 0,
              "ticks": ""
             }
            },
            "type": "scatterpolargl"
           }
          ],
          "scatterternary": [
           {
            "marker": {
             "colorbar": {
              "outlinewidth": 0,
              "ticks": ""
             }
            },
            "type": "scatterternary"
           }
          ],
          "surface": [
           {
            "colorbar": {
             "outlinewidth": 0,
             "ticks": ""
            },
            "colorscale": [
             [
              0,
              "#0d0887"
             ],
             [
              0.1111111111111111,
              "#46039f"
             ],
             [
              0.2222222222222222,
              "#7201a8"
             ],
             [
              0.3333333333333333,
              "#9c179e"
             ],
             [
              0.4444444444444444,
              "#bd3786"
             ],
             [
              0.5555555555555556,
              "#d8576b"
             ],
             [
              0.6666666666666666,
              "#ed7953"
             ],
             [
              0.7777777777777778,
              "#fb9f3a"
             ],
             [
              0.8888888888888888,
              "#fdca26"
             ],
             [
              1,
              "#f0f921"
             ]
            ],
            "type": "surface"
           }
          ],
          "table": [
           {
            "cells": {
             "fill": {
              "color": "#EBF0F8"
             },
             "line": {
              "color": "white"
             }
            },
            "header": {
             "fill": {
              "color": "#C8D4E3"
             },
             "line": {
              "color": "white"
             }
            },
            "type": "table"
           }
          ]
         },
         "layout": {
          "annotationdefaults": {
           "arrowcolor": "#2a3f5f",
           "arrowhead": 0,
           "arrowwidth": 1
          },
          "autotypenumbers": "strict",
          "coloraxis": {
           "colorbar": {
            "outlinewidth": 0,
            "ticks": ""
           }
          },
          "colorscale": {
           "diverging": [
            [
             0,
             "#8e0152"
            ],
            [
             0.1,
             "#c51b7d"
            ],
            [
             0.2,
             "#de77ae"
            ],
            [
             0.3,
             "#f1b6da"
            ],
            [
             0.4,
             "#fde0ef"
            ],
            [
             0.5,
             "#f7f7f7"
            ],
            [
             0.6,
             "#e6f5d0"
            ],
            [
             0.7,
             "#b8e186"
            ],
            [
             0.8,
             "#7fbc41"
            ],
            [
             0.9,
             "#4d9221"
            ],
            [
             1,
             "#276419"
            ]
           ],
           "sequential": [
            [
             0,
             "#0d0887"
            ],
            [
             0.1111111111111111,
             "#46039f"
            ],
            [
             0.2222222222222222,
             "#7201a8"
            ],
            [
             0.3333333333333333,
             "#9c179e"
            ],
            [
             0.4444444444444444,
             "#bd3786"
            ],
            [
             0.5555555555555556,
             "#d8576b"
            ],
            [
             0.6666666666666666,
             "#ed7953"
            ],
            [
             0.7777777777777778,
             "#fb9f3a"
            ],
            [
             0.8888888888888888,
             "#fdca26"
            ],
            [
             1,
             "#f0f921"
            ]
           ],
           "sequentialminus": [
            [
             0,
             "#0d0887"
            ],
            [
             0.1111111111111111,
             "#46039f"
            ],
            [
             0.2222222222222222,
             "#7201a8"
            ],
            [
             0.3333333333333333,
             "#9c179e"
            ],
            [
             0.4444444444444444,
             "#bd3786"
            ],
            [
             0.5555555555555556,
             "#d8576b"
            ],
            [
             0.6666666666666666,
             "#ed7953"
            ],
            [
             0.7777777777777778,
             "#fb9f3a"
            ],
            [
             0.8888888888888888,
             "#fdca26"
            ],
            [
             1,
             "#f0f921"
            ]
           ]
          },
          "colorway": [
           "#636efa",
           "#EF553B",
           "#00cc96",
           "#ab63fa",
           "#FFA15A",
           "#19d3f3",
           "#FF6692",
           "#B6E880",
           "#FF97FF",
           "#FECB52"
          ],
          "font": {
           "color": "#2a3f5f"
          },
          "geo": {
           "bgcolor": "white",
           "lakecolor": "white",
           "landcolor": "#E5ECF6",
           "showlakes": true,
           "showland": true,
           "subunitcolor": "white"
          },
          "hoverlabel": {
           "align": "left"
          },
          "hovermode": "closest",
          "mapbox": {
           "style": "light"
          },
          "paper_bgcolor": "white",
          "plot_bgcolor": "#E5ECF6",
          "polar": {
           "angularaxis": {
            "gridcolor": "white",
            "linecolor": "white",
            "ticks": ""
           },
           "bgcolor": "#E5ECF6",
           "radialaxis": {
            "gridcolor": "white",
            "linecolor": "white",
            "ticks": ""
           }
          },
          "scene": {
           "xaxis": {
            "backgroundcolor": "#E5ECF6",
            "gridcolor": "white",
            "gridwidth": 2,
            "linecolor": "white",
            "showbackground": true,
            "ticks": "",
            "zerolinecolor": "white"
           },
           "yaxis": {
            "backgroundcolor": "#E5ECF6",
            "gridcolor": "white",
            "gridwidth": 2,
            "linecolor": "white",
            "showbackground": true,
            "ticks": "",
            "zerolinecolor": "white"
           },
           "zaxis": {
            "backgroundcolor": "#E5ECF6",
            "gridcolor": "white",
            "gridwidth": 2,
            "linecolor": "white",
            "showbackground": true,
            "ticks": "",
            "zerolinecolor": "white"
           }
          },
          "shapedefaults": {
           "line": {
            "color": "#2a3f5f"
           }
          },
          "ternary": {
           "aaxis": {
            "gridcolor": "white",
            "linecolor": "white",
            "ticks": ""
           },
           "baxis": {
            "gridcolor": "white",
            "linecolor": "white",
            "ticks": ""
           },
           "bgcolor": "#E5ECF6",
           "caxis": {
            "gridcolor": "white",
            "linecolor": "white",
            "ticks": ""
           }
          },
          "title": {
           "x": 0.05
          },
          "xaxis": {
           "automargin": true,
           "gridcolor": "white",
           "linecolor": "white",
           "ticks": "",
           "title": {
            "standoff": 15
           },
           "zerolinecolor": "white",
           "zerolinewidth": 2
          },
          "yaxis": {
           "automargin": true,
           "gridcolor": "white",
           "linecolor": "white",
           "ticks": "",
           "title": {
            "standoff": 15
           },
           "zerolinecolor": "white",
           "zerolinewidth": 2
          }
         }
        },
        "title": {
         "text": "Trial 4: Dynamic - Varus/Valgus<br><sub>Medial-lateral knee motion (reclassified from dataset)</sub>"
        },
        "width": 1200
       }
      }
     },
     "metadata": {},
     "output_type": "display_data"
    },
    {
     "name": "stdout",
     "output_type": "stream",
     "text": [
      "\n",
      "✓ All visualizations generated\n"
     ]
    }
   ],
   "source": [
    "# ====== 5. 3D VISUALIZATION FOR EACH TRIAL ======\n",
    "def trace_points(name, pts, color, size=3):\n",
    "    \"\"\"Create scatter trace for 3D points.\"\"\"\n",
    "    return go.Scatter3d(\n",
    "        x=pts[:,0], y=pts[:,1], z=pts[:,2],\n",
    "        mode='markers', marker=dict(size=size, color=color),\n",
    "        name=name, opacity=0.8\n",
    ")\n",
    "\n",
    "def trace_arrow(name, origin, vec, color, width=6):\n",
    "    \"\"\"Create line trace for vector arrow.\"\"\"\n",
    "    p2 = origin + vec\n",
    "    return go.Scatter3d(\n",
    "        x=[origin[0], p2[0]],\n",
    "        y=[origin[1], p2[1]],\n",
    "        z=[origin[2], p2[2]],\n",
    "        mode='lines', line=dict(width=width, color=color),\n",
    "        name=name\n",
    ")\n",
    "\n",
    "def sphere_surface(center, radius, res=24):\n",
    "    \"\"\"Create semi-transparent sphere surface.\"\"\"\n",
    "    u = np.linspace(0, 2*np.pi, res)\n",
    "    v = np.linspace(0, np.pi, res)\n",
    "    x = center[0] + radius * np.outer(np.cos(u), np.sin(v))\n",
    "    y = center[1] + radius * np.outer(np.sin(u), np.sin(v))\n",
    "    z = center[2] + radius * np.outer(np.ones_like(u), np.cos(v))\n",
    "    return go.Surface(x=x, y=y, z=z, opacity=0.25, showscale=False, name='COR sphere')\n",
    "\n",
    "# Create visualization for each trial\n",
    "for trial_name, results in trials_results.items():\n",
    "    print(f\"\\nGenerating 3D visualization for {trial_name}...\")\n",
    "    \n",
    "    data = results[\"data\"]\n",
    "    center = results[\"center\"]\n",
    "    r = results[\"radius\"]\n",
    "    shinOrigin = results[\"shinOrigin\"]\n",
    "    thighOrigin = results[\"thighOrigin\"]\n",
    "    Rsh = results[\"Rsh\"]\n",
    "    Rth = results[\"Rth\"]\n",
    "    deltaShin = results[\"deltaShin\"]\n",
    "    deltaThigh = results[\"deltaThigh\"]\n",
    "    \n",
    "    traces = []\n",
    "    \n",
    "    # Plot anatomical markers\n",
    "    # Thigh markers (red tones)\n",
    "    traces += [trace_points(\"MFEC\", data[\"MFEC\"], \"red\", size=3)]\n",
    "    traces += [trace_points(\"LFEC\", data[\"LFEC\"], \"darkred\", size=3)]\n",
    "    traces += [trace_points(\"FH\", data[\"FH\"], \"pink\", size=2)]\n",
    "    \n",
    "    # Shin markers (blue tones)\n",
    "    traces += [trace_points(\"MTC\", data[\"MTC\"], \"blue\", size=3)]\n",
    "    traces += [trace_points(\"LTC\", data[\"LTC\"], \"darkblue\", size=3)]\n",
    "    traces += [trace_points(\"MM\", data[\"MM\"], \"lightblue\", size=2)]\n",
    "    traces += [trace_points(\"LM\", data[\"LM\"], \"cyan\", size=2)]\n",
    "    \n",
    "    # Coordinate system visualization (at reference frame)\n",
    "    scale = 40.0\n",
    "    traces += [\n",
    "        trace_arrow(\"Shin X\",  shinOrigin,  scale * Rsh[:,0], \"red\"),\n",
    "        trace_arrow(\"Shin Y\",  shinOrigin,  scale * Rsh[:,1], \"green\"),\n",
    "        trace_arrow(\"Shin Z\",  shinOrigin,  scale * Rsh[:,2], \"blue\"),\n",
    "        trace_arrow(\"Thigh X\", thighOrigin, scale * Rth[:,0], \"orange\"),\n",
    "        trace_arrow(\"Thigh Y\", thighOrigin, scale * Rth[:,1], \"brown\"),\n",
    "        trace_arrow(\"Thigh Z\", thighOrigin, scale * Rth[:,2], \"purple\"),\n",
    "]\n",
    "    \n",
    "    # Center of rotation and optional sphere\n",
    "    traces += [go.Scatter3d(x=[center[0]], y=[center[1]], z=[center[2]],\n",
    "                            mode='markers+text',\n",
    "                            marker=dict(size=8, color='black', symbol='diamond'),\n",
    "                            text=[\"Knee COR\"],\n",
    "                            textposition=\"top center\",\n",
    "                            name=\"COR\")]\n",
    "    if isinstance(r, float) and np.isfinite(r) and r > 1e-6:\n",
    "        traces += [sphere_surface(center, r)]\n",
    "    \n",
    "    # Connection lines showing distances\n",
    "    traces += [\n",
    "        trace_arrow(\"Shin→COR\",  shinOrigin,  center - shinOrigin,  \"black\", width=4),\n",
    "        trace_arrow(\"Thigh→COR\", thighOrigin, center - thighOrigin, \"brown\", width=4),\n",
    "]\n",
    "    \n",
    "    # Per-axis component vectors (from shin origin)\n",
    "    traces += [\n",
    "        trace_arrow(\"ΔX shin\", shinOrigin, np.array([deltaShin[0], 0, 0]), \"red\", width=2),\n",
    "        trace_arrow(\"ΔY shin\", shinOrigin, np.array([0, deltaShin[1], 0]), \"green\", width=2),\n",
    "        trace_arrow(\"ΔZ shin\", shinOrigin, np.array([0, 0, deltaShin[2]]), \"blue\", width=2),\n",
    "]\n",
    "    \n",
    "    layout = go.Layout(\n",
    "        scene=dict(\n",
    "            xaxis_title=\"X (mm)\", \n",
    "            yaxis_title=\"Y (mm)\", \n",
    "            zaxis_title=\"Z (mm)\",\n",
    "            aspectmode='data'\n",
    "        ),\n",
    "        title=f\"{trial_name}: {results['type']}<br><sub>{results['description']}</sub>\",\n",
    "        showlegend=True, \n",
    "        height=800,\n",
    "        width=1200\n",
    ")\n",
    "    \n",
    "    fig = go.Figure(data=traces, layout=layout)\n",
    "    fig.show()\n",
    "    \n",
    "print(\"\\n✓ All visualizations generated\")"
   ]
  }
 ],
 "metadata": {
  "kernelspec": {
   "display_name": "DDW-Mini-Project-1-4xB4rsex",
   "language": "python",
   "name": "python3"
  },
  "language_info": {
   "codemirror_mode": {
    "name": "ipython",
    "version": 3
   },
   "file_extension": ".py",
   "mimetype": "text/x-python",
   "name": "python",
   "nbconvert_exporter": "python",
   "pygments_lexer": "ipython3",
   "version": "3.11.14"
  }
 },
 "nbformat": 4,
 "nbformat_minor": 5
}
